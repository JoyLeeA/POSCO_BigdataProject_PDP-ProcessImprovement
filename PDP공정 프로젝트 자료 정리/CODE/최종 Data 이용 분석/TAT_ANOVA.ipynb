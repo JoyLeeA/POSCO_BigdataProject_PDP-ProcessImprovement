{
 "cells": [
  {
   "cell_type": "code",
   "execution_count": 1,
   "metadata": {},
   "outputs": [],
   "source": [
    "# 데이터 구성 패키지 DataFrame\n",
    "import pandas as pd\n",
    "\n",
    "# 행렬 연산 패키지\n",
    "import numpy as np\n",
    "\n",
    "# 시각화, subpackage pyplot\n",
    "import matplotlib\n",
    "import matplotlib.pyplot as plt\n",
    "\n",
    "# 통계적 시각화 추세 패키지\n",
    "import seaborn as sns\n",
    "\n",
    "# 통계 분석 패키지\n",
    "import scipy.stats\n",
    "from scipy import stats\n",
    "import statsmodels.api as sm\n",
    "from statsmodels.stats.proportion import proportions_ztest # 비율 검정\n",
    "\n",
    "from statsmodels.formula.api import ols\n",
    "import statsmodels.formula.api as smf\n",
    "from statsmodels.stats.anova import anova_lm\n",
    "\n",
    "# jupyter notebook 내 그래프를 바로 그리기 위한 설정\n",
    "%matplotlib inline"
   ]
  },
  {
   "cell_type": "code",
   "execution_count": 2,
   "metadata": {},
   "outputs": [
    {
     "data": {
      "text/html": [
       "<div>\n",
       "<style scoped>\n",
       "    .dataframe tbody tr th:only-of-type {\n",
       "        vertical-align: middle;\n",
       "    }\n",
       "\n",
       "    .dataframe tbody tr th {\n",
       "        vertical-align: top;\n",
       "    }\n",
       "\n",
       "    .dataframe thead th {\n",
       "        text-align: right;\n",
       "    }\n",
       "</style>\n",
       "<table border=\"1\" class=\"dataframe\">\n",
       "  <thead>\n",
       "    <tr style=\"text-align: right;\">\n",
       "      <th></th>\n",
       "      <th>JUDGE</th>\n",
       "      <th>LOT_ID</th>\n",
       "      <th>PANEL_ID</th>\n",
       "      <th>TIME_1BLACK</th>\n",
       "      <th>TIME_2AG</th>\n",
       "      <th>TIME_3BUS</th>\n",
       "      <th>TIME_4DIELEC</th>\n",
       "      <th>TIME_5MGO</th>\n",
       "      <th>TIME_6PHOS</th>\n",
       "      <th>TIME_7PASTE</th>\n",
       "      <th>...</th>\n",
       "      <th>TAT_3BUS_2FIRE</th>\n",
       "      <th>TAT_4DIELEC_FIRE</th>\n",
       "      <th>TAT_5MGO</th>\n",
       "      <th>TAT_6PHOS_1R_1DISPENSER</th>\n",
       "      <th>TAT_6PHOS_1R_2DRY</th>\n",
       "      <th>TAT_6PHOS_2G_1DISPENSER</th>\n",
       "      <th>TAT_6PHOS_2G_2DRY</th>\n",
       "      <th>TAT_6PHOS_3B_1DISPENSER</th>\n",
       "      <th>TAT_6PHOS_4FIRE</th>\n",
       "      <th>TAT_8AGING</th>\n",
       "    </tr>\n",
       "  </thead>\n",
       "  <tbody>\n",
       "    <tr>\n",
       "      <td>0</td>\n",
       "      <td>양품</td>\n",
       "      <td>LOT-101</td>\n",
       "      <td>PNL-01</td>\n",
       "      <td>2019-04-01T00:01</td>\n",
       "      <td>2019-04-01T05:21</td>\n",
       "      <td>2019-04-01T11:01</td>\n",
       "      <td>2019-04-06T13:41</td>\n",
       "      <td>2019-04-11T03:41</td>\n",
       "      <td>2019-04-03T20:20</td>\n",
       "      <td>2019-04-11T12:41</td>\n",
       "      <td>...</td>\n",
       "      <td>6900</td>\n",
       "      <td>6447</td>\n",
       "      <td>530</td>\n",
       "      <td>76</td>\n",
       "      <td>333</td>\n",
       "      <td>88</td>\n",
       "      <td>396</td>\n",
       "      <td>86</td>\n",
       "      <td>7140</td>\n",
       "      <td>10074</td>\n",
       "    </tr>\n",
       "    <tr>\n",
       "      <td>1</td>\n",
       "      <td>양품</td>\n",
       "      <td>LOT-101</td>\n",
       "      <td>PNL-02</td>\n",
       "      <td>2019-04-01T00:45</td>\n",
       "      <td>2019-04-01T06:05</td>\n",
       "      <td>2019-04-01T11:45</td>\n",
       "      <td>2019-04-06T14:25</td>\n",
       "      <td>2019-04-11T04:25</td>\n",
       "      <td>2019-04-03T21:04</td>\n",
       "      <td>2019-04-11T13:25</td>\n",
       "      <td>...</td>\n",
       "      <td>6693</td>\n",
       "      <td>6600</td>\n",
       "      <td>530</td>\n",
       "      <td>80</td>\n",
       "      <td>438</td>\n",
       "      <td>82</td>\n",
       "      <td>381</td>\n",
       "      <td>84</td>\n",
       "      <td>6956</td>\n",
       "      <td>10075</td>\n",
       "    </tr>\n",
       "    <tr>\n",
       "      <td>2</td>\n",
       "      <td>양품</td>\n",
       "      <td>LOT-101</td>\n",
       "      <td>PNL-03</td>\n",
       "      <td>2019-04-01T01:29</td>\n",
       "      <td>2019-04-01T06:49</td>\n",
       "      <td>2019-04-01T12:29</td>\n",
       "      <td>2019-04-06T15:09</td>\n",
       "      <td>2019-04-11T05:09</td>\n",
       "      <td>2019-04-03T21:48</td>\n",
       "      <td>2019-04-11T14:09</td>\n",
       "      <td>...</td>\n",
       "      <td>6747</td>\n",
       "      <td>6597</td>\n",
       "      <td>530</td>\n",
       "      <td>80</td>\n",
       "      <td>420</td>\n",
       "      <td>92</td>\n",
       "      <td>396</td>\n",
       "      <td>86</td>\n",
       "      <td>6840</td>\n",
       "      <td>10645</td>\n",
       "    </tr>\n",
       "    <tr>\n",
       "      <td>3</td>\n",
       "      <td>양품</td>\n",
       "      <td>LOT-101</td>\n",
       "      <td>PNL-04</td>\n",
       "      <td>2019-04-01T02:13</td>\n",
       "      <td>2019-04-01T07:33</td>\n",
       "      <td>2019-04-01T13:13</td>\n",
       "      <td>2019-04-06T15:53</td>\n",
       "      <td>2019-04-11T05:53</td>\n",
       "      <td>2019-04-03T22:32</td>\n",
       "      <td>2019-04-11T14:53</td>\n",
       "      <td>...</td>\n",
       "      <td>7137</td>\n",
       "      <td>6420</td>\n",
       "      <td>530</td>\n",
       "      <td>78</td>\n",
       "      <td>429</td>\n",
       "      <td>78</td>\n",
       "      <td>399</td>\n",
       "      <td>90</td>\n",
       "      <td>6720</td>\n",
       "      <td>10076</td>\n",
       "    </tr>\n",
       "    <tr>\n",
       "      <td>4</td>\n",
       "      <td>양품</td>\n",
       "      <td>LOT-101</td>\n",
       "      <td>PNL-05</td>\n",
       "      <td>2019-04-01T02:58</td>\n",
       "      <td>2019-04-01T08:18</td>\n",
       "      <td>2019-04-01T13:58</td>\n",
       "      <td>2019-04-06T16:38</td>\n",
       "      <td>2019-04-11T06:38</td>\n",
       "      <td>2019-04-03T23:17</td>\n",
       "      <td>2019-04-11T15:38</td>\n",
       "      <td>...</td>\n",
       "      <td>7527</td>\n",
       "      <td>6453</td>\n",
       "      <td>540</td>\n",
       "      <td>76</td>\n",
       "      <td>363</td>\n",
       "      <td>82</td>\n",
       "      <td>393</td>\n",
       "      <td>84</td>\n",
       "      <td>7110</td>\n",
       "      <td>10074</td>\n",
       "    </tr>\n",
       "  </tbody>\n",
       "</table>\n",
       "<p>5 rows × 27 columns</p>\n",
       "</div>"
      ],
      "text/plain": [
       "  JUDGE   LOT_ID PANEL_ID       TIME_1BLACK          TIME_2AG  \\\n",
       "0    양품  LOT-101   PNL-01  2019-04-01T00:01  2019-04-01T05:21   \n",
       "1    양품  LOT-101   PNL-02  2019-04-01T00:45  2019-04-01T06:05   \n",
       "2    양품  LOT-101   PNL-03  2019-04-01T01:29  2019-04-01T06:49   \n",
       "3    양품  LOT-101   PNL-04  2019-04-01T02:13  2019-04-01T07:33   \n",
       "4    양품  LOT-101   PNL-05  2019-04-01T02:58  2019-04-01T08:18   \n",
       "\n",
       "          TIME_3BUS      TIME_4DIELEC         TIME_5MGO        TIME_6PHOS  \\\n",
       "0  2019-04-01T11:01  2019-04-06T13:41  2019-04-11T03:41  2019-04-03T20:20   \n",
       "1  2019-04-01T11:45  2019-04-06T14:25  2019-04-11T04:25  2019-04-03T21:04   \n",
       "2  2019-04-01T12:29  2019-04-06T15:09  2019-04-11T05:09  2019-04-03T21:48   \n",
       "3  2019-04-01T13:13  2019-04-06T15:53  2019-04-11T05:53  2019-04-03T22:32   \n",
       "4  2019-04-01T13:58  2019-04-06T16:38  2019-04-11T06:38  2019-04-03T23:17   \n",
       "\n",
       "        TIME_7PASTE  ... TAT_3BUS_2FIRE  TAT_4DIELEC_FIRE  TAT_5MGO  \\\n",
       "0  2019-04-11T12:41  ...           6900              6447       530   \n",
       "1  2019-04-11T13:25  ...           6693              6600       530   \n",
       "2  2019-04-11T14:09  ...           6747              6597       530   \n",
       "3  2019-04-11T14:53  ...           7137              6420       530   \n",
       "4  2019-04-11T15:38  ...           7527              6453       540   \n",
       "\n",
       "   TAT_6PHOS_1R_1DISPENSER  TAT_6PHOS_1R_2DRY  TAT_6PHOS_2G_1DISPENSER  \\\n",
       "0                       76                333                       88   \n",
       "1                       80                438                       82   \n",
       "2                       80                420                       92   \n",
       "3                       78                429                       78   \n",
       "4                       76                363                       82   \n",
       "\n",
       "   TAT_6PHOS_2G_2DRY  TAT_6PHOS_3B_1DISPENSER  TAT_6PHOS_4FIRE  TAT_8AGING  \n",
       "0                396                       86             7140       10074  \n",
       "1                381                       84             6956       10075  \n",
       "2                396                       86             6840       10645  \n",
       "3                399                       90             6720       10076  \n",
       "4                393                       84             7110       10074  \n",
       "\n",
       "[5 rows x 27 columns]"
      ]
     },
     "execution_count": 2,
     "metadata": {},
     "output_type": "execute_result"
    }
   ],
   "source": [
    "df = pd.read_csv('MFG_TAT_NULL_COL_OUT.csv', engine='python', encoding='EUC-KR')\n",
    "df.head()"
   ]
  },
  {
   "cell_type": "code",
   "execution_count": 9,
   "metadata": {},
   "outputs": [
    {
     "data": {
      "text/plain": [
       "Index(['TAT_1BLACK_1PRINT', 'TAT_1BLACK_2RTD', 'TAT_2AG_1PRINT',\n",
       "       'TAT_2AG_2RTD', 'TAT_2AG_3EXPOSURE', 'TAT_3BUS_1DEVELOP',\n",
       "       'TAT_3BUS_2FIRE', 'TAT_4DIELEC_FIRE', 'TAT_5MGO',\n",
       "       'TAT_6PHOS_1R_1DISPENSER', 'TAT_6PHOS_1R_2DRY',\n",
       "       'TAT_6PHOS_2G_1DISPENSER', 'TAT_6PHOS_2G_2DRY',\n",
       "       'TAT_6PHOS_3B_1DISPENSER', 'TAT_6PHOS_4FIRE', 'TAT_8AGING'],\n",
       "      dtype='object')"
      ]
     },
     "execution_count": 9,
     "metadata": {},
     "output_type": "execute_result"
    }
   ],
   "source": [
    "col = df.columns\n",
    "col = col[11:]\n",
    "col"
   ]
  },
  {
   "cell_type": "code",
   "execution_count": 11,
   "metadata": {},
   "outputs": [
    {
     "name": "stdout",
     "output_type": "stream",
     "text": [
      "              df        sum_sq    mean_sq         F   PR(>F)\n",
      "C(JUDGE)     1.0     92.677549  92.677549  4.185771  0.04083\n",
      "Residual  3980.0  88121.561778  22.141096       NaN      NaN\n"
     ]
    }
   ],
   "source": [
    "lm = ols('TAT_1BLACK_1PRINT~C(JUDGE)', df).fit()\n",
    "print(anova_lm(lm))\n",
    "\n"
   ]
  },
  {
   "cell_type": "code",
   "execution_count": 12,
   "metadata": {},
   "outputs": [
    {
     "name": "stdout",
     "output_type": "stream",
     "text": [
      "              df         sum_sq      mean_sq         F    PR(>F)\n",
      "C(JUDGE)     1.0    2014.676668  2014.676668  11.97806  0.000544\n",
      "Residual  3980.0  669425.026998   168.197243       NaN       NaN\n"
     ]
    }
   ],
   "source": [
    "lm = ols('TAT_1BLACK_2RTD~C(JUDGE)', df).fit()\n",
    "print(anova_lm(lm))\n",
    "\n"
   ]
  },
  {
   "cell_type": "code",
   "execution_count": 13,
   "metadata": {},
   "outputs": [
    {
     "name": "stdout",
     "output_type": "stream",
     "text": [
      "              df        sum_sq    mean_sq         F    PR(>F)\n",
      "C(JUDGE)     1.0      1.812327   1.812327  0.178944  0.672305\n",
      "Residual  3980.0  40309.042771  10.127900       NaN       NaN\n"
     ]
    }
   ],
   "source": [
    "lm = ols('TAT_2AG_1PRINT~C(JUDGE)', df).fit()\n",
    "print(anova_lm(lm))"
   ]
  },
  {
   "cell_type": "code",
   "execution_count": 14,
   "metadata": {},
   "outputs": [
    {
     "name": "stdout",
     "output_type": "stream",
     "text": [
      "              df        sum_sq     mean_sq          F    PR(>F)\n",
      "C(JUDGE)     1.0    138.938323  138.938323  22.552538  0.000002\n",
      "Residual  3980.0  24519.392164    6.160651        NaN       NaN\n"
     ]
    }
   ],
   "source": [
    "lm = ols('TAT_2AG_2RTD~C(JUDGE)', df).fit()\n",
    "print(anova_lm(lm))\n",
    "\n"
   ]
  },
  {
   "cell_type": "code",
   "execution_count": 15,
   "metadata": {},
   "outputs": [
    {
     "name": "stdout",
     "output_type": "stream",
     "text": [
      "              df        sum_sq      mean_sq         F    PR(>F)\n",
      "C(JUDGE)     1.0  6.787831e+03  6787.830768  3.627725  0.056896\n",
      "Residual  3980.0  7.446972e+06  1871.098591       NaN       NaN\n"
     ]
    }
   ],
   "source": [
    "lm = ols('TAT_2AG_3EXPOSURE~C(JUDGE)', df).fit()\n",
    "print(anova_lm(lm))"
   ]
  },
  {
   "cell_type": "code",
   "execution_count": 16,
   "metadata": {},
   "outputs": [
    {
     "name": "stdout",
     "output_type": "stream",
     "text": [
      "              df        sum_sq      mean_sq          F    PR(>F)\n",
      "C(JUDGE)     1.0  7.683382e+03  7683.382416  17.258198  0.000033\n",
      "Residual  3980.0  1.771904e+06   445.201895        NaN       NaN\n"
     ]
    }
   ],
   "source": [
    "lm = ols('TAT_3BUS_1DEVELOP~C(JUDGE)', df).fit()\n",
    "print(anova_lm(lm))\n",
    "\n"
   ]
  },
  {
   "cell_type": "code",
   "execution_count": 17,
   "metadata": {},
   "outputs": [
    {
     "name": "stdout",
     "output_type": "stream",
     "text": [
      "              df        sum_sq       mean_sq         F    PR(>F)\n",
      "C(JUDGE)     1.0  5.498364e+04  54983.641098  0.829916  0.362352\n",
      "Residual  3980.0  2.636832e+08  66252.055373       NaN       NaN\n"
     ]
    }
   ],
   "source": [
    "lm = ols('TAT_3BUS_2FIRE~C(JUDGE)', df).fit()\n",
    "print(anova_lm(lm))"
   ]
  },
  {
   "cell_type": "code",
   "execution_count": 18,
   "metadata": {},
   "outputs": [
    {
     "name": "stdout",
     "output_type": "stream",
     "text": [
      "              df        sum_sq       mean_sq          F        PR(>F)\n",
      "C(JUDGE)     1.0  2.200860e+06  2.200860e+06  54.733256  1.674792e-13\n",
      "Residual  3980.0  1.600384e+08  4.021065e+04        NaN           NaN\n"
     ]
    }
   ],
   "source": [
    "lm = ols('TAT_4DIELEC_FIRE~C(JUDGE)', df).fit()\n",
    "print(anova_lm(lm))\n",
    "\n",
    "\n"
   ]
  },
  {
   "cell_type": "code",
   "execution_count": 19,
   "metadata": {},
   "outputs": [
    {
     "name": "stdout",
     "output_type": "stream",
     "text": [
      "              df        sum_sq     mean_sq         F    PR(>F)\n",
      "C(JUDGE)     1.0  2.910886e+01   29.108855  0.072991  0.787044\n",
      "Residual  3980.0  1.587218e+06  398.798367       NaN       NaN\n"
     ]
    }
   ],
   "source": [
    "lm = ols('TAT_5MGO~C(JUDGE)', df).fit()\n",
    "print(anova_lm(lm))"
   ]
  },
  {
   "cell_type": "code",
   "execution_count": 20,
   "metadata": {},
   "outputs": [
    {
     "name": "stdout",
     "output_type": "stream",
     "text": [
      "              df         sum_sq     mean_sq         F    PR(>F)\n",
      "C(JUDGE)     1.0     571.006098  571.006098  5.699884  0.017012\n",
      "Residual  3980.0  398710.646338  100.178554       NaN       NaN\n"
     ]
    }
   ],
   "source": [
    "lm = ols('TAT_6PHOS_1R_1DISPENSER~C(JUDGE)', df).fit()\n",
    "print(anova_lm(lm))\n",
    "\n"
   ]
  },
  {
   "cell_type": "code",
   "execution_count": 21,
   "metadata": {},
   "outputs": [
    {
     "name": "stdout",
     "output_type": "stream",
     "text": [
      "              df        sum_sq       mean_sq         F    PR(>F)\n",
      "C(JUDGE)     1.0  1.090678e+04  10906.778286  2.721473  0.099085\n",
      "Residual  3980.0  1.595054e+07   4007.673944       NaN       NaN\n"
     ]
    }
   ],
   "source": [
    "lm = ols('TAT_6PHOS_1R_2DRY~C(JUDGE)', df).fit()\n",
    "print(anova_lm(lm))"
   ]
  },
  {
   "cell_type": "code",
   "execution_count": 22,
   "metadata": {},
   "outputs": [
    {
     "name": "stdout",
     "output_type": "stream",
     "text": [
      "              df         sum_sq     mean_sq         F    PR(>F)\n",
      "C(JUDGE)     1.0     141.580860  141.580860  1.342309  0.246697\n",
      "Residual  3980.0  419792.912359  105.475606       NaN       NaN\n"
     ]
    }
   ],
   "source": [
    "lm = ols('TAT_6PHOS_2G_1DISPENSER~C(JUDGE)', df).fit()\n",
    "print(anova_lm(lm))"
   ]
  },
  {
   "cell_type": "code",
   "execution_count": 23,
   "metadata": {},
   "outputs": [
    {
     "name": "stdout",
     "output_type": "stream",
     "text": [
      "              df        sum_sq      mean_sq        F   PR(>F)\n",
      "C(JUDGE)     1.0  7.201329e+03  7201.328983  7.89931  0.00497\n",
      "Residual  3980.0  3.628328e+06   911.640216      NaN      NaN\n"
     ]
    }
   ],
   "source": [
    "lm = ols('TAT_6PHOS_2G_2DRY~C(JUDGE)', df).fit()\n",
    "print(anova_lm(lm))\n",
    "\n"
   ]
  },
  {
   "cell_type": "code",
   "execution_count": 24,
   "metadata": {},
   "outputs": [
    {
     "name": "stdout",
     "output_type": "stream",
     "text": [
      "              df         sum_sq    mean_sq         F    PR(>F)\n",
      "C(JUDGE)     1.0       1.509819   1.509819  0.017029  0.896182\n",
      "Residual  3980.0  352877.117002  88.662592       NaN       NaN\n"
     ]
    }
   ],
   "source": [
    "lm = ols('TAT_6PHOS_3B_1DISPENSER~C(JUDGE)', df).fit()\n",
    "print(anova_lm(lm))"
   ]
  },
  {
   "cell_type": "code",
   "execution_count": 25,
   "metadata": {},
   "outputs": [
    {
     "name": "stdout",
     "output_type": "stream",
     "text": [
      "              df        sum_sq        mean_sq         F    PR(>F)\n",
      "C(JUDGE)     1.0  6.347920e+05  634791.954249  3.648506  0.056191\n",
      "Residual  3980.0  6.924675e+08  173986.800293       NaN       NaN\n"
     ]
    }
   ],
   "source": [
    "lm = ols('TAT_6PHOS_4FIRE~C(JUDGE)', df).fit()\n",
    "print(anova_lm(lm))"
   ]
  },
  {
   "cell_type": "code",
   "execution_count": 26,
   "metadata": {},
   "outputs": [
    {
     "name": "stdout",
     "output_type": "stream",
     "text": [
      "              df        sum_sq       mean_sq         F  PR(>F)\n",
      "C(JUDGE)     1.0  5.377135e+04  53771.354207  2.021154  0.1552\n",
      "Residual  3980.0  1.058850e+08  26604.277571       NaN     NaN\n"
     ]
    }
   ],
   "source": [
    "lm = ols('TAT_8AGING~C(JUDGE)', df).fit()\n",
    "print(anova_lm(lm))"
   ]
  },
  {
   "cell_type": "markdown",
   "metadata": {},
   "source": [
    "설비간 유의한 공정\n",
    "\n",
    "TAT_1BLACK_1PRINT\n",
    "0.04\n",
    "\n",
    "TAT_1BLACK_2RTD\n",
    "0.00\n",
    "\n",
    "TAT_2AG_2RTD\n",
    "0.00\n",
    "\n",
    "TAT_3BUS_1DEVELOP\n",
    "0.00\n",
    "\n",
    "TAT_4DIELEC_FIRE\n",
    "0.00\n",
    "\n",
    "TAT_6PHOS_1R_1DISPENSER\n",
    "0.02\n",
    "\n",
    "TAT_6PHOS_2G_2DRY\n",
    "0.01\n"
   ]
  }
 ],
 "metadata": {
  "kernelspec": {
   "display_name": "Python 3",
   "language": "python",
   "name": "python3"
  },
  "language_info": {
   "codemirror_mode": {
    "name": "ipython",
    "version": 3
   },
   "file_extension": ".py",
   "mimetype": "text/x-python",
   "name": "python",
   "nbconvert_exporter": "python",
   "pygments_lexer": "ipython3",
   "version": "3.7.6"
  }
 },
 "nbformat": 4,
 "nbformat_minor": 2
}
