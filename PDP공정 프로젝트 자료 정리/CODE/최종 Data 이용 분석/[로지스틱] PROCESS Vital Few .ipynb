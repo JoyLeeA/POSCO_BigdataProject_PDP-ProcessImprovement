{
 "cells": [
  {
   "cell_type": "code",
   "execution_count": 4,
   "metadata": {},
   "outputs": [],
   "source": [
    "# 데이터 구성: Series, DataFrame\n",
    "import pandas as pd\n",
    "import numpy as np\n",
    "\n",
    "\n",
    "#탐색적 분석을 위한 패키지\n",
    "import matplotlib\n",
    "import matplotlib.pyplot as plt\n",
    "import seaborn as sns\n",
    "from sklearn.preprocessing import scale,minmax_scale,robust_scale\n",
    "from scipy.stats import shapiro\n",
    "\n",
    "\n",
    "from statsmodels.api import qqplot, add_constant\n",
    "from statsmodels.stats.outliers_influence import variance_inflation_factor\n",
    "\n",
    "#ARIMA\n",
    "from statsmodels.tsa.arima_model import ARIMA\n",
    "from sklearn.metrics import accuracy_score #평가함수\n",
    "from sklearn.preprocessing import StandardScaler #SCALING\n",
    "\n",
    "#matplotlib 이용한 background 그래프 실행 및 결과 확인 \n",
    "%matplotlib inline\n",
    "\n",
    "\n",
    "#export_graphviz: 나무구조 생성 및 저장\n",
    "from sklearn.tree import export_graphviz\n",
    "#graphviz: 나무 구조 시각화(.dot 확장자 파일 불러오기 등)\n",
    "import graphviz\n",
    "\n",
    "\n",
    "# 데이터 분할: train,test\n",
    "from sklearn.model_selection import train_test_split\n",
    "\n",
    "#데이터 scaling => 거리기반 알고리즘은 필수!!!\n",
    "from statsmodels.api import Logit #로지스틱 회귀FL\n",
    "from sklearn.preprocessing import StandardScaler\n",
    "# 데이터 분할: train,test\n",
    "from sklearn.model_selection import train_test_split\n",
    "# 분류 DT\n",
    "from sklearn.tree import DecisionTreeClassifier\n",
    "#분류  RF\n",
    "from sklearn.ensemble import RandomForestClassifier\n",
    "# 분류 GB\n",
    "from sklearn.ensemble import GradientBoostingClassifier\n",
    "# 분류 SVM\n",
    "from sklearn.svm import SVC\n",
    "# 분류 KNN\n",
    "from sklearn.neighbors import KNeighborsClassifier\n",
    "# 분류 NN\n",
    "from sklearn.neural_network import MLPClassifier\n",
    "\n",
    "# 최적모델, 파라미터 탐색\n",
    "from sklearn.model_selection import GridSearchCV\n",
    "# 모델 성능 평가 \n",
    "from sklearn.metrics import confusion_matrix\n",
    "import seaborn as sns\n",
    "\n",
    "from sklearn.linear_model import LinearRegression\n",
    "from sklearn.feature_selection import RFE\n"
   ]
  },
  {
   "cell_type": "code",
   "execution_count": 5,
   "metadata": {},
   "outputs": [],
   "source": [
    "# 한글 폰트 적용\n",
    "font_path = '/usr/share/fonts/opentype/noto/NotoSerifCJK-ExtraLight.ttc'\n",
    "font_name = matplotlib.font_manager.FontProperties(fname=font_path).get_name()\n",
    "matplotlib.rc('font', family = font_name)"
   ]
  },
  {
   "cell_type": "code",
   "execution_count": 7,
   "metadata": {},
   "outputs": [],
   "source": [
    "# 데이터 구성하기(MFG_PROCESS)\n",
    "MFG_PROCESS = pd.read_csv(\"/home/pirl/빅데이터 프로젝트/cleansing/outlier/MFG_PROCESS_NULL_COL_OUT.csv\", engine=\"python\", encoding='EUC-KR')\n",
    "#MFG_PROCESS = MFG_PROCESS.drop(MFG_PROCESS.columns[0], axis=1)"
   ]
  },
  {
   "cell_type": "code",
   "execution_count": 8,
   "metadata": {},
   "outputs": [],
   "source": [
    "MFG_PROCESS['JUDGE'] = MFG_PROCESS['JUDGE'].map({'양품':0,'명점':1})"
   ]
  },
  {
   "cell_type": "markdown",
   "metadata": {},
   "source": [
    "# 로지스틱 회귀 (노스케일) - MFG_PROCESS"
   ]
  },
  {
   "cell_type": "code",
   "execution_count": 9,
   "metadata": {},
   "outputs": [
    {
     "name": "stdout",
     "output_type": "stream",
     "text": [
      "train data size: (2787, 81)\n",
      "test data size: (1195, 81)\n"
     ]
    }
   ],
   "source": [
    "df_train, df_test = train_test_split(MFG_PROCESS, test_size = 0.3, random_state = 1234)\n",
    "print(\"train data size: {}\".format(df_train.shape))\n",
    "print(\"test data size: {}\".format(df_test.shape))"
   ]
  },
  {
   "cell_type": "code",
   "execution_count": 10,
   "metadata": {},
   "outputs": [
    {
     "name": "stdout",
     "output_type": "stream",
     "text": [
      "Warning: Maximum number of iterations has been exceeded.\n",
      "         Current function value: 0.190983\n",
      "         Iterations: 35\n",
      "         Function evaluations: 53\n",
      "         Gradient evaluations: 44\n",
      "                           Logit Regression Results                           \n",
      "==============================================================================\n",
      "Dep. Variable:                  JUDGE   No. Observations:                 2787\n",
      "Model:                          Logit   Df Residuals:                     2775\n",
      "Method:                           MLE   Df Model:                           11\n",
      "Date:                Sun, 23 Feb 2020   Pseudo R-squ.:                  0.4529\n",
      "Time:                        22:25:04   Log-Likelihood:                -532.27\n",
      "converged:                      False   LL-Null:                       -972.89\n",
      "Covariance Type:            nonrobust   LLR p-value:                6.694e-182\n",
      "==============================================================================================\n",
      "                                 coef    std err          z      P>|z|      [0.025      0.975]\n",
      "----------------------------------------------------------------------------------------------\n",
      "Intercept                      0.0059     39.522      0.000      1.000     -77.456      77.468\n",
      "AG_RTD_TEMP_GLASS_OUT          1.1349      0.068     16.677      0.000       1.002       1.268\n",
      "BUS_DEVELOP_TEMP_TANK2         2.2821      0.265      8.596      0.000       1.762       2.802\n",
      "DIELEC_FIRE_EXHAUST_HEAT5     -0.0012      0.000     -4.094      0.000      -0.002      -0.001\n",
      "PHOS_R_DRY_TEMP_WALL_MAX      -0.0502      0.071     -0.704      0.481      -0.190       0.089\n",
      "PHOS_R_DRY_TEMP_HOOD_MAX      -0.0864      0.026     -3.334      0.001      -0.137      -0.036\n",
      "PHOS_FIRE_EXHAUST_HEAT3       -0.0067      0.002     -2.785      0.005      -0.011      -0.002\n",
      "BUS_DEVELOP_TEMP_TANK1        -1.1492      0.786     -1.462      0.144      -2.690       0.392\n",
      "AG_EXPOSURE_TEMP_MASK          0.8805      0.486      1.812      0.070      -0.072       1.833\n",
      "PHOS_FIRE_EXHAUST_HEAT2       -0.0035      0.001     -2.415      0.016      -0.006      -0.001\n",
      "PHOS_R_DRY_TEMP_GLASS_END     -0.3177      0.299     -1.061      0.289      -0.904       0.269\n",
      "PHOS_G_DRY_TEMP_HOOD_START    -0.0708      0.058     -1.218      0.223      -0.185       0.043\n",
      "==============================================================================================\n"
     ]
    },
    {
     "name": "stderr",
     "output_type": "stream",
     "text": [
      "/home/pirl/anaconda3/lib/python3.7/site-packages/statsmodels/discrete/discrete_model.py:1736: RuntimeWarning: overflow encountered in exp\n",
      "  return 1/(1+np.exp(-X))\n",
      "/home/pirl/anaconda3/lib/python3.7/site-packages/statsmodels/discrete/discrete_model.py:1789: RuntimeWarning: divide by zero encountered in log\n",
      "  return np.sum(np.log(self.cdf(q*np.dot(X,params))))\n",
      "/home/pirl/anaconda3/lib/python3.7/site-packages/statsmodels/discrete/discrete_model.py:1736: RuntimeWarning: overflow encountered in exp\n",
      "  return 1/(1+np.exp(-X))\n",
      "/home/pirl/anaconda3/lib/python3.7/site-packages/statsmodels/discrete/discrete_model.py:1789: RuntimeWarning: divide by zero encountered in log\n",
      "  return np.sum(np.log(self.cdf(q*np.dot(X,params))))\n",
      "/home/pirl/anaconda3/lib/python3.7/site-packages/statsmodels/base/model.py:512: ConvergenceWarning: Maximum Likelihood optimization failed to converge. Check mle_retvals\n",
      "  \"Check mle_retvals\", ConvergenceWarning)\n"
     ]
    }
   ],
   "source": [
    "log_model = Logit.from_formula(\"\"'JUDGE~AG_RTD_TEMP_GLASS_OUT+BUS_DEVELOP_TEMP_TANK2+DIELEC_FIRE_EXHAUST_HEAT5+\\\n",
    "                               PHOS_R_DRY_TEMP_WALL_MAX+PHOS_R_DRY_TEMP_HOOD_MAX+PHOS_FIRE_EXHAUST_HEAT3+\\\n",
    "                               BUS_DEVELOP_TEMP_TANK1+AG_EXPOSURE_TEMP_MASK+PHOS_FIRE_EXHAUST_HEAT2+\\\n",
    "                               PHOS_R_DRY_TEMP_GLASS_END+PHOS_G_DRY_TEMP_HOOD_START'\"\", df_train)\n",
    "#BUS_DEVELOP_PRES1 제거함 (데이터 값이 전원 0이라서 P값 std err 값 nan 뜸\n",
    "log_result = log_model.fit(method='bfgs')\n",
    "print(log_result.summary())"
   ]
  },
  {
   "cell_type": "code",
   "execution_count": 11,
   "metadata": {},
   "outputs": [
    {
     "data": {
      "text/plain": [
       "79      0\n",
       "3760    0\n",
       "3406    0\n",
       "2955    0\n",
       "1081    0\n",
       "dtype: int64"
      ]
     },
     "execution_count": 11,
     "metadata": {},
     "output_type": "execute_result"
    }
   ],
   "source": [
    "y_pred = log_result.predict(df_test)\n",
    "y_pred_class = (y_pred > 0.5).astype(int)\n",
    "y_pred_class.head()"
   ]
  },
  {
   "cell_type": "code",
   "execution_count": 12,
   "metadata": {},
   "outputs": [
    {
     "name": "stdout",
     "output_type": "stream",
     "text": [
      "Accuracy: 0.941\n",
      "\n",
      "Confusion Matrix:\n",
      "[[1064   20]\n",
      " [  50   61]]\n"
     ]
    }
   ],
   "source": [
    "print(\"Accuracy: {0:.3f}\\n\".format(accuracy_score(df_test[\"JUDGE\"],y_pred_class)))\n",
    "print(\"Confusion Matrix:\\n{}\".format(confusion_matrix(df_test[\"JUDGE\"],y_pred_class)))"
   ]
  },
  {
   "cell_type": "code",
   "execution_count": 13,
   "metadata": {
    "scrolled": true
   },
   "outputs": [
    {
     "data": {
      "text/html": [
       "<div>\n",
       "<style scoped>\n",
       "    .dataframe tbody tr th:only-of-type {\n",
       "        vertical-align: middle;\n",
       "    }\n",
       "\n",
       "    .dataframe tbody tr th {\n",
       "        vertical-align: top;\n",
       "    }\n",
       "\n",
       "    .dataframe thead th {\n",
       "        text-align: right;\n",
       "    }\n",
       "</style>\n",
       "<table border=\"1\" class=\"dataframe\">\n",
       "  <thead>\n",
       "    <tr style=\"text-align: right;\">\n",
       "      <th></th>\n",
       "      <th>Coef</th>\n",
       "    </tr>\n",
       "  </thead>\n",
       "  <tbody>\n",
       "    <tr>\n",
       "      <th>BUS_DEVELOP_TEMP_TANK2</th>\n",
       "      <td>2.282058</td>\n",
       "    </tr>\n",
       "    <tr>\n",
       "      <th>AG_RTD_TEMP_GLASS_OUT</th>\n",
       "      <td>1.134929</td>\n",
       "    </tr>\n",
       "    <tr>\n",
       "      <th>AG_EXPOSURE_TEMP_MASK</th>\n",
       "      <td>0.880472</td>\n",
       "    </tr>\n",
       "    <tr>\n",
       "      <th>DIELEC_FIRE_EXHAUST_HEAT5</th>\n",
       "      <td>-0.001249</td>\n",
       "    </tr>\n",
       "    <tr>\n",
       "      <th>PHOS_FIRE_EXHAUST_HEAT2</th>\n",
       "      <td>-0.003453</td>\n",
       "    </tr>\n",
       "    <tr>\n",
       "      <th>PHOS_FIRE_EXHAUST_HEAT3</th>\n",
       "      <td>-0.006676</td>\n",
       "    </tr>\n",
       "    <tr>\n",
       "      <th>PHOS_R_DRY_TEMP_WALL_MAX</th>\n",
       "      <td>-0.050157</td>\n",
       "    </tr>\n",
       "    <tr>\n",
       "      <th>PHOS_G_DRY_TEMP_HOOD_START</th>\n",
       "      <td>-0.070806</td>\n",
       "    </tr>\n",
       "    <tr>\n",
       "      <th>PHOS_R_DRY_TEMP_HOOD_MAX</th>\n",
       "      <td>-0.086382</td>\n",
       "    </tr>\n",
       "    <tr>\n",
       "      <th>PHOS_R_DRY_TEMP_GLASS_END</th>\n",
       "      <td>-0.317657</td>\n",
       "    </tr>\n",
       "    <tr>\n",
       "      <th>BUS_DEVELOP_TEMP_TANK1</th>\n",
       "      <td>-1.149231</td>\n",
       "    </tr>\n",
       "  </tbody>\n",
       "</table>\n",
       "</div>"
      ],
      "text/plain": [
       "                                Coef\n",
       "BUS_DEVELOP_TEMP_TANK2      2.282058\n",
       "AG_RTD_TEMP_GLASS_OUT       1.134929\n",
       "AG_EXPOSURE_TEMP_MASK       0.880472\n",
       "DIELEC_FIRE_EXHAUST_HEAT5  -0.001249\n",
       "PHOS_FIRE_EXHAUST_HEAT2    -0.003453\n",
       "PHOS_FIRE_EXHAUST_HEAT3    -0.006676\n",
       "PHOS_R_DRY_TEMP_WALL_MAX   -0.050157\n",
       "PHOS_G_DRY_TEMP_HOOD_START -0.070806\n",
       "PHOS_R_DRY_TEMP_HOOD_MAX   -0.086382\n",
       "PHOS_R_DRY_TEMP_GLASS_END  -0.317657\n",
       "BUS_DEVELOP_TEMP_TANK1     -1.149231"
      ]
     },
     "execution_count": 13,
     "metadata": {},
     "output_type": "execute_result"
    }
   ],
   "source": [
    "df_logistic_coef=pd.DataFrame({\"Coef\":log_result.params.values[1:]}, index = log_model.exog_names[1:])\n",
    "df_logistic_coef.sort_values(\"Coef\", ascending = False)"
   ]
  },
  {
   "cell_type": "code",
   "execution_count": 14,
   "metadata": {
    "scrolled": true
   },
   "outputs": [
    {
     "data": {
      "text/plain": [
       "<matplotlib.axes._subplots.AxesSubplot at 0x7fa2b61209d0>"
      ]
     },
     "execution_count": 14,
     "metadata": {},
     "output_type": "execute_result"
    },
    {
     "data": {
      "image/png": "[encoded data removed]",
      "text/plain": [
       "<Figure size 432x288 with 1 Axes>"
      ]
     },
     "metadata": {
      "needs_background": "light"
     },
     "output_type": "display_data"
    }
   ],
   "source": [
    "df_logistic_coef.plot.barh(y=\"Coef\")"
   ]
  },
  {
   "cell_type": "code",
   "execution_count": 17,
   "metadata": {},
   "outputs": [],
   "source": [
    "# RFE(recursive feature elimination) 함수 : 입력된 모델을 이용하여 변수중요도가 낮은 순으로 순차적 제거\n",
    "# 목표 변수 분리\n",
    "df_y = MFG_PROCESS['JUDGE']\n",
    "# df_x = MFG_PROCESS.drop(['JUDGE',\"LOT_ID\",\"PANEL_ID\",'TIME_1BLACK',\"TIME_2AG\",\"TIME_3BUS\",\"TIME_4DIELEC\",\"TIME_5MGO\",\"TIME_6PHOS\",\"TIME_7PASTE\",\"TIME_8AGING\"], axis=1, inplace=False)\n",
    "#df_x = MFG_PROCESS.drop(['JUDGE'], axis=1, inplace=False)\n",
    "df_x = MFG_PROCESS[['AG_RTD_TEMP_GLASS_OUT','BUS_DEVELOP_TEMP_TANK2','DIELEC_FIRE_EXHAUST_HEAT5',\n",
    "                               'PHOS_R_DRY_TEMP_WALL_MAX','PHOS_R_DRY_TEMP_HOOD_MAX','PHOS_FIRE_EXHAUST_HEAT3',\n",
    "                               'BUS_DEVELOP_TEMP_TANK1','AG_EXPOSURE_TEMP_MASK','PHOS_FIRE_EXHAUST_HEAT2',\n",
    "                               'PHOS_R_DRY_TEMP_GLASS_END','PHOS_G_DRY_TEMP_HOOD_START']]\n",
    "df5_dummy_x = pd.get_dummies(df_x)\n",
    "df_x = df5_dummy_x\n",
    "\n",
    "\n",
    "# 전체 변수 중 5개의 변수가 남을 때까지 변수 선택\n"
   ]
  },
  {
   "cell_type": "code",
   "execution_count": 18,
   "metadata": {
    "scrolled": true
   },
   "outputs": [
    {
     "name": "stderr",
     "output_type": "stream",
     "text": [
      "/home/pirl/anaconda3/lib/python3.7/site-packages/sklearn/linear_model/logistic.py:432: FutureWarning: Default solver will be changed to 'lbfgs' in 0.22. Specify a solver to silence this warning.\n",
      "  FutureWarning)\n",
      "/home/pirl/anaconda3/lib/python3.7/site-packages/sklearn/linear_model/logistic.py:432: FutureWarning: Default solver will be changed to 'lbfgs' in 0.22. Specify a solver to silence this warning.\n",
      "  FutureWarning)\n",
      "/home/pirl/anaconda3/lib/python3.7/site-packages/sklearn/linear_model/logistic.py:432: FutureWarning: Default solver will be changed to 'lbfgs' in 0.22. Specify a solver to silence this warning.\n",
      "  FutureWarning)\n",
      "/home/pirl/anaconda3/lib/python3.7/site-packages/sklearn/linear_model/logistic.py:432: FutureWarning: Default solver will be changed to 'lbfgs' in 0.22. Specify a solver to silence this warning.\n",
      "  FutureWarning)\n",
      "/home/pirl/anaconda3/lib/python3.7/site-packages/sklearn/linear_model/logistic.py:432: FutureWarning: Default solver will be changed to 'lbfgs' in 0.22. Specify a solver to silence this warning.\n",
      "  FutureWarning)\n"
     ]
    }
   ],
   "source": [
    "#로지스틱 회귀 모델 불러옴\n",
    "\n",
    "from sklearn.feature_selection import RFE\n",
    "from sklearn.linear_model import LogisticRegression\n",
    "model = LogisticRegression()\n",
    "#rfe = RFE(model, 8)\n",
    "#fit = rfe.fit(X, y)\n",
    "rfe = RFE(estimator = model, n_features_to_select = 7).fit(df_x, df_y)"
   ]
  },
  {
   "cell_type": "code",
   "execution_count": 19,
   "metadata": {
    "scrolled": true
   },
   "outputs": [
    {
     "name": "stdout",
     "output_type": "stream",
     "text": [
      "Selected Variables: Index(['AG_RTD_TEMP_GLASS_OUT', 'BUS_DEVELOP_TEMP_TANK2',\n",
      "       'PHOS_R_DRY_TEMP_WALL_MAX', 'PHOS_R_DRY_TEMP_HOOD_MAX',\n",
      "       'BUS_DEVELOP_TEMP_TANK1', 'AG_EXPOSURE_TEMP_MASK',\n",
      "       'PHOS_R_DRY_TEMP_GLASS_END'],\n",
      "      dtype='object')\n",
      "\n",
      "\n",
      "\n",
      "\n",
      "\n",
      "Removed Variables: Index(['DIELEC_FIRE_EXHAUST_HEAT5', 'PHOS_FIRE_EXHAUST_HEAT3',\n",
      "       'PHOS_FIRE_EXHAUST_HEAT2', 'PHOS_G_DRY_TEMP_HOOD_START'],\n",
      "      dtype='object')\n"
     ]
    }
   ],
   "source": [
    "selected_cols = df_x.columns[rfe.support_]\n",
    "# 제거된 변수\n",
    "removed_cols = df_x.columns[~rfe.support_]\n",
    "print('Selected Variables: {}'.format(selected_cols))\n",
    "print(\"\\n\\n\\n\\n\")\n",
    "print('Removed Variables: {}'.format(removed_cols))"
   ]
  },
  {
   "cell_type": "code",
   "execution_count": 20,
   "metadata": {
    "scrolled": true
   },
   "outputs": [
    {
     "name": "stderr",
     "output_type": "stream",
     "text": [
      "/home/pirl/anaconda3/lib/python3.7/site-packages/numpy/core/fromnumeric.py:2495: FutureWarning: Method .ptp is deprecated and will be removed in a future version. Use numpy.ptp instead.\n",
      "  return ptp(axis=axis, out=out, **kwargs)\n"
     ]
    },
    {
     "data": {
      "text/html": [
       "<div>\n",
       "<style scoped>\n",
       "    .dataframe tbody tr th:only-of-type {\n",
       "        vertical-align: middle;\n",
       "    }\n",
       "\n",
       "    .dataframe tbody tr th {\n",
       "        vertical-align: top;\n",
       "    }\n",
       "\n",
       "    .dataframe thead th {\n",
       "        text-align: right;\n",
       "    }\n",
       "</style>\n",
       "<table border=\"1\" class=\"dataframe\">\n",
       "  <thead>\n",
       "    <tr style=\"text-align: right;\">\n",
       "      <th></th>\n",
       "      <th>variable</th>\n",
       "      <th>VIF</th>\n",
       "    </tr>\n",
       "  </thead>\n",
       "  <tbody>\n",
       "    <tr>\n",
       "      <th>1</th>\n",
       "      <td>AG_RTD_TEMP_GLASS_OUT</td>\n",
       "      <td>1.033</td>\n",
       "    </tr>\n",
       "    <tr>\n",
       "      <th>6</th>\n",
       "      <td>AG_EXPOSURE_TEMP_MASK</td>\n",
       "      <td>1.150</td>\n",
       "    </tr>\n",
       "    <tr>\n",
       "      <th>4</th>\n",
       "      <td>PHOS_R_DRY_TEMP_HOOD_MAX</td>\n",
       "      <td>1.155</td>\n",
       "    </tr>\n",
       "    <tr>\n",
       "      <th>2</th>\n",
       "      <td>BUS_DEVELOP_TEMP_TANK2</td>\n",
       "      <td>1.273</td>\n",
       "    </tr>\n",
       "    <tr>\n",
       "      <th>5</th>\n",
       "      <td>BUS_DEVELOP_TEMP_TANK1</td>\n",
       "      <td>1.276</td>\n",
       "    </tr>\n",
       "    <tr>\n",
       "      <th>7</th>\n",
       "      <td>PHOS_R_DRY_TEMP_GLASS_END</td>\n",
       "      <td>1.452</td>\n",
       "    </tr>\n",
       "    <tr>\n",
       "      <th>3</th>\n",
       "      <td>PHOS_R_DRY_TEMP_WALL_MAX</td>\n",
       "      <td>1.511</td>\n",
       "    </tr>\n",
       "    <tr>\n",
       "      <th>0</th>\n",
       "      <td>const</td>\n",
       "      <td>222564.601</td>\n",
       "    </tr>\n",
       "  </tbody>\n",
       "</table>\n",
       "</div>"
      ],
      "text/plain": [
       "                    variable         VIF\n",
       "1      AG_RTD_TEMP_GLASS_OUT       1.033\n",
       "6      AG_EXPOSURE_TEMP_MASK       1.150\n",
       "4   PHOS_R_DRY_TEMP_HOOD_MAX       1.155\n",
       "2     BUS_DEVELOP_TEMP_TANK2       1.273\n",
       "5     BUS_DEVELOP_TEMP_TANK1       1.276\n",
       "7  PHOS_R_DRY_TEMP_GLASS_END       1.452\n",
       "3   PHOS_R_DRY_TEMP_WALL_MAX       1.511\n",
       "0                      const  222564.601"
      ]
     },
     "execution_count": 20,
     "metadata": {},
     "output_type": "execute_result"
    }
   ],
   "source": [
    "df_x_rfe = df_x[selected_cols]\n",
    "df_x_rfe_const = add_constant(df_x_rfe)\n",
    "df_rfe_vif = pd.DataFrame()\n",
    "df_rfe_vif['variable'] = df_x_rfe_const.columns\n",
    "df_rfe_vif['VIF'] = [variance_inflation_factor(df_x_rfe_const.values, i) for i in range(df_x_rfe_const.shape[1])]\n",
    "df_rfe_vif.sort_values('VIF', inplace=True)\n",
    "df_rfe_vif.round(3)"
   ]
  },
  {
   "cell_type": "code",
   "execution_count": null,
   "metadata": {},
   "outputs": [],
   "source": []
  }
 ],
 "metadata": {
  "kernelspec": {
   "display_name": "Python 3",
   "language": "python",
   "name": "python3"
  },
  "language_info": {
   "codemirror_mode": {
    "name": "ipython",
    "version": 3
   },
   "file_extension": ".py",
   "mimetype": "text/x-python",
   "name": "python",
   "nbconvert_exporter": "python",
   "pygments_lexer": "ipython3",
   "version": "3.7.6"
  }
 },
 "nbformat": 4,
 "nbformat_minor": 2
}
