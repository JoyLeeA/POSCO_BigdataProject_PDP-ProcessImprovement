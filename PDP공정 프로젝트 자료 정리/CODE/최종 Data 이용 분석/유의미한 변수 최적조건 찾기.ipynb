{
 "cells": [
  {
   "cell_type": "code",
   "execution_count": 29,
   "metadata": {},
   "outputs": [],
   "source": [
    "\n",
    "import statsmodels.formula.api as smf\n",
    "\n",
    "import pandas as pd\n",
    "import numpy as np\n",
    "\n",
    "import matplotlib.pyplot as plt\n",
    "import matplotlib\n",
    "\n",
    "from sklearn.tree import DecisionTreeClassifier\n",
    "from sklearn.ensemble import RandomForestClassifier\n",
    "from sklearn.ensemble import GradientBoostingClassifier\n",
    "from sklearn.neural_network import MLPClassifier\n",
    "\n",
    "from sklearn.model_selection import train_test_split\n",
    "from sklearn.preprocessing import StandardScaler\n",
    "\n",
    "\n",
    "from sklearn.metrics import f1_score, roc_curve, auc, precision_score, recall_score\n",
    "\n",
    "\n",
    "import seaborn as sns\n",
    "\n",
    "from sklearn.preprocessing import scale\n",
    "\n",
    "# 나무 구조 생성 및 저장\n",
    "from sklearn.tree import export_graphviz\n",
    "# 나무 구조 시각화\n",
    "import graphviz"
   ]
  },
  {
   "cell_type": "code",
   "execution_count": 30,
   "metadata": {},
   "outputs": [],
   "source": [
    "def fun_plot_hist(data, var):\n",
    "    plt.hist(data[data['JUDGE']==0][var], label = 'good', alpha = 0.5)\n",
    "    plt.hist(data[data['JUDGE']==1][var], label = 'bad', alpha = 0.5)\n",
    "    plt.legend()"
   ]
  },
  {
   "cell_type": "code",
   "execution_count": 31,
   "metadata": {},
   "outputs": [],
   "source": [
    "pro = pd.read_csv('/Users/joylee/Documents/pro.csv', encoding='EUCKR')"
   ]
  },
  {
   "cell_type": "code",
   "execution_count": 32,
   "metadata": {
    "scrolled": false
   },
   "outputs": [
    {
     "data": {
      "text/html": [
       "<div>\n",
       "<style scoped>\n",
       "    .dataframe tbody tr th:only-of-type {\n",
       "        vertical-align: middle;\n",
       "    }\n",
       "\n",
       "    .dataframe tbody tr th {\n",
       "        vertical-align: top;\n",
       "    }\n",
       "\n",
       "    .dataframe thead th {\n",
       "        text-align: right;\n",
       "    }\n",
       "</style>\n",
       "<table border=\"1\" class=\"dataframe\">\n",
       "  <thead>\n",
       "    <tr style=\"text-align: right;\">\n",
       "      <th></th>\n",
       "      <th>JUDGE</th>\n",
       "      <th>LOT_ID</th>\n",
       "      <th>PANEL_ID</th>\n",
       "      <th>TIME_1BLACK</th>\n",
       "      <th>TIME_2AG</th>\n",
       "      <th>TIME_3BUS</th>\n",
       "      <th>TIME_4DIELEC</th>\n",
       "      <th>TIME_5MGO</th>\n",
       "      <th>TIME_6PHOS</th>\n",
       "      <th>TIME_7PASTE</th>\n",
       "      <th>...</th>\n",
       "      <th>PHOS_G_DRY_TEMP_HOOD_START</th>\n",
       "      <th>PHOS_G_DRY_TEMP_HOOD_MAX</th>\n",
       "      <th>PHOS_FIRE_TEMP_ANEAL_CH01</th>\n",
       "      <th>PHOS_FIRE_TEMP_ANEAL_CH02</th>\n",
       "      <th>PHOS_FIRE_TEMP_ANEAL_CH03</th>\n",
       "      <th>PHOS_FIRE_TEMP_ANEAL_CH04</th>\n",
       "      <th>PHOS_FIRE_EXHAUST_HEAT1</th>\n",
       "      <th>PHOS_FIRE_EXHAUST_HEAT2</th>\n",
       "      <th>PHOS_FIRE_EXHAUST_HEAT3</th>\n",
       "      <th>PHOS_FIRE_EXHAUST_HEAT4</th>\n",
       "    </tr>\n",
       "  </thead>\n",
       "  <tbody>\n",
       "    <tr>\n",
       "      <th>0</th>\n",
       "      <td>양품</td>\n",
       "      <td>LOT-101</td>\n",
       "      <td>PNL-01</td>\n",
       "      <td>2019-04-01T00:01</td>\n",
       "      <td>2019-04-01T05:21</td>\n",
       "      <td>2019-04-01T11:01</td>\n",
       "      <td>2019-04-06T13:41</td>\n",
       "      <td>2019-04-11T03:41</td>\n",
       "      <td>2019-04-03T20:20</td>\n",
       "      <td>2019-04-11T12:41</td>\n",
       "      <td>...</td>\n",
       "      <td>82.8</td>\n",
       "      <td>84.0</td>\n",
       "      <td>443</td>\n",
       "      <td>419</td>\n",
       "      <td>392</td>\n",
       "      <td>372</td>\n",
       "      <td>4115.0</td>\n",
       "      <td>3973.0</td>\n",
       "      <td>4432</td>\n",
       "      <td>2506.0</td>\n",
       "    </tr>\n",
       "    <tr>\n",
       "      <th>1</th>\n",
       "      <td>양품</td>\n",
       "      <td>LOT-101</td>\n",
       "      <td>PNL-02</td>\n",
       "      <td>2019-04-01T00:45</td>\n",
       "      <td>2019-04-01T06:05</td>\n",
       "      <td>2019-04-01T11:45</td>\n",
       "      <td>2019-04-06T14:25</td>\n",
       "      <td>2019-04-11T04:25</td>\n",
       "      <td>2019-04-03T21:04</td>\n",
       "      <td>2019-04-11T13:25</td>\n",
       "      <td>...</td>\n",
       "      <td>80.3</td>\n",
       "      <td>81.8</td>\n",
       "      <td>445</td>\n",
       "      <td>423</td>\n",
       "      <td>395</td>\n",
       "      <td>374</td>\n",
       "      <td>3642.0</td>\n",
       "      <td>4097.0</td>\n",
       "      <td>4499</td>\n",
       "      <td>2573.0</td>\n",
       "    </tr>\n",
       "    <tr>\n",
       "      <th>2</th>\n",
       "      <td>양품</td>\n",
       "      <td>LOT-101</td>\n",
       "      <td>PNL-03</td>\n",
       "      <td>2019-04-01T01:29</td>\n",
       "      <td>2019-04-01T06:49</td>\n",
       "      <td>2019-04-01T12:29</td>\n",
       "      <td>2019-04-06T15:09</td>\n",
       "      <td>2019-04-11T05:09</td>\n",
       "      <td>2019-04-03T21:48</td>\n",
       "      <td>2019-04-11T14:09</td>\n",
       "      <td>...</td>\n",
       "      <td>81.2</td>\n",
       "      <td>82.2</td>\n",
       "      <td>444</td>\n",
       "      <td>421</td>\n",
       "      <td>393</td>\n",
       "      <td>372</td>\n",
       "      <td>4063.0</td>\n",
       "      <td>3972.0</td>\n",
       "      <td>4460</td>\n",
       "      <td>2502.0</td>\n",
       "    </tr>\n",
       "    <tr>\n",
       "      <th>3</th>\n",
       "      <td>양품</td>\n",
       "      <td>LOT-101</td>\n",
       "      <td>PNL-04</td>\n",
       "      <td>2019-04-01T02:13</td>\n",
       "      <td>2019-04-01T07:33</td>\n",
       "      <td>2019-04-01T13:13</td>\n",
       "      <td>2019-04-06T15:53</td>\n",
       "      <td>2019-04-11T05:53</td>\n",
       "      <td>2019-04-03T22:32</td>\n",
       "      <td>2019-04-11T14:53</td>\n",
       "      <td>...</td>\n",
       "      <td>83.0</td>\n",
       "      <td>84.0</td>\n",
       "      <td>444</td>\n",
       "      <td>420</td>\n",
       "      <td>393</td>\n",
       "      <td>372</td>\n",
       "      <td>4131.0</td>\n",
       "      <td>4011.0</td>\n",
       "      <td>4466</td>\n",
       "      <td>2522.0</td>\n",
       "    </tr>\n",
       "    <tr>\n",
       "      <th>4</th>\n",
       "      <td>양품</td>\n",
       "      <td>LOT-101</td>\n",
       "      <td>PNL-05</td>\n",
       "      <td>2019-04-01T02:58</td>\n",
       "      <td>2019-04-01T08:18</td>\n",
       "      <td>2019-04-01T13:58</td>\n",
       "      <td>2019-04-06T16:38</td>\n",
       "      <td>2019-04-11T06:38</td>\n",
       "      <td>2019-04-03T23:17</td>\n",
       "      <td>2019-04-11T15:38</td>\n",
       "      <td>...</td>\n",
       "      <td>80.1</td>\n",
       "      <td>82.0</td>\n",
       "      <td>443</td>\n",
       "      <td>420</td>\n",
       "      <td>392</td>\n",
       "      <td>372</td>\n",
       "      <td>3632.0</td>\n",
       "      <td>4073.0</td>\n",
       "      <td>4482</td>\n",
       "      <td>2584.0</td>\n",
       "    </tr>\n",
       "  </tbody>\n",
       "</table>\n",
       "<p>5 rows × 81 columns</p>\n",
       "</div>"
      ],
      "text/plain": [
       "  JUDGE   LOT_ID PANEL_ID       TIME_1BLACK          TIME_2AG  \\\n",
       "0    양품  LOT-101   PNL-01  2019-04-01T00:01  2019-04-01T05:21   \n",
       "1    양품  LOT-101   PNL-02  2019-04-01T00:45  2019-04-01T06:05   \n",
       "2    양품  LOT-101   PNL-03  2019-04-01T01:29  2019-04-01T06:49   \n",
       "3    양품  LOT-101   PNL-04  2019-04-01T02:13  2019-04-01T07:33   \n",
       "4    양품  LOT-101   PNL-05  2019-04-01T02:58  2019-04-01T08:18   \n",
       "\n",
       "          TIME_3BUS      TIME_4DIELEC         TIME_5MGO        TIME_6PHOS  \\\n",
       "0  2019-04-01T11:01  2019-04-06T13:41  2019-04-11T03:41  2019-04-03T20:20   \n",
       "1  2019-04-01T11:45  2019-04-06T14:25  2019-04-11T04:25  2019-04-03T21:04   \n",
       "2  2019-04-01T12:29  2019-04-06T15:09  2019-04-11T05:09  2019-04-03T21:48   \n",
       "3  2019-04-01T13:13  2019-04-06T15:53  2019-04-11T05:53  2019-04-03T22:32   \n",
       "4  2019-04-01T13:58  2019-04-06T16:38  2019-04-11T06:38  2019-04-03T23:17   \n",
       "\n",
       "        TIME_7PASTE  ... PHOS_G_DRY_TEMP_HOOD_START  PHOS_G_DRY_TEMP_HOOD_MAX  \\\n",
       "0  2019-04-11T12:41  ...                       82.8                      84.0   \n",
       "1  2019-04-11T13:25  ...                       80.3                      81.8   \n",
       "2  2019-04-11T14:09  ...                       81.2                      82.2   \n",
       "3  2019-04-11T14:53  ...                       83.0                      84.0   \n",
       "4  2019-04-11T15:38  ...                       80.1                      82.0   \n",
       "\n",
       "   PHOS_FIRE_TEMP_ANEAL_CH01  PHOS_FIRE_TEMP_ANEAL_CH02  \\\n",
       "0                        443                        419   \n",
       "1                        445                        423   \n",
       "2                        444                        421   \n",
       "3                        444                        420   \n",
       "4                        443                        420   \n",
       "\n",
       "   PHOS_FIRE_TEMP_ANEAL_CH03  PHOS_FIRE_TEMP_ANEAL_CH04  \\\n",
       "0                        392                        372   \n",
       "1                        395                        374   \n",
       "2                        393                        372   \n",
       "3                        393                        372   \n",
       "4                        392                        372   \n",
       "\n",
       "   PHOS_FIRE_EXHAUST_HEAT1  PHOS_FIRE_EXHAUST_HEAT2  PHOS_FIRE_EXHAUST_HEAT3  \\\n",
       "0                   4115.0                   3973.0                     4432   \n",
       "1                   3642.0                   4097.0                     4499   \n",
       "2                   4063.0                   3972.0                     4460   \n",
       "3                   4131.0                   4011.0                     4466   \n",
       "4                   3632.0                   4073.0                     4482   \n",
       "\n",
       "   PHOS_FIRE_EXHAUST_HEAT4  \n",
       "0                   2506.0  \n",
       "1                   2573.0  \n",
       "2                   2502.0  \n",
       "3                   2522.0  \n",
       "4                   2584.0  \n",
       "\n",
       "[5 rows x 81 columns]"
      ]
     },
     "execution_count": 32,
     "metadata": {},
     "output_type": "execute_result"
    }
   ],
   "source": [
    "pro.head()"
   ]
  },
  {
   "cell_type": "code",
   "execution_count": 33,
   "metadata": {},
   "outputs": [
    {
     "data": {
      "text/plain": [
       "Index(['JUDGE', 'LOT_ID', 'PANEL_ID', 'TIME_1BLACK', 'TIME_2AG', 'TIME_3BUS',\n",
       "       'TIME_4DIELEC', 'TIME_5MGO', 'TIME_6PHOS', 'TIME_7PASTE', 'TIME_8AGING',\n",
       "       'BLACK_RTD_TEMP_GLASS_START', 'BLACK_RTD_TEMP_GLASS_END',\n",
       "       'BLACK_RTD_TEMP_WALL_START', 'BLACK_RTD_TEMP_WALL_MAX',\n",
       "       'BLACK_RTD_PRES_START', 'BLACK_RTD_PRES_END',\n",
       "       'BLACK_RTD_TEMP_GLASS_OUT', 'BLACK_RTD_TEMP_HOOD_START',\n",
       "       'BLACK_RTD_TEMP_HOOD_MAX', 'AG_RTD_TEMP_GLASS_START',\n",
       "       'AG_RTD_TEMP_GLASS_END', 'AG_RTD_TEMP_WALL_START',\n",
       "       'AG_RTD_TEMP_WALL_MAX', 'AG_RTD_PRES_START', 'AG_RTD_PRES_END',\n",
       "       'AG_RTD_TEMP_GLASS_OUT', 'AG_RTD_TEMP_HOOD_START',\n",
       "       'AG_RTD_TEMP_HOOD_MAX', 'AG_EXPOSURE_TEMP_MASK',\n",
       "       'BUS_DEVELOP_TEMP_OVEN1', 'BUS_DEVELOP_TEMP_OVEN2',\n",
       "       'BUS_DEVELOP_TEMP_OVEN3', 'BUS_DEVELOP_TEMP_TANK1',\n",
       "       'BUS_DEVELOP_TEMP_TANK2', 'BUS_DEVELOP_TEMP_TANK3', 'BUS_DEVELOP_PRES2',\n",
       "       'BUS_DEVELOP_PRES3', 'BUS_FIRE_TEMP_KEEP_CH01',\n",
       "       'BUS_FIRE_TEMP_KEEP_CH02', 'BUS_FIRE_TEMP_KEEP_CH03',\n",
       "       'BUS_FIRE_TEMP_ANEAL_CH01', 'BUS_FIRE_TEMP_ANEAL_CH02',\n",
       "       'BUS_FIRE_TEMP_ANEAL_CH03', 'DIELEC_FIRE_TEMP_KEEP_CH01',\n",
       "       'DIELEC_FIRE_TEMP_ANEAL_CH01', 'DIELEC_FIRE_TEMP_ANEAL_CH02',\n",
       "       'DIELEC_FIRE_TEMP_ANEAL_CH03', 'DIELEC_FIRE_EXHAUST_HEAT1',\n",
       "       'DIELEC_FIRE_EXHAUST_HEAT2', 'DIELEC_FIRE_EXHAUST_HEAT3',\n",
       "       'DIELEC_FIRE_EXHAUST_HEAT4', 'DIELEC_FIRE_EXHAUST_HEAT5',\n",
       "       'DIELEC_FIRE_EXHAUST_HEAT6', 'DIELEC_FIRE_EXHAUST_HEAT7',\n",
       "       'PHOS_R_DRY_TEMP_GLASS_START', 'PHOS_R_DRY_TEMP_GLASS_END',\n",
       "       'PHOS_R_DRY_TEMP_WALL_START', 'PHOS_R_DRY_TEMP_WALL_MAX',\n",
       "       'PHOS_R_DRY_PRES_START', 'PHOS_R_DRY_PRES_END',\n",
       "       'PHOS_R_DRY_TEMP_GLASS_OUT', 'PHOS_R_DRY_TEMP_HOOD_START',\n",
       "       'PHOS_R_DRY_TEMP_HOOD_MAX', 'PHOS_G_DRY_TEMP_GLASS_START',\n",
       "       'PHOS_G_DRY_TEMP_GLASS_END', 'PHOS_G_DRY_TEMP_WALL_START',\n",
       "       'PHOS_G_DRY_TEMP_WALL_MAX', 'PHOS_G_DRY_PRES_START',\n",
       "       'PHOS_G_DRY_PRES_END', 'PHOS_G_DRY_TEMP_GLASS_OUT',\n",
       "       'PHOS_G_DRY_TEMP_HOOD_START', 'PHOS_G_DRY_TEMP_HOOD_MAX',\n",
       "       'PHOS_FIRE_TEMP_ANEAL_CH01', 'PHOS_FIRE_TEMP_ANEAL_CH02',\n",
       "       'PHOS_FIRE_TEMP_ANEAL_CH03', 'PHOS_FIRE_TEMP_ANEAL_CH04',\n",
       "       'PHOS_FIRE_EXHAUST_HEAT1', 'PHOS_FIRE_EXHAUST_HEAT2',\n",
       "       'PHOS_FIRE_EXHAUST_HEAT3', 'PHOS_FIRE_EXHAUST_HEAT4'],\n",
       "      dtype='object')"
      ]
     },
     "execution_count": 33,
     "metadata": {},
     "output_type": "execute_result"
    }
   ],
   "source": [
    "pro.columns"
   ]
  },
  {
   "cell_type": "code",
   "execution_count": 34,
   "metadata": {},
   "outputs": [],
   "source": [
    "pro['JUDGE'] = pro['JUDGE'].map({'양품':0, '명점':1})"
   ]
  },
  {
   "cell_type": "code",
   "execution_count": 35,
   "metadata": {
    "scrolled": false
   },
   "outputs": [
    {
     "data": {
      "text/html": [
       "<div>\n",
       "<style scoped>\n",
       "    .dataframe tbody tr th:only-of-type {\n",
       "        vertical-align: middle;\n",
       "    }\n",
       "\n",
       "    .dataframe tbody tr th {\n",
       "        vertical-align: top;\n",
       "    }\n",
       "\n",
       "    .dataframe thead th {\n",
       "        text-align: right;\n",
       "    }\n",
       "</style>\n",
       "<table border=\"1\" class=\"dataframe\">\n",
       "  <thead>\n",
       "    <tr style=\"text-align: right;\">\n",
       "      <th></th>\n",
       "      <th>JUDGE</th>\n",
       "      <th>LOT_ID</th>\n",
       "      <th>PANEL_ID</th>\n",
       "      <th>TIME_1BLACK</th>\n",
       "      <th>TIME_2AG</th>\n",
       "      <th>TIME_3BUS</th>\n",
       "      <th>TIME_4DIELEC</th>\n",
       "      <th>TIME_5MGO</th>\n",
       "      <th>TIME_6PHOS</th>\n",
       "      <th>TIME_7PASTE</th>\n",
       "      <th>...</th>\n",
       "      <th>MC_4DIELEC_1FIRE</th>\n",
       "      <th>MC_5MGO</th>\n",
       "      <th>MC_6PHOS_1R_1DISPENSER</th>\n",
       "      <th>MC_6PHOS_1R_2DRY</th>\n",
       "      <th>MC_6PHOS_2G_1DISPENSER</th>\n",
       "      <th>MC_6PHOS_2G_2DRY</th>\n",
       "      <th>MC_6PHOS_3B_1DISPENSER</th>\n",
       "      <th>MC_6PHOS_4FIRE</th>\n",
       "      <th>MC_7PASTE</th>\n",
       "      <th>MC_8AGING</th>\n",
       "    </tr>\n",
       "  </thead>\n",
       "  <tbody>\n",
       "    <tr>\n",
       "      <th>0</th>\n",
       "      <td>양품</td>\n",
       "      <td>LOT-101</td>\n",
       "      <td>PNL-01</td>\n",
       "      <td>2019-04-01T00:01</td>\n",
       "      <td>2019-04-01T05:21</td>\n",
       "      <td>2019-04-01T11:01</td>\n",
       "      <td>2019-04-06T13:41</td>\n",
       "      <td>2019-04-11T03:41</td>\n",
       "      <td>2019-04-03T20:20</td>\n",
       "      <td>2019-04-11T12:41</td>\n",
       "      <td>...</td>\n",
       "      <td>3호기</td>\n",
       "      <td>1호기</td>\n",
       "      <td>1호기</td>\n",
       "      <td>2호기</td>\n",
       "      <td>2호기</td>\n",
       "      <td>2호기</td>\n",
       "      <td>1호기</td>\n",
       "      <td>3호기</td>\n",
       "      <td>1호기</td>\n",
       "      <td>2호기</td>\n",
       "    </tr>\n",
       "    <tr>\n",
       "      <th>1</th>\n",
       "      <td>양품</td>\n",
       "      <td>LOT-101</td>\n",
       "      <td>PNL-02</td>\n",
       "      <td>2019-04-01T00:45</td>\n",
       "      <td>2019-04-01T06:05</td>\n",
       "      <td>2019-04-01T11:45</td>\n",
       "      <td>2019-04-06T14:25</td>\n",
       "      <td>2019-04-11T04:25</td>\n",
       "      <td>2019-04-03T21:04</td>\n",
       "      <td>2019-04-11T13:25</td>\n",
       "      <td>...</td>\n",
       "      <td>3호기</td>\n",
       "      <td>1호기</td>\n",
       "      <td>1호기</td>\n",
       "      <td>2호기</td>\n",
       "      <td>2호기</td>\n",
       "      <td>2호기</td>\n",
       "      <td>1호기</td>\n",
       "      <td>3호기</td>\n",
       "      <td>1호기</td>\n",
       "      <td>2호기</td>\n",
       "    </tr>\n",
       "    <tr>\n",
       "      <th>2</th>\n",
       "      <td>양품</td>\n",
       "      <td>LOT-101</td>\n",
       "      <td>PNL-03</td>\n",
       "      <td>2019-04-01T01:29</td>\n",
       "      <td>2019-04-01T06:49</td>\n",
       "      <td>2019-04-01T12:29</td>\n",
       "      <td>2019-04-06T15:09</td>\n",
       "      <td>2019-04-11T05:09</td>\n",
       "      <td>2019-04-03T21:48</td>\n",
       "      <td>2019-04-11T14:09</td>\n",
       "      <td>...</td>\n",
       "      <td>3호기</td>\n",
       "      <td>1호기</td>\n",
       "      <td>1호기</td>\n",
       "      <td>2호기</td>\n",
       "      <td>2호기</td>\n",
       "      <td>2호기</td>\n",
       "      <td>1호기</td>\n",
       "      <td>3호기</td>\n",
       "      <td>1호기</td>\n",
       "      <td>2호기</td>\n",
       "    </tr>\n",
       "    <tr>\n",
       "      <th>3</th>\n",
       "      <td>양품</td>\n",
       "      <td>LOT-101</td>\n",
       "      <td>PNL-04</td>\n",
       "      <td>2019-04-01T02:13</td>\n",
       "      <td>2019-04-01T07:33</td>\n",
       "      <td>2019-04-01T13:13</td>\n",
       "      <td>2019-04-06T15:53</td>\n",
       "      <td>2019-04-11T05:53</td>\n",
       "      <td>2019-04-03T22:32</td>\n",
       "      <td>2019-04-11T14:53</td>\n",
       "      <td>...</td>\n",
       "      <td>3호기</td>\n",
       "      <td>1호기</td>\n",
       "      <td>1호기</td>\n",
       "      <td>2호기</td>\n",
       "      <td>2호기</td>\n",
       "      <td>2호기</td>\n",
       "      <td>1호기</td>\n",
       "      <td>3호기</td>\n",
       "      <td>1호기</td>\n",
       "      <td>2호기</td>\n",
       "    </tr>\n",
       "    <tr>\n",
       "      <th>4</th>\n",
       "      <td>양품</td>\n",
       "      <td>LOT-101</td>\n",
       "      <td>PNL-05</td>\n",
       "      <td>2019-04-01T02:58</td>\n",
       "      <td>2019-04-01T08:18</td>\n",
       "      <td>2019-04-01T13:58</td>\n",
       "      <td>2019-04-06T16:38</td>\n",
       "      <td>2019-04-11T06:38</td>\n",
       "      <td>2019-04-03T23:17</td>\n",
       "      <td>2019-04-11T15:38</td>\n",
       "      <td>...</td>\n",
       "      <td>3호기</td>\n",
       "      <td>1호기</td>\n",
       "      <td>1호기</td>\n",
       "      <td>2호기</td>\n",
       "      <td>2호기</td>\n",
       "      <td>2호기</td>\n",
       "      <td>1호기</td>\n",
       "      <td>3호기</td>\n",
       "      <td>1호기</td>\n",
       "      <td>2호기</td>\n",
       "    </tr>\n",
       "  </tbody>\n",
       "</table>\n",
       "<p>5 rows × 28 columns</p>\n",
       "</div>"
      ],
      "text/plain": [
       "  JUDGE   LOT_ID PANEL_ID       TIME_1BLACK          TIME_2AG  \\\n",
       "0    양품  LOT-101   PNL-01  2019-04-01T00:01  2019-04-01T05:21   \n",
       "1    양품  LOT-101   PNL-02  2019-04-01T00:45  2019-04-01T06:05   \n",
       "2    양품  LOT-101   PNL-03  2019-04-01T01:29  2019-04-01T06:49   \n",
       "3    양품  LOT-101   PNL-04  2019-04-01T02:13  2019-04-01T07:33   \n",
       "4    양품  LOT-101   PNL-05  2019-04-01T02:58  2019-04-01T08:18   \n",
       "\n",
       "          TIME_3BUS      TIME_4DIELEC         TIME_5MGO        TIME_6PHOS  \\\n",
       "0  2019-04-01T11:01  2019-04-06T13:41  2019-04-11T03:41  2019-04-03T20:20   \n",
       "1  2019-04-01T11:45  2019-04-06T14:25  2019-04-11T04:25  2019-04-03T21:04   \n",
       "2  2019-04-01T12:29  2019-04-06T15:09  2019-04-11T05:09  2019-04-03T21:48   \n",
       "3  2019-04-01T13:13  2019-04-06T15:53  2019-04-11T05:53  2019-04-03T22:32   \n",
       "4  2019-04-01T13:58  2019-04-06T16:38  2019-04-11T06:38  2019-04-03T23:17   \n",
       "\n",
       "        TIME_7PASTE  ... MC_4DIELEC_1FIRE MC_5MGO MC_6PHOS_1R_1DISPENSER  \\\n",
       "0  2019-04-11T12:41  ...              3호기     1호기                    1호기   \n",
       "1  2019-04-11T13:25  ...              3호기     1호기                    1호기   \n",
       "2  2019-04-11T14:09  ...              3호기     1호기                    1호기   \n",
       "3  2019-04-11T14:53  ...              3호기     1호기                    1호기   \n",
       "4  2019-04-11T15:38  ...              3호기     1호기                    1호기   \n",
       "\n",
       "  MC_6PHOS_1R_2DRY MC_6PHOS_2G_1DISPENSER MC_6PHOS_2G_2DRY  \\\n",
       "0              2호기                    2호기              2호기   \n",
       "1              2호기                    2호기              2호기   \n",
       "2              2호기                    2호기              2호기   \n",
       "3              2호기                    2호기              2호기   \n",
       "4              2호기                    2호기              2호기   \n",
       "\n",
       "  MC_6PHOS_3B_1DISPENSER MC_6PHOS_4FIRE MC_7PASTE MC_8AGING  \n",
       "0                    1호기            3호기       1호기       2호기  \n",
       "1                    1호기            3호기       1호기       2호기  \n",
       "2                    1호기            3호기       1호기       2호기  \n",
       "3                    1호기            3호기       1호기       2호기  \n",
       "4                    1호기            3호기       1호기       2호기  \n",
       "\n",
       "[5 rows x 28 columns]"
      ]
     },
     "execution_count": 35,
     "metadata": {},
     "output_type": "execute_result"
    }
   ],
   "source": [
    "mc = pd.read_csv('/Users/joylee/Documents/mc.csv', encoding='EUCKR')\n",
    "mc.head()"
   ]
  },
  {
   "cell_type": "code",
   "execution_count": 36,
   "metadata": {},
   "outputs": [
    {
     "data": {
      "text/plain": [
       "Index(['JUDGE', 'LOT_ID', 'PANEL_ID', 'TIME_1BLACK', 'TIME_2AG', 'TIME_3BUS',\n",
       "       'TIME_4DIELEC', 'TIME_5MGO', 'TIME_6PHOS', 'TIME_7PASTE', 'TIME_8AGING',\n",
       "       'MC_1BLACK_1PRINT', 'MC_1BLACK_2RTD', 'MC_2AG_1PRINT', 'MC_2AG_2RTD',\n",
       "       'MC_2AG_3EXPOSURE', 'MC_3BUS_1DEVELOP', 'MC_3BUS_2FIRE',\n",
       "       'MC_4DIELEC_1FIRE', 'MC_5MGO', 'MC_6PHOS_1R_1DISPENSER',\n",
       "       'MC_6PHOS_1R_2DRY', 'MC_6PHOS_2G_1DISPENSER', 'MC_6PHOS_2G_2DRY',\n",
       "       'MC_6PHOS_3B_1DISPENSER', 'MC_6PHOS_4FIRE', 'MC_7PASTE', 'MC_8AGING'],\n",
       "      dtype='object')"
      ]
     },
     "execution_count": 36,
     "metadata": {},
     "output_type": "execute_result"
    }
   ],
   "source": [
    "mc.columns"
   ]
  },
  {
   "cell_type": "code",
   "execution_count": 37,
   "metadata": {},
   "outputs": [],
   "source": [
    "mc['JUDGE'] = mc['JUDGE'].map({'양품':0, '명점':1})"
   ]
  },
  {
   "cell_type": "code",
   "execution_count": 38,
   "metadata": {},
   "outputs": [
    {
     "data": {
      "text/html": [
       "<div>\n",
       "<style scoped>\n",
       "    .dataframe tbody tr th:only-of-type {\n",
       "        vertical-align: middle;\n",
       "    }\n",
       "\n",
       "    .dataframe tbody tr th {\n",
       "        vertical-align: top;\n",
       "    }\n",
       "\n",
       "    .dataframe thead th {\n",
       "        text-align: right;\n",
       "    }\n",
       "</style>\n",
       "<table border=\"1\" class=\"dataframe\">\n",
       "  <thead>\n",
       "    <tr style=\"text-align: right;\">\n",
       "      <th></th>\n",
       "      <th>JUDGE</th>\n",
       "      <th>LOT_ID</th>\n",
       "      <th>PANEL_ID</th>\n",
       "      <th>DIELEC_FIRE_EXHAUST_HEAT5</th>\n",
       "    </tr>\n",
       "  </thead>\n",
       "  <tbody>\n",
       "    <tr>\n",
       "      <th>0</th>\n",
       "      <td>0</td>\n",
       "      <td>LOT-101</td>\n",
       "      <td>PNL-01</td>\n",
       "      <td>3283</td>\n",
       "    </tr>\n",
       "    <tr>\n",
       "      <th>1</th>\n",
       "      <td>0</td>\n",
       "      <td>LOT-101</td>\n",
       "      <td>PNL-02</td>\n",
       "      <td>3971</td>\n",
       "    </tr>\n",
       "    <tr>\n",
       "      <th>2</th>\n",
       "      <td>0</td>\n",
       "      <td>LOT-101</td>\n",
       "      <td>PNL-03</td>\n",
       "      <td>3324</td>\n",
       "    </tr>\n",
       "    <tr>\n",
       "      <th>3</th>\n",
       "      <td>0</td>\n",
       "      <td>LOT-101</td>\n",
       "      <td>PNL-04</td>\n",
       "      <td>3306</td>\n",
       "    </tr>\n",
       "    <tr>\n",
       "      <th>4</th>\n",
       "      <td>0</td>\n",
       "      <td>LOT-101</td>\n",
       "      <td>PNL-05</td>\n",
       "      <td>3900</td>\n",
       "    </tr>\n",
       "  </tbody>\n",
       "</table>\n",
       "</div>"
      ],
      "text/plain": [
       "   JUDGE   LOT_ID PANEL_ID  DIELEC_FIRE_EXHAUST_HEAT5\n",
       "0      0  LOT-101   PNL-01                       3283\n",
       "1      0  LOT-101   PNL-02                       3971\n",
       "2      0  LOT-101   PNL-03                       3324\n",
       "3      0  LOT-101   PNL-04                       3306\n",
       "4      0  LOT-101   PNL-05                       3900"
      ]
     },
     "execution_count": 38,
     "metadata": {},
     "output_type": "execute_result"
    }
   ],
   "source": [
    "pro1 = pro[['JUDGE', 'LOT_ID','PANEL_ID','DIELEC_FIRE_EXHAUST_HEAT5']]\n",
    "pro1.head()"
   ]
  },
  {
   "cell_type": "code",
   "execution_count": 39,
   "metadata": {},
   "outputs": [
    {
     "data": {
      "text/html": [
       "<div>\n",
       "<style scoped>\n",
       "    .dataframe tbody tr th:only-of-type {\n",
       "        vertical-align: middle;\n",
       "    }\n",
       "\n",
       "    .dataframe tbody tr th {\n",
       "        vertical-align: top;\n",
       "    }\n",
       "\n",
       "    .dataframe thead th {\n",
       "        text-align: right;\n",
       "    }\n",
       "</style>\n",
       "<table border=\"1\" class=\"dataframe\">\n",
       "  <thead>\n",
       "    <tr style=\"text-align: right;\">\n",
       "      <th></th>\n",
       "      <th>JUDGE</th>\n",
       "      <th>LOT_ID</th>\n",
       "      <th>PANEL_ID</th>\n",
       "      <th>BUS_DEVELOP_TEMP_TANK2</th>\n",
       "    </tr>\n",
       "  </thead>\n",
       "  <tbody>\n",
       "    <tr>\n",
       "      <th>0</th>\n",
       "      <td>0</td>\n",
       "      <td>LOT-101</td>\n",
       "      <td>PNL-01</td>\n",
       "      <td>30.753</td>\n",
       "    </tr>\n",
       "    <tr>\n",
       "      <th>1</th>\n",
       "      <td>0</td>\n",
       "      <td>LOT-101</td>\n",
       "      <td>PNL-02</td>\n",
       "      <td>30.800</td>\n",
       "    </tr>\n",
       "    <tr>\n",
       "      <th>2</th>\n",
       "      <td>0</td>\n",
       "      <td>LOT-101</td>\n",
       "      <td>PNL-03</td>\n",
       "      <td>30.694</td>\n",
       "    </tr>\n",
       "    <tr>\n",
       "      <th>3</th>\n",
       "      <td>0</td>\n",
       "      <td>LOT-101</td>\n",
       "      <td>PNL-04</td>\n",
       "      <td>30.691</td>\n",
       "    </tr>\n",
       "    <tr>\n",
       "      <th>4</th>\n",
       "      <td>0</td>\n",
       "      <td>LOT-101</td>\n",
       "      <td>PNL-05</td>\n",
       "      <td>31.032</td>\n",
       "    </tr>\n",
       "  </tbody>\n",
       "</table>\n",
       "</div>"
      ],
      "text/plain": [
       "   JUDGE   LOT_ID PANEL_ID  BUS_DEVELOP_TEMP_TANK2\n",
       "0      0  LOT-101   PNL-01                  30.753\n",
       "1      0  LOT-101   PNL-02                  30.800\n",
       "2      0  LOT-101   PNL-03                  30.694\n",
       "3      0  LOT-101   PNL-04                  30.691\n",
       "4      0  LOT-101   PNL-05                  31.032"
      ]
     },
     "execution_count": 39,
     "metadata": {},
     "output_type": "execute_result"
    }
   ],
   "source": [
    "pro2 = pro[['JUDGE', 'LOT_ID','PANEL_ID','BUS_DEVELOP_TEMP_TANK2']]\n",
    "pro2.head()"
   ]
  },
  {
   "cell_type": "code",
   "execution_count": 40,
   "metadata": {
    "scrolled": true
   },
   "outputs": [
    {
     "data": {
      "text/html": [
       "<div>\n",
       "<style scoped>\n",
       "    .dataframe tbody tr th:only-of-type {\n",
       "        vertical-align: middle;\n",
       "    }\n",
       "\n",
       "    .dataframe tbody tr th {\n",
       "        vertical-align: top;\n",
       "    }\n",
       "\n",
       "    .dataframe thead th {\n",
       "        text-align: right;\n",
       "    }\n",
       "</style>\n",
       "<table border=\"1\" class=\"dataframe\">\n",
       "  <thead>\n",
       "    <tr style=\"text-align: right;\">\n",
       "      <th></th>\n",
       "      <th>JUDGE</th>\n",
       "      <th>LOT_ID</th>\n",
       "      <th>PANEL_ID</th>\n",
       "      <th>MC_4DIELEC_1FIRE</th>\n",
       "    </tr>\n",
       "  </thead>\n",
       "  <tbody>\n",
       "    <tr>\n",
       "      <th>0</th>\n",
       "      <td>0</td>\n",
       "      <td>LOT-101</td>\n",
       "      <td>PNL-01</td>\n",
       "      <td>3호기</td>\n",
       "    </tr>\n",
       "    <tr>\n",
       "      <th>1</th>\n",
       "      <td>0</td>\n",
       "      <td>LOT-101</td>\n",
       "      <td>PNL-02</td>\n",
       "      <td>3호기</td>\n",
       "    </tr>\n",
       "    <tr>\n",
       "      <th>2</th>\n",
       "      <td>0</td>\n",
       "      <td>LOT-101</td>\n",
       "      <td>PNL-03</td>\n",
       "      <td>3호기</td>\n",
       "    </tr>\n",
       "    <tr>\n",
       "      <th>3</th>\n",
       "      <td>0</td>\n",
       "      <td>LOT-101</td>\n",
       "      <td>PNL-04</td>\n",
       "      <td>3호기</td>\n",
       "    </tr>\n",
       "    <tr>\n",
       "      <th>4</th>\n",
       "      <td>0</td>\n",
       "      <td>LOT-101</td>\n",
       "      <td>PNL-05</td>\n",
       "      <td>3호기</td>\n",
       "    </tr>\n",
       "  </tbody>\n",
       "</table>\n",
       "</div>"
      ],
      "text/plain": [
       "   JUDGE   LOT_ID PANEL_ID MC_4DIELEC_1FIRE\n",
       "0      0  LOT-101   PNL-01              3호기\n",
       "1      0  LOT-101   PNL-02              3호기\n",
       "2      0  LOT-101   PNL-03              3호기\n",
       "3      0  LOT-101   PNL-04              3호기\n",
       "4      0  LOT-101   PNL-05              3호기"
      ]
     },
     "execution_count": 40,
     "metadata": {},
     "output_type": "execute_result"
    }
   ],
   "source": [
    "mc1 = mc[['JUDGE', 'LOT_ID','PANEL_ID','MC_4DIELEC_1FIRE']]\n",
    "mc1.head()"
   ]
  },
  {
   "cell_type": "code",
   "execution_count": 41,
   "metadata": {},
   "outputs": [
    {
     "data": {
      "text/html": [
       "<div>\n",
       "<style scoped>\n",
       "    .dataframe tbody tr th:only-of-type {\n",
       "        vertical-align: middle;\n",
       "    }\n",
       "\n",
       "    .dataframe tbody tr th {\n",
       "        vertical-align: top;\n",
       "    }\n",
       "\n",
       "    .dataframe thead th {\n",
       "        text-align: right;\n",
       "    }\n",
       "</style>\n",
       "<table border=\"1\" class=\"dataframe\">\n",
       "  <thead>\n",
       "    <tr style=\"text-align: right;\">\n",
       "      <th></th>\n",
       "      <th>JUDGE</th>\n",
       "      <th>LOT_ID</th>\n",
       "      <th>PANEL_ID</th>\n",
       "      <th>MC_3BUS_1DEVELOP</th>\n",
       "    </tr>\n",
       "  </thead>\n",
       "  <tbody>\n",
       "    <tr>\n",
       "      <th>0</th>\n",
       "      <td>0</td>\n",
       "      <td>LOT-101</td>\n",
       "      <td>PNL-01</td>\n",
       "      <td>1호기</td>\n",
       "    </tr>\n",
       "    <tr>\n",
       "      <th>1</th>\n",
       "      <td>0</td>\n",
       "      <td>LOT-101</td>\n",
       "      <td>PNL-02</td>\n",
       "      <td>1호기</td>\n",
       "    </tr>\n",
       "    <tr>\n",
       "      <th>2</th>\n",
       "      <td>0</td>\n",
       "      <td>LOT-101</td>\n",
       "      <td>PNL-03</td>\n",
       "      <td>1호기</td>\n",
       "    </tr>\n",
       "    <tr>\n",
       "      <th>3</th>\n",
       "      <td>0</td>\n",
       "      <td>LOT-101</td>\n",
       "      <td>PNL-04</td>\n",
       "      <td>1호기</td>\n",
       "    </tr>\n",
       "    <tr>\n",
       "      <th>4</th>\n",
       "      <td>0</td>\n",
       "      <td>LOT-101</td>\n",
       "      <td>PNL-05</td>\n",
       "      <td>1호기</td>\n",
       "    </tr>\n",
       "  </tbody>\n",
       "</table>\n",
       "</div>"
      ],
      "text/plain": [
       "   JUDGE   LOT_ID PANEL_ID MC_3BUS_1DEVELOP\n",
       "0      0  LOT-101   PNL-01              1호기\n",
       "1      0  LOT-101   PNL-02              1호기\n",
       "2      0  LOT-101   PNL-03              1호기\n",
       "3      0  LOT-101   PNL-04              1호기\n",
       "4      0  LOT-101   PNL-05              1호기"
      ]
     },
     "execution_count": 41,
     "metadata": {},
     "output_type": "execute_result"
    }
   ],
   "source": [
    "mc2 = mc[['JUDGE', 'LOT_ID','PANEL_ID','MC_3BUS_1DEVELOP']]\n",
    "mc2.head()"
   ]
  },
  {
   "cell_type": "code",
   "execution_count": 42,
   "metadata": {},
   "outputs": [],
   "source": [
    "pro_mc1 = pd.merge(pro1, mc1, on=['LOT_ID','PANEL_ID', 'JUDGE'])"
   ]
  },
  {
   "cell_type": "code",
   "execution_count": 43,
   "metadata": {
    "scrolled": true
   },
   "outputs": [
    {
     "data": {
      "text/html": [
       "<div>\n",
       "<style scoped>\n",
       "    .dataframe tbody tr th:only-of-type {\n",
       "        vertical-align: middle;\n",
       "    }\n",
       "\n",
       "    .dataframe tbody tr th {\n",
       "        vertical-align: top;\n",
       "    }\n",
       "\n",
       "    .dataframe thead th {\n",
       "        text-align: right;\n",
       "    }\n",
       "</style>\n",
       "<table border=\"1\" class=\"dataframe\">\n",
       "  <thead>\n",
       "    <tr style=\"text-align: right;\">\n",
       "      <th></th>\n",
       "      <th>JUDGE</th>\n",
       "      <th>LOT_ID</th>\n",
       "      <th>PANEL_ID</th>\n",
       "      <th>DIELEC_FIRE_EXHAUST_HEAT5</th>\n",
       "      <th>MC_4DIELEC_1FIRE</th>\n",
       "    </tr>\n",
       "  </thead>\n",
       "  <tbody>\n",
       "    <tr>\n",
       "      <th>0</th>\n",
       "      <td>0</td>\n",
       "      <td>LOT-101</td>\n",
       "      <td>PNL-01</td>\n",
       "      <td>3283</td>\n",
       "      <td>3호기</td>\n",
       "    </tr>\n",
       "    <tr>\n",
       "      <th>1</th>\n",
       "      <td>0</td>\n",
       "      <td>LOT-101</td>\n",
       "      <td>PNL-02</td>\n",
       "      <td>3971</td>\n",
       "      <td>3호기</td>\n",
       "    </tr>\n",
       "    <tr>\n",
       "      <th>2</th>\n",
       "      <td>0</td>\n",
       "      <td>LOT-101</td>\n",
       "      <td>PNL-03</td>\n",
       "      <td>3324</td>\n",
       "      <td>3호기</td>\n",
       "    </tr>\n",
       "    <tr>\n",
       "      <th>3</th>\n",
       "      <td>0</td>\n",
       "      <td>LOT-101</td>\n",
       "      <td>PNL-04</td>\n",
       "      <td>3306</td>\n",
       "      <td>3호기</td>\n",
       "    </tr>\n",
       "    <tr>\n",
       "      <th>4</th>\n",
       "      <td>0</td>\n",
       "      <td>LOT-101</td>\n",
       "      <td>PNL-05</td>\n",
       "      <td>3900</td>\n",
       "      <td>3호기</td>\n",
       "    </tr>\n",
       "  </tbody>\n",
       "</table>\n",
       "</div>"
      ],
      "text/plain": [
       "   JUDGE   LOT_ID PANEL_ID  DIELEC_FIRE_EXHAUST_HEAT5 MC_4DIELEC_1FIRE\n",
       "0      0  LOT-101   PNL-01                       3283              3호기\n",
       "1      0  LOT-101   PNL-02                       3971              3호기\n",
       "2      0  LOT-101   PNL-03                       3324              3호기\n",
       "3      0  LOT-101   PNL-04                       3306              3호기\n",
       "4      0  LOT-101   PNL-05                       3900              3호기"
      ]
     },
     "execution_count": 43,
     "metadata": {},
     "output_type": "execute_result"
    }
   ],
   "source": [
    "pro_mc1.head()"
   ]
  },
  {
   "cell_type": "code",
   "execution_count": 44,
   "metadata": {},
   "outputs": [
    {
     "data": {
      "text/html": [
       "<div>\n",
       "<style scoped>\n",
       "    .dataframe tbody tr th:only-of-type {\n",
       "        vertical-align: middle;\n",
       "    }\n",
       "\n",
       "    .dataframe tbody tr th {\n",
       "        vertical-align: top;\n",
       "    }\n",
       "\n",
       "    .dataframe thead th {\n",
       "        text-align: right;\n",
       "    }\n",
       "</style>\n",
       "<table border=\"1\" class=\"dataframe\">\n",
       "  <thead>\n",
       "    <tr style=\"text-align: right;\">\n",
       "      <th></th>\n",
       "      <th>JUDGE</th>\n",
       "      <th>LOT_ID</th>\n",
       "      <th>PANEL_ID</th>\n",
       "      <th>BUS_DEVELOP_TEMP_TANK2</th>\n",
       "      <th>MC_3BUS_1DEVELOP</th>\n",
       "    </tr>\n",
       "  </thead>\n",
       "  <tbody>\n",
       "    <tr>\n",
       "      <th>0</th>\n",
       "      <td>0</td>\n",
       "      <td>LOT-101</td>\n",
       "      <td>PNL-01</td>\n",
       "      <td>30.753</td>\n",
       "      <td>1호기</td>\n",
       "    </tr>\n",
       "    <tr>\n",
       "      <th>1</th>\n",
       "      <td>0</td>\n",
       "      <td>LOT-101</td>\n",
       "      <td>PNL-02</td>\n",
       "      <td>30.800</td>\n",
       "      <td>1호기</td>\n",
       "    </tr>\n",
       "    <tr>\n",
       "      <th>2</th>\n",
       "      <td>0</td>\n",
       "      <td>LOT-101</td>\n",
       "      <td>PNL-03</td>\n",
       "      <td>30.694</td>\n",
       "      <td>1호기</td>\n",
       "    </tr>\n",
       "    <tr>\n",
       "      <th>3</th>\n",
       "      <td>0</td>\n",
       "      <td>LOT-101</td>\n",
       "      <td>PNL-04</td>\n",
       "      <td>30.691</td>\n",
       "      <td>1호기</td>\n",
       "    </tr>\n",
       "    <tr>\n",
       "      <th>4</th>\n",
       "      <td>0</td>\n",
       "      <td>LOT-101</td>\n",
       "      <td>PNL-05</td>\n",
       "      <td>31.032</td>\n",
       "      <td>1호기</td>\n",
       "    </tr>\n",
       "  </tbody>\n",
       "</table>\n",
       "</div>"
      ],
      "text/plain": [
       "   JUDGE   LOT_ID PANEL_ID  BUS_DEVELOP_TEMP_TANK2 MC_3BUS_1DEVELOP\n",
       "0      0  LOT-101   PNL-01                  30.753              1호기\n",
       "1      0  LOT-101   PNL-02                  30.800              1호기\n",
       "2      0  LOT-101   PNL-03                  30.694              1호기\n",
       "3      0  LOT-101   PNL-04                  30.691              1호기\n",
       "4      0  LOT-101   PNL-05                  31.032              1호기"
      ]
     },
     "execution_count": 44,
     "metadata": {},
     "output_type": "execute_result"
    }
   ],
   "source": [
    "pro_mc2 = pd.merge(pro2, mc2, on=['LOT_ID','PANEL_ID', 'JUDGE'])\n",
    "pro_mc2.head()"
   ]
  },
  {
   "cell_type": "markdown",
   "metadata": {},
   "source": [
    "## - DIELEC_FIRE_EXHAUST_HEAT5"
   ]
  },
  {
   "cell_type": "code",
   "execution_count": 46,
   "metadata": {
    "scrolled": false
   },
   "outputs": [
    {
     "data": {
      "image/png": "[encoded data removed]",
      "text/plain": [
       "<Figure size 432x288 with 1 Axes>"
      ]
     },
     "metadata": {
      "needs_background": "light"
     },
     "output_type": "display_data"
    }
   ],
   "source": [
    "fun_plot_hist(pro1, 'DIELEC_FIRE_EXHAUST_HEAT5')"
   ]
  },
  {
   "cell_type": "code",
   "execution_count": 114,
   "metadata": {
    "scrolled": true
   },
   "outputs": [
    {
     "data": {
      "image/png": "[encoded data removed]",
      "text/plain": [
       "<Figure size 432x288 with 1 Axes>"
      ]
     },
     "metadata": {
      "needs_background": "light"
     },
     "output_type": "display_data"
    }
   ],
   "source": [
    "# AG 1호기\n",
    "fun_plot_hist(pro_mc1[(pro_mc1['MC_4DIELEC_1FIRE']=='1호기')], 'DIELEC_FIRE_EXHAUST_HEAT5')"
   ]
  },
  {
   "cell_type": "code",
   "execution_count": 116,
   "metadata": {},
   "outputs": [
    {
     "data": {
      "image/png": "[encoded data removed]",
      "text/plain": [
       "<Figure size 432x288 with 1 Axes>"
      ]
     },
     "metadata": {
      "needs_background": "light"
     },
     "output_type": "display_data"
    }
   ],
   "source": [
    "# AG 2호기\n",
    "fun_plot_hist(pro_mc1[(pro_mc1['MC_4DIELEC_1FIRE']=='2호기')], 'DIELEC_FIRE_EXHAUST_HEAT5')"
   ]
  },
  {
   "cell_type": "markdown",
   "metadata": {},
   "source": [
    "### - 온도 구간 분류\n",
    "#### 1. 분류하기 전의 불량률\n",
    "#### 2. 44도 이상일 때의 불량률\n",
    "#### 3. 44도 미만일 때의 불량률\n",
    "\n",
    "### - 설비와의 연관성\n",
    "#### 1. AG_RTD 1호기에서 고온/저온 구간 불량률\n",
    "#### 2. AG_RTD 2호기에서 고온/저온 구간 불량률\n"
   ]
  },
  {
   "cell_type": "code",
   "execution_count": 48,
   "metadata": {},
   "outputs": [
    {
     "data": {
      "text/plain": [
       "0.106"
      ]
     },
     "execution_count": 48,
     "metadata": {},
     "output_type": "execute_result"
    }
   ],
   "source": [
    "# 분류하기 전 불량률\n",
    "round(pro1['JUDGE'].mean(),3)"
   ]
  },
  {
   "cell_type": "code",
   "execution_count": 59,
   "metadata": {
    "scrolled": true
   },
   "outputs": [
    {
     "data": {
      "text/plain": [
       "0.091"
      ]
     },
     "execution_count": 59,
     "metadata": {},
     "output_type": "execute_result"
    }
   ],
   "source": [
    "# 46도이상\n",
    "round(pro1[pro1['DIELEC_FIRE_EXHAUST_HEAT5']>=3243]['JUDGE'].mean(),3)"
   ]
  },
  {
   "cell_type": "code",
   "execution_count": 60,
   "metadata": {
    "scrolled": true
   },
   "outputs": [
    {
     "data": {
      "text/plain": [
       "0.663"
      ]
     },
     "execution_count": 60,
     "metadata": {},
     "output_type": "execute_result"
    }
   ],
   "source": [
    "# 44도 미만\n",
    "round(pro1[pro1['DIELEC_FIRE_EXHAUST_HEAT5']<3243]['JUDGE'].mean(),3)"
   ]
  },
  {
   "cell_type": "code",
   "execution_count": 61,
   "metadata": {
    "scrolled": true
   },
   "outputs": [
    {
     "data": {
      "text/plain": [
       "0.106"
      ]
     },
     "execution_count": 61,
     "metadata": {},
     "output_type": "execute_result"
    }
   ],
   "source": [
    "# 1호기 불량률\n",
    "round(pro_mc1[(pro_mc1['MC_4DIELEC_1FIRE']=='1호기')]['JUDGE'].mean(),3)"
   ]
  },
  {
   "cell_type": "code",
   "execution_count": 62,
   "metadata": {},
   "outputs": [
    {
     "data": {
      "text/plain": [
       "0.126"
      ]
     },
     "execution_count": 62,
     "metadata": {},
     "output_type": "execute_result"
    }
   ],
   "source": [
    "# 2호기 불량률\n",
    "round(pro_mc1[(pro_mc1['MC_4DIELEC_1FIRE']=='2호기')]['JUDGE'].mean(),3)"
   ]
  },
  {
   "cell_type": "code",
   "execution_count": 68,
   "metadata": {},
   "outputs": [
    {
     "data": {
      "text/plain": [
       "0.094"
      ]
     },
     "execution_count": 68,
     "metadata": {},
     "output_type": "execute_result"
    }
   ],
   "source": [
    "# 1호기& 46도 미만\n",
    "round(pro_mc1[(pro_mc1['MC_4DIELEC_1FIRE']=='1호기')&(pro1['DIELEC_FIRE_EXHAUST_HEAT5']>=3243)]['JUDGE'].mean(),3)"
   ]
  },
  {
   "cell_type": "code",
   "execution_count": 65,
   "metadata": {
    "scrolled": true
   },
   "outputs": [
    {
     "data": {
      "text/plain": [
       "0.679"
      ]
     },
     "execution_count": 65,
     "metadata": {},
     "output_type": "execute_result"
    }
   ],
   "source": [
    "# 1호기& 46도 미만\n",
    "round(pro_mc1[(pro_mc1['MC_4DIELEC_1FIRE']=='1호기')&(pro1['DIELEC_FIRE_EXHAUST_HEAT5']<3243)]['JUDGE'].mean(),3)"
   ]
  },
  {
   "cell_type": "code",
   "execution_count": 70,
   "metadata": {
    "scrolled": true
   },
   "outputs": [
    {
     "data": {
      "text/plain": [
       "0.126"
      ]
     },
     "execution_count": 70,
     "metadata": {},
     "output_type": "execute_result"
    }
   ],
   "source": [
    "# 2호기& 46도 이상\n",
    "round(pro_mc1[(pro_mc1['MC_4DIELEC_1FIRE']=='2호기')&(pro1['DIELEC_FIRE_EXHAUST_HEAT5']>=46)]['JUDGE'].mean(),3)"
   ]
  },
  {
   "cell_type": "code",
   "execution_count": 56,
   "metadata": {},
   "outputs": [
    {
     "data": {
      "text/plain": [
       "nan"
      ]
     },
     "execution_count": 56,
     "metadata": {},
     "output_type": "execute_result"
    }
   ],
   "source": [
    "# 2호기& 46도 미만\n",
    "round(pro_mc1[(pro_mc1['MC_4DIELEC_1FIRE']=='2호기')&(pro1['DIELEC_FIRE_EXHAUST_HEAT5']<46)]['JUDGE'].mean(),3)"
   ]
  },
  {
   "cell_type": "markdown",
   "metadata": {},
   "source": [
    "## - BUS_DEVELOP_TEMP_TANK2"
   ]
  },
  {
   "cell_type": "code",
   "execution_count": 100,
   "metadata": {
    "scrolled": true
   },
   "outputs": [
    {
     "data": {
      "image/png": "[encoded data removed]",
      "text/plain": [
       "<Figure size 432x288 with 1 Axes>"
      ]
     },
     "metadata": {
      "needs_background": "light"
     },
     "output_type": "display_data"
    }
   ],
   "source": [
    "fun_plot_hist(pro2, 'BUS_DEVELOP_TEMP_TANK2')"
   ]
  },
  {
   "cell_type": "code",
   "execution_count": 111,
   "metadata": {},
   "outputs": [
    {
     "data": {
      "image/png": "[encoded data removed]",
      "text/plain": [
       "<Figure size 432x288 with 1 Axes>"
      ]
     },
     "metadata": {
      "needs_background": "light"
     },
     "output_type": "display_data"
    }
   ],
   "source": [
    "# BUS 1호기\n",
    "fun_plot_hist(pro_mc2[pro_mc2['MC_3BUS_1DEVELOP']=='1호기'], 'BUS_DEVELOP_TEMP_TANK2')"
   ]
  },
  {
   "cell_type": "code",
   "execution_count": 112,
   "metadata": {},
   "outputs": [
    {
     "data": {
      "image/png": "[encoded data removed]",
      "text/plain": [
       "<Figure size 432x288 with 1 Axes>"
      ]
     },
     "metadata": {
      "needs_background": "light"
     },
     "output_type": "display_data"
    }
   ],
   "source": [
    "# BUS 2호기\n",
    "fun_plot_hist(pro_mc2[pro_mc2['MC_3BUS_1DEVELOP']=='2호기'], 'BUS_DEVELOP_TEMP_TANK2')"
   ]
  },
  {
   "cell_type": "code",
   "execution_count": 132,
   "metadata": {
    "scrolled": true
   },
   "outputs": [
    {
     "data": {
      "text/plain": [
       "0.106"
      ]
     },
     "execution_count": 132,
     "metadata": {},
     "output_type": "execute_result"
    }
   ],
   "source": [
    "# 분류하기 전 불량률\n",
    "round(pro2['JUDGE'].mean(),3)"
   ]
  },
  {
   "cell_type": "code",
   "execution_count": 71,
   "metadata": {},
   "outputs": [
    {
     "data": {
      "text/plain": [
       "0.116"
      ]
     },
     "execution_count": 71,
     "metadata": {},
     "output_type": "execute_result"
    }
   ],
   "source": [
    "# 1호기 불량률\n",
    "round(pro_mc2[(pro_mc2['MC_3BUS_1DEVELOP']=='1호기')]['JUDGE'].mean(),3)"
   ]
  },
  {
   "cell_type": "code",
   "execution_count": 72,
   "metadata": {},
   "outputs": [
    {
     "data": {
      "text/plain": [
       "0.096"
      ]
     },
     "execution_count": 72,
     "metadata": {},
     "output_type": "execute_result"
    }
   ],
   "source": [
    "# 2호기 불량률\n",
    "round(pro_mc2[(pro_mc2['MC_3BUS_1DEVELOP']=='2호기')]['JUDGE'].mean(),3)"
   ]
  },
  {
   "cell_type": "code",
   "execution_count": 73,
   "metadata": {
    "scrolled": true
   },
   "outputs": [
    {
     "data": {
      "text/plain": [
       "0.151"
      ]
     },
     "execution_count": 73,
     "metadata": {},
     "output_type": "execute_result"
    }
   ],
   "source": [
    "# 31도 이상 불량률\n",
    "round(pro_mc2[(pro_mc2['BUS_DEVELOP_TEMP_TANK2']>=31)]['JUDGE'].mean(),3)"
   ]
  },
  {
   "cell_type": "code",
   "execution_count": 153,
   "metadata": {},
   "outputs": [
    {
     "data": {
      "text/plain": [
       "0.064"
      ]
     },
     "execution_count": 153,
     "metadata": {},
     "output_type": "execute_result"
    }
   ],
   "source": [
    "# 31도 미만 불량률\n",
    "round(pro_mc2[(pro_mc2['BUS_DEVELOP_TEMP_TANK2']<31)]['JUDGE'].mean(),3)"
   ]
  },
  {
   "cell_type": "code",
   "execution_count": 154,
   "metadata": {},
   "outputs": [
    {
     "data": {
      "text/plain": [
       "0.082"
      ]
     },
     "execution_count": 154,
     "metadata": {},
     "output_type": "execute_result"
    }
   ],
   "source": [
    "# 31.4도 미만 불량률\n",
    "round(pro_mc2[(pro_mc2['BUS_DEVELOP_TEMP_TANK2']<31.4)]['JUDGE'].mean(),3)"
   ]
  },
  {
   "cell_type": "code",
   "execution_count": 156,
   "metadata": {
    "scrolled": true
   },
   "outputs": [
    {
     "data": {
      "text/plain": [
       "0.193"
      ]
     },
     "execution_count": 156,
     "metadata": {},
     "output_type": "execute_result"
    }
   ],
   "source": [
    "# 31.4도 이상 불량률\n",
    "round(pro_mc2[(pro_mc2['BUS_DEVELOP_TEMP_TANK2']>=31.4)]['JUDGE'].mean(),3)"
   ]
  },
  {
   "cell_type": "markdown",
   "metadata": {},
   "source": [
    "### AG 온도 구분 시 불량률"
   ]
  },
  {
   "cell_type": "code",
   "execution_count": 109,
   "metadata": {
    "scrolled": true
   },
   "outputs": [
    {
     "data": {
      "text/plain": [
       "0.066"
      ]
     },
     "execution_count": 109,
     "metadata": {},
     "output_type": "execute_result"
    }
   ],
   "source": [
    "# AG 1호기 BUS 1호기 불량률 & 31\n",
    "round(pro_mc1[(pro_mc1['MC_4DIELEC_1FIRE']=='3호기')&(pro_mc2['MC_3BUS_1DEVELOP']=='2호기')&(pro_mc1['DIELEC_FIRE_EXHAUST_HEAT5']>=3243)]['JUDGE'].mean(),3)"
   ]
  },
  {
   "cell_type": "code",
   "execution_count": 158,
   "metadata": {
    "scrolled": true
   },
   "outputs": [
    {
     "data": {
      "text/plain": [
       "0.085"
      ]
     },
     "execution_count": 158,
     "metadata": {},
     "output_type": "execute_result"
    }
   ],
   "source": [
    "# AG 1호기 BUS 1호기 불량률 & 31.4\n",
    "round(pro_mc1[(pro_mc1['MC_4DIELEC_1FIRE']=='1호기')&(pro_mc2['MC_3BUS_1DEVELOP']=='1호기')&(pro_mc2['BUS_DEVELOP_TEMP_TANK2']<31.4)]['JUDGE'].mean(),3)"
   ]
  },
  {
   "cell_type": "code",
   "execution_count": 98,
   "metadata": {},
   "outputs": [
    {
     "data": {
      "text/plain": [
       "0.073"
      ]
     },
     "execution_count": 98,
     "metadata": {},
     "output_type": "execute_result"
    }
   ],
   "source": [
    "# AG 1호기 BUS 1호기 불량률 & 31\n",
    "round(pro_mc1[(pro_mc1['MC_4DIELEC_1FIRE']=='3호기')&(pro_mc2['MC_3BUS_1DEVELOP']=='2호기')]['JUDGE'].mean(),3)"
   ]
  },
  {
   "cell_type": "code",
   "execution_count": 78,
   "metadata": {},
   "outputs": [
    {
     "data": {
      "text/plain": [
       "0.128"
      ]
     },
     "execution_count": 78,
     "metadata": {},
     "output_type": "execute_result"
    }
   ],
   "source": [
    "# AG 1호기 BUS 1호기 불량률 & 31\n",
    "round(pro_mc1[(pro_mc1['MC_4DIELEC_1FIRE']=='2호기')&(pro_mc2['MC_3BUS_1DEVELOP']=='1호기')]['JUDGE'].mean(),3)"
   ]
  },
  {
   "cell_type": "code",
   "execution_count": 79,
   "metadata": {},
   "outputs": [
    {
     "data": {
      "text/plain": [
       "0.128"
      ]
     },
     "execution_count": 79,
     "metadata": {},
     "output_type": "execute_result"
    }
   ],
   "source": [
    "# AG 1호기 BUS 1호기 불량률 & 31\n",
    "round(pro_mc1[(pro_mc1['MC_4DIELEC_1FIRE']=='2호기')&(pro_mc2['MC_3BUS_1DEVELOP']=='1호기')]['JUDGE'].mean(),3)"
   ]
  },
  {
   "cell_type": "code",
   "execution_count": 81,
   "metadata": {},
   "outputs": [
    {
     "data": {
      "text/plain": [
       "0.1"
      ]
     },
     "execution_count": 81,
     "metadata": {},
     "output_type": "execute_result"
    }
   ],
   "source": [
    "# AG 1호기 BUS 1호기 불량률 & 31\n",
    "round(pro_mc1[(pro_mc1['MC_4DIELEC_1FIRE']=='3호기')&(pro_mc2['MC_3BUS_1DEVELOP']=='1호기')]['JUDGE'].mean(),3)"
   ]
  },
  {
   "cell_type": "code",
   "execution_count": 159,
   "metadata": {},
   "outputs": [
    {
     "data": {
      "text/plain": [
       "0.081"
      ]
     },
     "execution_count": 159,
     "metadata": {},
     "output_type": "execute_result"
    }
   ],
   "source": [
    "# AG 1호기 BUS 2호기 불량률 & 31\n",
    "round(pro_mc1[(pro_mc1['MC_4DIELEC_1FIRE']=='1호기')&(pro_mc2['MC_3BUS_1DEVELOP']=='2호기')&(pro_mc2['BUS_DEVELOP_TEMP_TANK2']<31)]['JUDGE'].mean(),3)"
   ]
  },
  {
   "cell_type": "code",
   "execution_count": 160,
   "metadata": {},
   "outputs": [
    {
     "data": {
      "text/plain": [
       "0.097"
      ]
     },
     "execution_count": 160,
     "metadata": {},
     "output_type": "execute_result"
    }
   ],
   "source": [
    "# AG 1호기 BUS 2호기 불량률 & 31.4\n",
    "round(pro_mc1[(pro_mc1['MC_4DIELEC_1FIRE']=='1호기')&(pro_mc2['MC_3BUS_1DEVELOP']=='2호기')&(pro_mc2['BUS_DEVELOP_TEMP_TANK2']<31.4)]['JUDGE'].mean(),3)"
   ]
  },
  {
   "cell_type": "code",
   "execution_count": null,
   "metadata": {},
   "outputs": [],
   "source": []
  },
  {
   "cell_type": "code",
   "execution_count": 161,
   "metadata": {},
   "outputs": [
    {
     "data": {
      "text/plain": [
       "0.068"
      ]
     },
     "execution_count": 161,
     "metadata": {},
     "output_type": "execute_result"
    }
   ],
   "source": [
    "# AG 2호기 BUS 1호기 불량률 & 31\n",
    "round(pro_mc1[(pro_mc1['MC_4DIELEC_1FIRE']=='2호기')&(pro_mc2['MC_3BUS_1DEVELOP']=='1호기')&(pro_mc2['BUS_DEVELOP_TEMP_TANK2']<31)]['JUDGE'].mean(),3)"
   ]
  },
  {
   "cell_type": "code",
   "execution_count": 162,
   "metadata": {},
   "outputs": [
    {
     "data": {
      "text/plain": [
       "0.093"
      ]
     },
     "execution_count": 162,
     "metadata": {},
     "output_type": "execute_result"
    }
   ],
   "source": [
    "# AG 2호기 BUS 1호기 불량률 & 31.4\n",
    "round(pro_mc1[(pro_mc1['MC_4DIELEC_1FIRE']=='2호기')&(pro_mc2['MC_3BUS_1DEVELOP']=='1호기')&(pro_mc2['BUS_DEVELOP_TEMP_TANK2']<31.4)]['JUDGE'].mean(),3)"
   ]
  },
  {
   "cell_type": "code",
   "execution_count": null,
   "metadata": {},
   "outputs": [],
   "source": []
  },
  {
   "cell_type": "code",
   "execution_count": 163,
   "metadata": {
    "scrolled": false
   },
   "outputs": [
    {
     "data": {
      "text/plain": [
       "0.044"
      ]
     },
     "execution_count": 163,
     "metadata": {},
     "output_type": "execute_result"
    }
   ],
   "source": [
    "# AG 2호기 BUS 2호기 불량률 & 31\n",
    "round(pro_mc1[(pro_mc1['MC_4DIELEC_1FIRE']=='2호기')&(pro_mc2['MC_3BUS_1DEVELOP']=='2호기')&(pro_mc2['BUS_DEVELOP_TEMP_TANK2']<31)]['JUDGE'].mean(),3)"
   ]
  },
  {
   "cell_type": "code",
   "execution_count": 164,
   "metadata": {
    "scrolled": true
   },
   "outputs": [
    {
     "data": {
      "text/plain": [
       "0.059"
      ]
     },
     "execution_count": 164,
     "metadata": {},
     "output_type": "execute_result"
    }
   ],
   "source": [
    "# AG 2호기 BUS 2호기 불량률 & 31.4\n",
    "round(pro_mc1[(pro_mc1['MC_4DIELEC_1FIRE']=='2호기')&(pro_mc2['MC_3BUS_1DEVELOP']=='2호기')&(pro_mc2['BUS_DEVELOP_TEMP_TANK2']<31)]['JUDGE'].mean(),3)"
   ]
  },
  {
   "cell_type": "code",
   "execution_count": null,
   "metadata": {},
   "outputs": [],
   "source": []
  },
  {
   "cell_type": "code",
   "execution_count": 166,
   "metadata": {
    "scrolled": false
   },
   "outputs": [
    {
     "data": {
      "text/plain": [
       "0.179"
      ]
     },
     "execution_count": 166,
     "metadata": {},
     "output_type": "execute_result"
    }
   ],
   "source": [
    "# AG 1호기 BUS 1호기 불량률 & 31 & 고온\n",
    "round(pro_mc1[(pro_mc1['MC_4DIELEC_1FIRE']=='1호기')&(pro_mc2['MC_3BUS_1DEVELOP']=='1호기')&(pro_mc2['BUS_DEVELOP_TEMP_TANK2']<31)&(pro1['DIELEC_FIRE_EXHAUST_HEAT5']>=46)]['JUDGE'].mean(),3)"
   ]
  },
  {
   "cell_type": "code",
   "execution_count": 167,
   "metadata": {
    "scrolled": true
   },
   "outputs": [
    {
     "data": {
      "text/plain": [
       "0.226"
      ]
     },
     "execution_count": 167,
     "metadata": {},
     "output_type": "execute_result"
    }
   ],
   "source": [
    "# AG 1호기 BUS 1호기 불량률 & 31.4 & 고온\n",
    "round(pro_mc1[(pro_mc1['MC_4DIELEC_1FIRE']=='1호기')&(pro_mc2['MC_3BUS_1DEVELOP']=='1호기')&(pro_mc2['BUS_DEVELOP_TEMP_TANK2']<31.4)&(pro1['DIELEC_FIRE_EXHAUST_HEAT5']>=46)]['JUDGE'].mean(),3)"
   ]
  },
  {
   "cell_type": "code",
   "execution_count": null,
   "metadata": {},
   "outputs": [],
   "source": []
  },
  {
   "cell_type": "code",
   "execution_count": 168,
   "metadata": {
    "scrolled": false
   },
   "outputs": [
    {
     "data": {
      "text/plain": [
       "0.207"
      ]
     },
     "execution_count": 168,
     "metadata": {},
     "output_type": "execute_result"
    }
   ],
   "source": [
    "# AG 1호기 BUS 2호기 불량률 & 31 & 고온\n",
    "round(pro_mc1[(pro_mc1['MC_4DIELEC_1FIRE']=='1호기')&(pro_mc2['MC_3BUS_1DEVELOP']=='2호기')&(pro_mc2['BUS_DEVELOP_TEMP_TANK2']<31)&(pro1['DIELEC_FIRE_EXHAUST_HEAT5']>=46)]['JUDGE'].mean(),3)"
   ]
  },
  {
   "cell_type": "code",
   "execution_count": 169,
   "metadata": {
    "scrolled": true
   },
   "outputs": [
    {
     "data": {
      "text/plain": [
       "0.247"
      ]
     },
     "execution_count": 169,
     "metadata": {},
     "output_type": "execute_result"
    }
   ],
   "source": [
    "# AG 1호기 BUS 2호기 불량률 & 31.4 & 고온\n",
    "round(pro_mc1[(pro_mc1['MC_4DIELEC_1FIRE']=='1호기')&(pro_mc2['MC_3BUS_1DEVELOP']=='2호기')&(pro_mc2['BUS_DEVELOP_TEMP_TANK2']<31.4)&(pro1['DIELEC_FIRE_EXHAUST_HEAT5']>=46)]['JUDGE'].mean(),3)"
   ]
  },
  {
   "cell_type": "code",
   "execution_count": null,
   "metadata": {},
   "outputs": [],
   "source": []
  },
  {
   "cell_type": "code",
   "execution_count": 170,
   "metadata": {
    "scrolled": true
   },
   "outputs": [
    {
     "data": {
      "text/plain": [
       "0.029"
      ]
     },
     "execution_count": 170,
     "metadata": {},
     "output_type": "execute_result"
    }
   ],
   "source": [
    "# AG 1호기 BUS 1호기 불량률 & 31 & 저온\n",
    "round(pro_mc1[(pro_mc1['MC_4DIELEC_1FIRE']=='1호기')&(pro_mc2['MC_3BUS_1DEVELOP']=='1호기')&(pro_mc2['BUS_DEVELOP_TEMP_TANK2']<31)&(pro1['DIELEC_FIRE_EXHAUST_HEAT5']<46)]['JUDGE'].mean(),3)"
   ]
  },
  {
   "cell_type": "code",
   "execution_count": 171,
   "metadata": {
    "scrolled": false
   },
   "outputs": [
    {
     "data": {
      "text/plain": [
       "0.035"
      ]
     },
     "execution_count": 171,
     "metadata": {},
     "output_type": "execute_result"
    }
   ],
   "source": [
    "# AG 1호기 BUS 1호기 불량률 & 31.4 & 저온\n",
    "round(pro_mc1[(pro_mc1['MC_4DIELEC_1FIRE']=='1호기')&(pro_mc2['MC_3BUS_1DEVELOP']=='1호기')&(pro_mc2['BUS_DEVELOP_TEMP_TANK2']<31.4)&(pro1['DIELEC_FIRE_EXHAUST_HEAT5']<46)]['JUDGE'].mean(),3)"
   ]
  },
  {
   "cell_type": "code",
   "execution_count": null,
   "metadata": {},
   "outputs": [],
   "source": []
  },
  {
   "cell_type": "code",
   "execution_count": 172,
   "metadata": {
    "scrolled": true
   },
   "outputs": [
    {
     "data": {
      "text/plain": [
       "0.03"
      ]
     },
     "execution_count": 172,
     "metadata": {},
     "output_type": "execute_result"
    }
   ],
   "source": [
    "# AG 1호기 BUS 2호기 불량률 & 31 & 저온\n",
    "round(pro_mc1[(pro_mc1['MC_4DIELEC_1FIRE']=='1호기')&(pro_mc2['MC_3BUS_1DEVELOP']=='2호기')&(pro_mc2['BUS_DEVELOP_TEMP_TANK2']<31)&(pro1['DIELEC_FIRE_EXHAUST_HEAT5']<46)]['JUDGE'].mean(),3)"
   ]
  },
  {
   "cell_type": "code",
   "execution_count": 173,
   "metadata": {
    "scrolled": false
   },
   "outputs": [
    {
     "data": {
      "text/plain": [
       "0.034"
      ]
     },
     "execution_count": 173,
     "metadata": {},
     "output_type": "execute_result"
    }
   ],
   "source": [
    "# AG 1호기 BUS 2호기 불량률 & 31.4 & 저온\n",
    "round(pro_mc1[(pro_mc1['MC_4DIELEC_1FIRE']=='1호기')&(pro_mc2['MC_3BUS_1DEVELOP']=='2호기')&(pro_mc2['BUS_DEVELOP_TEMP_TANK2']<31.4)&(pro1['DIELEC_FIRE_EXHAUST_HEAT5']<46)]['JUDGE'].mean(),3)"
   ]
  },
  {
   "cell_type": "code",
   "execution_count": null,
   "metadata": {},
   "outputs": [],
   "source": []
  },
  {
   "cell_type": "code",
   "execution_count": 174,
   "metadata": {
    "scrolled": false
   },
   "outputs": [
    {
     "data": {
      "text/plain": [
       "0.21"
      ]
     },
     "execution_count": 174,
     "metadata": {},
     "output_type": "execute_result"
    }
   ],
   "source": [
    "# AG 2호기 BUS 1호기 불량률 & 31 & 고온\n",
    "round(pro_mc1[(pro_mc1['MC_4DIELEC_1FIRE']=='2호기')&(pro_mc2['MC_3BUS_1DEVELOP']=='1호기')&(pro_mc2['BUS_DEVELOP_TEMP_TANK2']<31)&(pro1['DIELEC_FIRE_EXHAUST_HEAT5']>=46)]['JUDGE'].mean(),3)"
   ]
  },
  {
   "cell_type": "code",
   "execution_count": 175,
   "metadata": {
    "scrolled": true
   },
   "outputs": [
    {
     "data": {
      "text/plain": [
       "0.263"
      ]
     },
     "execution_count": 175,
     "metadata": {},
     "output_type": "execute_result"
    }
   ],
   "source": [
    "# AG 2호기 BUS 1호기 불량률 & 31.4 & 고온\n",
    "round(pro_mc1[(pro_mc1['MC_4DIELEC_1FIRE']=='2호기')&(pro_mc2['MC_3BUS_1DEVELOP']=='1호기')&(pro_mc2['BUS_DEVELOP_TEMP_TANK2']<31.4)&(pro1['DIELEC_FIRE_EXHAUST_HEAT5']>=46)]['JUDGE'].mean(),3)"
   ]
  },
  {
   "cell_type": "code",
   "execution_count": null,
   "metadata": {},
   "outputs": [],
   "source": []
  },
  {
   "cell_type": "code",
   "execution_count": 176,
   "metadata": {
    "scrolled": false
   },
   "outputs": [
    {
     "data": {
      "text/plain": [
       "0.15"
      ]
     },
     "execution_count": 176,
     "metadata": {},
     "output_type": "execute_result"
    }
   ],
   "source": [
    "# AG 2호기 BUS 2호기 불량률 & 31 & 고온\n",
    "round(pro_mc1[(pro_mc1['MC_4DIELEC_1FIRE']=='2호기')&(pro_mc2['MC_3BUS_1DEVELOP']=='2호기')&(pro_mc2['BUS_DEVELOP_TEMP_TANK2']<31)&(pro1['DIELEC_FIRE_EXHAUST_HEAT5']>=46)]['JUDGE'].mean(),3)"
   ]
  },
  {
   "cell_type": "code",
   "execution_count": 177,
   "metadata": {
    "scrolled": true
   },
   "outputs": [
    {
     "data": {
      "text/plain": [
       "0.194"
      ]
     },
     "execution_count": 177,
     "metadata": {},
     "output_type": "execute_result"
    }
   ],
   "source": [
    "# AG 2호기 BUS 2호기 불량률 & 31.4 & 고온\n",
    "round(pro_mc1[(pro_mc1['MC_4DIELEC_1FIRE']=='2호기')&(pro_mc2['MC_3BUS_1DEVELOP']=='2호기')&(pro_mc2['BUS_DEVELOP_TEMP_TANK2']<31.4)&(pro1['DIELEC_FIRE_EXHAUST_HEAT5']>=46)]['JUDGE'].mean(),3)"
   ]
  },
  {
   "cell_type": "code",
   "execution_count": null,
   "metadata": {},
   "outputs": [],
   "source": []
  },
  {
   "cell_type": "code",
   "execution_count": 178,
   "metadata": {
    "scrolled": true
   },
   "outputs": [
    {
     "data": {
      "text/plain": [
       "0.02"
      ]
     },
     "execution_count": 178,
     "metadata": {},
     "output_type": "execute_result"
    }
   ],
   "source": [
    "# AG 2호기 BUS 1호기 불량률 & 31 & 저온\n",
    "round(pro_mc1[(pro_mc1['MC_4DIELEC_1FIRE']=='2호기')&(pro_mc2['MC_3BUS_1DEVELOP']=='1호기')&(pro_mc2['BUS_DEVELOP_TEMP_TANK2']<31)&(pro1['DIELEC_FIRE_EXHAUST_HEAT5']<46)]['JUDGE'].mean(),3)"
   ]
  },
  {
   "cell_type": "code",
   "execution_count": 179,
   "metadata": {
    "scrolled": false
   },
   "outputs": [
    {
     "data": {
      "text/plain": [
       "0.025"
      ]
     },
     "execution_count": 179,
     "metadata": {},
     "output_type": "execute_result"
    }
   ],
   "source": [
    "# AG 2호기 BUS 1호기 불량률 & 31.4 & 저온\n",
    "round(pro_mc1[(pro_mc1['MC_4DIELEC_1FIRE']=='2호기')&(pro_mc2['MC_3BUS_1DEVELOP']=='1호기')&(pro_mc2['BUS_DEVELOP_TEMP_TANK2']<31.4)&(pro1['DIELEC_FIRE_EXHAUST_HEAT5']<46)]['JUDGE'].mean(),3)"
   ]
  },
  {
   "cell_type": "code",
   "execution_count": null,
   "metadata": {},
   "outputs": [],
   "source": []
  },
  {
   "cell_type": "code",
   "execution_count": 180,
   "metadata": {
    "scrolled": true
   },
   "outputs": [
    {
     "data": {
      "text/plain": [
       "0.009"
      ]
     },
     "execution_count": 180,
     "metadata": {},
     "output_type": "execute_result"
    }
   ],
   "source": [
    "# AG 2호기 BUS 2호기 불량률 & 31 & 저온\n",
    "round(pro_mc1[(pro_mc1['MC_4DIELEC_1FIRE']=='2호기')&(pro_mc2['MC_3BUS_1DEVELOP']=='2호기')&(pro_mc2['BUS_DEVELOP_TEMP_TANK2']<31)&(pro1['DIELEC_FIRE_EXHAUST_HEAT5']<46)]['JUDGE'].mean(),3)"
   ]
  },
  {
   "cell_type": "code",
   "execution_count": 181,
   "metadata": {
    "scrolled": false
   },
   "outputs": [
    {
     "data": {
      "text/plain": [
       "0.017"
      ]
     },
     "execution_count": 181,
     "metadata": {},
     "output_type": "execute_result"
    }
   ],
   "source": [
    "# AG 2호기 BUS 2호기 불량률 & 31.4 & 저온\n",
    "round(pro_mc1[(pro_mc1['MC_4DIELEC_1FIRE']=='2호기')&(pro_mc2['MC_3BUS_1DEVELOP']=='2호기')&(pro_mc2['BUS_DEVELOP_TEMP_TANK2']<31.4)&(pro1['DIELEC_FIRE_EXHAUST_HEAT5']<46)]['JUDGE'].mean(),3)"
   ]
  },
  {
   "cell_type": "code",
   "execution_count": null,
   "metadata": {},
   "outputs": [],
   "source": []
  },
  {
   "cell_type": "code",
   "execution_count": null,
   "metadata": {},
   "outputs": [],
   "source": []
  },
  {
   "cell_type": "markdown",
   "metadata": {},
   "source": [
    "## - DIELEC_FIRE_EXHAUST_HEAT"
   ]
  },
  {
   "cell_type": "code",
   "execution_count": 10,
   "metadata": {},
   "outputs": [
    {
     "data": {
      "image/png": "[encoded data removed]",
      "text/plain": [
       "<Figure size 432x288 with 1 Axes>"
      ]
     },
     "metadata": {
      "needs_background": "light"
     },
     "output_type": "display_data"
    }
   ],
   "source": [
    "fun_plot_hist(pro, 'DIELEC_FIRE_EXHAUST_HEAT5')"
   ]
  },
  {
   "cell_type": "code",
   "execution_count": 11,
   "metadata": {},
   "outputs": [
    {
     "data": {
      "image/png": "[encoded data removed]",
      "text/plain": [
       "<Figure size 432x288 with 1 Axes>"
      ]
     },
     "metadata": {
      "needs_background": "light"
     },
     "output_type": "display_data"
    }
   ],
   "source": [
    "fun_plot_hist(pro, 'DIELEC_FIRE_EXHAUST_HEAT4')"
   ]
  },
  {
   "cell_type": "code",
   "execution_count": 12,
   "metadata": {
    "scrolled": true
   },
   "outputs": [
    {
     "data": {
      "image/png": "[encoded data removed]",
      "text/plain": [
       "<Figure size 432x288 with 1 Axes>"
      ]
     },
     "metadata": {
      "needs_background": "light"
     },
     "output_type": "display_data"
    }
   ],
   "source": [
    "fun_plot_hist(pro, 'DIELEC_FIRE_EXHAUST_HEAT7')"
   ]
  },
  {
   "cell_type": "code",
   "execution_count": null,
   "metadata": {},
   "outputs": [],
   "source": []
  }
 ],
 "metadata": {
  "kernelspec": {
   "display_name": "Python 3",
   "language": "python",
   "name": "python3"
  },
  "language_info": {
   "codemirror_mode": {
    "name": "ipython",
    "version": 3
   },
   "file_extension": ".py",
   "mimetype": "text/x-python",
   "name": "python",
   "nbconvert_exporter": "python",
   "pygments_lexer": "ipython3",
   "version": "3.7.6"
  }
 },
 "nbformat": 4,
 "nbformat_minor": 2
}
