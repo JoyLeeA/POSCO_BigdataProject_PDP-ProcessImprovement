{
 "cells": [
  {
   "cell_type": "markdown",
   "metadata": {},
   "source": [
    "# 트리 도출 중요변수 카이제곱 검정 유의성  \n",
    "# (설비 수 / P값 / 검정결과) "
   ]
  },
  {
   "cell_type": "markdown",
   "metadata": {},
   "source": [
    "1. MC_4DIELEC_1FIRE : (3개 / 0.03 / 유의 O)\n",
    "2. MC_6PHOS_2G_2DRI : (2개 / 0.06 / 유의 X)\n",
    "3. MC_6PHOS_4FIRE : (3개 / 0.065 / 유의 X)\n",
    "4. MC_4DIELEC_1FIRE : (3개 / 0.003 / 유의 O)\n",
    "5. MC_5MGO : (2개 / 0.27 / 유의 X)\n",
    "6. MC_1BLACK_2RTD : (2개 / 0.5 / 유의 X)"
   ]
  },
  {
   "cell_type": "markdown",
   "metadata": {},
   "source": [
    "# 공정 순서 별 카이제곱 검정 유의성\n",
    "# (설비 수 / P값 / 검정 결과)"
   ]
  },
  {
   "cell_type": "markdown",
   "metadata": {},
   "source": [
    "1. MC_1BLACK_1PRINT : (2개 / 0.75 / 유의 X)\n",
    "2. MC_1BLACK_2RTD : (2개 / 0.4 / 유의 X)\n",
    "3. MC_2AG_1PRINT : (2개 / 0.69 / 유의 X)\n",
    "4. MC_2AG_2RTD : (2개 / 0.025 / 유의 O)\n",
    "5. MC_2AG_3EXPOSURE : (2개 / 0.77 / 유의 X)\n",
    "6. MC_3BUS_1DEVELOP : (1개 / 0.06 / 유의 X)\n",
    "7. MC_3BUS_2FIRE : (2개 / 0.34 / 유의 X)\n",
    "8. MC_4DIELEC_1FIRE : (3개 / 0.003 / 유의 O)\n",
    "9. MC_5MGO : (2개 / 0.27 / 유의 X)\n",
    "10. MC_6PHOS_1R_1DISPENSER : (2개 / 0.8 / 유의 X)\n",
    "11. MC_6PHOS_1R_2DRY : (2개 / 0.3 / 유의 X)\n",
    "12. MC_6PHOS_2G_1DISPENSER : (2개 / 0.34 / 유의 X)\n",
    "13. MC_6PHOS_2G_2DRY : (2개 / 0.066 / 유의 X)\n",
    "14. MC_6PHOS_3B_1DISPENSER : (2개 / 0.49 / 유의 X)\n",
    "15. MC_6PHOS_4FIRE : (3개 / 0.065 / 유의 X)\n",
    "16. MC_7PASTE : (2개 / 0.73 / 유의 x)\n",
    "17. MC_8AGING : (2개 / 0.49 / 유의 x)\n"
   ]
  },
  {
   "cell_type": "markdown",
   "metadata": {},
   "source": [
    "# 불량률 차이가 유의한 변수들"
   ]
  },
  {
   "cell_type": "markdown",
   "metadata": {},
   "source": [
    "4. MC_2AG_2RTD : (2개 / 0.025 / 유의 O)\n",
    "\n",
    "\n",
    "\n",
    "8. MC_4DIELEC_1FIRE : (3개 / 0.003 / 유의 O)\n"
   ]
  },
  {
   "cell_type": "code",
   "execution_count": 100,
   "metadata": {},
   "outputs": [],
   "source": [
    "#행렬 연산 패키지\n",
    "import numpy as np\n",
    "\n",
    "#데이터 구성 패키지 Series , Data Frame\n",
    "import pandas as pd\n",
    "\n",
    "#데이터 시각화 패키지\n",
    "import matplotlib\n",
    "import matplotlib.pyplot as plt\n",
    "#import matplotlib.pyplot as plt\n",
    "\n",
    "#데이터 시각화(추세, 등) 패키지\n",
    "import seaborn as sns\n",
    " \n",
    "\n",
    "# 추검정 및 통계 분석 패키지\n",
    "from scipy import stats\n",
    "import scipy.stats\n",
    "import statsmodels.api as sm\n",
    "from statsmodels.stats.proportion import proportions_ztest\n",
    "\n",
    "\n",
    "#주피터 노트북 내 그래프 바로 그리기 위한 설정\n",
    "%matplotlib inline\n",
    "\n",
    "#맑은 고딕 폰트 적용\n",
    "matplotlib.rc('font', family = 'Malgun Gothic')"
   ]
  },
  {
   "cell_type": "code",
   "execution_count": 2,
   "metadata": {},
   "outputs": [],
   "source": [
    "#데이터 구성: Series, DataFrame\n",
    "import pandas as pd\n",
    "#데이터 시각화\n",
    "import matplotlib.pyplot as plt\n",
    "import matplotlib\n",
    "import numpy as np\n",
    "\n",
    "import seaborn as sns\n",
    "\n",
    "import pandas_profiling\n",
    "\n",
    "\n",
    "from datetime import datetime\n",
    "\n",
    "from statsmodels.tsa.arima_model import ARIMA\n",
    "\n",
    "#폰트\n",
    "font_path ='/usr/share/fonts/opentype/noto/NotoSerifCJK-ExtraLight.ttc'\n",
    "font_name = matplotlib.font_manager.FontProperties(fname=font_path).get_name()\n",
    "matplotlib.rc(\"font\", family = font_name)\n",
    "\n",
    "%matplotlib inline"
   ]
  },
  {
   "cell_type": "code",
   "execution_count": 3,
   "metadata": {},
   "outputs": [],
   "source": [
    "MACHINE = pd.read_csv(\"/home/pirl/BigDataProject/col/MFG_MACHINE_MY_COL.csv\", engine=\"python\")\n",
    "\n",
    "TAT = pd.read_csv(\"/home/pirl/BigDataProject/col/MFG_TAT_MY_COL.csv\", engine=\"python\")\n",
    "\n",
    "PROCESS = pd.read_csv(\"/home/pirl/BigDataProject/col/MFG_PROCESS_MY_COL.csv\", engine=\"python\")"
   ]
  },
  {
   "cell_type": "code",
   "execution_count": 4,
   "metadata": {
    "scrolled": false
   },
   "outputs": [
    {
     "data": {
      "text/html": [
       "<div>\n",
       "<style scoped>\n",
       "    .dataframe tbody tr th:only-of-type {\n",
       "        vertical-align: middle;\n",
       "    }\n",
       "\n",
       "    .dataframe tbody tr th {\n",
       "        vertical-align: top;\n",
       "    }\n",
       "\n",
       "    .dataframe thead th {\n",
       "        text-align: right;\n",
       "    }\n",
       "</style>\n",
       "<table border=\"1\" class=\"dataframe\">\n",
       "  <thead>\n",
       "    <tr style=\"text-align: right;\">\n",
       "      <th></th>\n",
       "      <th>JUDGE</th>\n",
       "      <th>LOT_ID</th>\n",
       "      <th>PANEL_ID</th>\n",
       "      <th>DATE_1BLACK</th>\n",
       "      <th>TIME_1BLACK</th>\n",
       "      <th>TIME_2AG</th>\n",
       "      <th>TIME_3BUS</th>\n",
       "      <th>TIME_4DIELEC</th>\n",
       "      <th>TIME_5MGO</th>\n",
       "      <th>TIME_6PHOS</th>\n",
       "      <th>...</th>\n",
       "      <th>MC_4DIELEC_1FIRE</th>\n",
       "      <th>MC_5MGO</th>\n",
       "      <th>MC_6PHOS_1R_1DISPENSER</th>\n",
       "      <th>MC_6PHOS_1R_2DRY</th>\n",
       "      <th>MC_6PHOS_2G_1DISPENSER</th>\n",
       "      <th>MC_6PHOS_2G_2DRY</th>\n",
       "      <th>MC_6PHOS_3B_1DISPENSER</th>\n",
       "      <th>MC_6PHOS_4FIRE</th>\n",
       "      <th>MC_7PASTE</th>\n",
       "      <th>MC_8AGING</th>\n",
       "    </tr>\n",
       "  </thead>\n",
       "  <tbody>\n",
       "    <tr>\n",
       "      <th>0</th>\n",
       "      <td>양품</td>\n",
       "      <td>LOT-101</td>\n",
       "      <td>PNL-01</td>\n",
       "      <td>2019-04-01</td>\n",
       "      <td>2019-04-01 0:01</td>\n",
       "      <td>2019-04-01 5:21</td>\n",
       "      <td>2019-04-01 11:01</td>\n",
       "      <td>2019-04-06 13:41</td>\n",
       "      <td>2019-04-11 3:41</td>\n",
       "      <td>2019-04-03 20:20</td>\n",
       "      <td>...</td>\n",
       "      <td>3호기</td>\n",
       "      <td>1호기</td>\n",
       "      <td>1호기</td>\n",
       "      <td>2호기</td>\n",
       "      <td>2호기</td>\n",
       "      <td>2호기</td>\n",
       "      <td>1호기</td>\n",
       "      <td>3호기</td>\n",
       "      <td>1호기</td>\n",
       "      <td>2호기</td>\n",
       "    </tr>\n",
       "    <tr>\n",
       "      <th>1</th>\n",
       "      <td>양품</td>\n",
       "      <td>LOT-101</td>\n",
       "      <td>PNL-02</td>\n",
       "      <td>2019-04-01</td>\n",
       "      <td>2019-04-01 0:45</td>\n",
       "      <td>2019-04-01 6:05</td>\n",
       "      <td>2019-04-01 11:45</td>\n",
       "      <td>2019-04-06 14:25</td>\n",
       "      <td>2019-04-11 4:25</td>\n",
       "      <td>2019-04-03 21:04</td>\n",
       "      <td>...</td>\n",
       "      <td>3호기</td>\n",
       "      <td>1호기</td>\n",
       "      <td>1호기</td>\n",
       "      <td>2호기</td>\n",
       "      <td>2호기</td>\n",
       "      <td>2호기</td>\n",
       "      <td>1호기</td>\n",
       "      <td>3호기</td>\n",
       "      <td>1호기</td>\n",
       "      <td>2호기</td>\n",
       "    </tr>\n",
       "    <tr>\n",
       "      <th>2</th>\n",
       "      <td>양품</td>\n",
       "      <td>LOT-101</td>\n",
       "      <td>PNL-03</td>\n",
       "      <td>2019-04-01</td>\n",
       "      <td>2019-04-01 1:29</td>\n",
       "      <td>2019-04-01 6:49</td>\n",
       "      <td>2019-04-01 12:29</td>\n",
       "      <td>2019-04-06 15:09</td>\n",
       "      <td>2019-04-11 5:09</td>\n",
       "      <td>2019-04-03 21:48</td>\n",
       "      <td>...</td>\n",
       "      <td>3호기</td>\n",
       "      <td>1호기</td>\n",
       "      <td>1호기</td>\n",
       "      <td>2호기</td>\n",
       "      <td>2호기</td>\n",
       "      <td>2호기</td>\n",
       "      <td>1호기</td>\n",
       "      <td>3호기</td>\n",
       "      <td>1호기</td>\n",
       "      <td>2호기</td>\n",
       "    </tr>\n",
       "    <tr>\n",
       "      <th>3</th>\n",
       "      <td>양품</td>\n",
       "      <td>LOT-101</td>\n",
       "      <td>PNL-04</td>\n",
       "      <td>2019-04-01</td>\n",
       "      <td>2019-04-01 2:13</td>\n",
       "      <td>2019-04-01 7:33</td>\n",
       "      <td>2019-04-01 13:13</td>\n",
       "      <td>2019-04-06 15:53</td>\n",
       "      <td>2019-04-11 5:53</td>\n",
       "      <td>2019-04-03 22:32</td>\n",
       "      <td>...</td>\n",
       "      <td>3호기</td>\n",
       "      <td>1호기</td>\n",
       "      <td>1호기</td>\n",
       "      <td>2호기</td>\n",
       "      <td>2호기</td>\n",
       "      <td>2호기</td>\n",
       "      <td>1호기</td>\n",
       "      <td>3호기</td>\n",
       "      <td>1호기</td>\n",
       "      <td>2호기</td>\n",
       "    </tr>\n",
       "    <tr>\n",
       "      <th>4</th>\n",
       "      <td>양품</td>\n",
       "      <td>LOT-101</td>\n",
       "      <td>PNL-05</td>\n",
       "      <td>2019-04-01</td>\n",
       "      <td>2019-04-01 2:58</td>\n",
       "      <td>2019-04-01 8:18</td>\n",
       "      <td>2019-04-01 13:58</td>\n",
       "      <td>2019-04-06 16:38</td>\n",
       "      <td>2019-04-11 6:38</td>\n",
       "      <td>2019-04-03 23:17</td>\n",
       "      <td>...</td>\n",
       "      <td>3호기</td>\n",
       "      <td>1호기</td>\n",
       "      <td>1호기</td>\n",
       "      <td>2호기</td>\n",
       "      <td>2호기</td>\n",
       "      <td>2호기</td>\n",
       "      <td>1호기</td>\n",
       "      <td>3호기</td>\n",
       "      <td>1호기</td>\n",
       "      <td>2호기</td>\n",
       "    </tr>\n",
       "  </tbody>\n",
       "</table>\n",
       "<p>5 rows × 29 columns</p>\n",
       "</div>"
      ],
      "text/plain": [
       "  JUDGE   LOT_ID PANEL_ID DATE_1BLACK      TIME_1BLACK         TIME_2AG  \\\n",
       "0    양품  LOT-101   PNL-01  2019-04-01  2019-04-01 0:01  2019-04-01 5:21   \n",
       "1    양품  LOT-101   PNL-02  2019-04-01  2019-04-01 0:45  2019-04-01 6:05   \n",
       "2    양품  LOT-101   PNL-03  2019-04-01  2019-04-01 1:29  2019-04-01 6:49   \n",
       "3    양품  LOT-101   PNL-04  2019-04-01  2019-04-01 2:13  2019-04-01 7:33   \n",
       "4    양품  LOT-101   PNL-05  2019-04-01  2019-04-01 2:58  2019-04-01 8:18   \n",
       "\n",
       "          TIME_3BUS      TIME_4DIELEC        TIME_5MGO        TIME_6PHOS  ...  \\\n",
       "0  2019-04-01 11:01  2019-04-06 13:41  2019-04-11 3:41  2019-04-03 20:20  ...   \n",
       "1  2019-04-01 11:45  2019-04-06 14:25  2019-04-11 4:25  2019-04-03 21:04  ...   \n",
       "2  2019-04-01 12:29  2019-04-06 15:09  2019-04-11 5:09  2019-04-03 21:48  ...   \n",
       "3  2019-04-01 13:13  2019-04-06 15:53  2019-04-11 5:53  2019-04-03 22:32  ...   \n",
       "4  2019-04-01 13:58  2019-04-06 16:38  2019-04-11 6:38  2019-04-03 23:17  ...   \n",
       "\n",
       "  MC_4DIELEC_1FIRE MC_5MGO MC_6PHOS_1R_1DISPENSER MC_6PHOS_1R_2DRY  \\\n",
       "0              3호기     1호기                    1호기              2호기   \n",
       "1              3호기     1호기                    1호기              2호기   \n",
       "2              3호기     1호기                    1호기              2호기   \n",
       "3              3호기     1호기                    1호기              2호기   \n",
       "4              3호기     1호기                    1호기              2호기   \n",
       "\n",
       "  MC_6PHOS_2G_1DISPENSER MC_6PHOS_2G_2DRY MC_6PHOS_3B_1DISPENSER  \\\n",
       "0                    2호기              2호기                    1호기   \n",
       "1                    2호기              2호기                    1호기   \n",
       "2                    2호기              2호기                    1호기   \n",
       "3                    2호기              2호기                    1호기   \n",
       "4                    2호기              2호기                    1호기   \n",
       "\n",
       "  MC_6PHOS_4FIRE MC_7PASTE MC_8AGING  \n",
       "0            3호기       1호기       2호기  \n",
       "1            3호기       1호기       2호기  \n",
       "2            3호기       1호기       2호기  \n",
       "3            3호기       1호기       2호기  \n",
       "4            3호기       1호기       2호기  \n",
       "\n",
       "[5 rows x 29 columns]"
      ]
     },
     "execution_count": 4,
     "metadata": {},
     "output_type": "execute_result"
    }
   ],
   "source": [
    "MACHINE.head()"
   ]
  },
  {
   "cell_type": "markdown",
   "metadata": {},
   "source": [
    "# 카이제곱 함수"
   ]
  },
  {
   "cell_type": "code",
   "execution_count": 103,
   "metadata": {},
   "outputs": [],
   "source": [
    "def chi2(var) : \n",
    "    \n",
    "    \n",
    "    bad_1 = MACHINE[(MACHINE[\"JUDGE\"]== \"명점\") & (MACHINE[var]== \"1호기\")].count()\n",
    "    good_1 = MACHINE[(MACHINE[\"JUDGE\"]== \"양품\") & (MACHINE[var]== \"1호기\")].count()\n",
    "    bad_2 = MACHINE[(MACHINE[\"JUDGE\"]== \"명점\") & (MACHINE[var]== \"2호기\")].count()\n",
    "    good_2 = MACHINE[(MACHINE[\"JUDGE\"]== \"양품\") & (MACHINE[var]== \"2호기\")].count()\n",
    "    \n",
    "    n_1 = bad_1[\"JUDGE\"]\n",
    "    y_1 = good_1[\"JUDGE\"]\n",
    "    n_2 = bad_2[\"JUDGE\"]\n",
    "    y_2 = good_2[\"JUDGE\"]\n",
    "    \n",
    "    df = pd.DataFrame({\"A\":[n_1 , y_1], \"B\": [n_2 , y_2]})\n",
    "    Chi, pval, dof, expected = stats.chi2_contingency(df.T)\n",
    "    print(\"1호기 불량률:\", n_1 / (n_1+y_1))\n",
    "    print(\"2호기 불량률:\", n_2 / (n_2+y_2))\n",
    "    print(\"\")\n",
    "    print(var,\"의 카이제곱 검정\")\n",
    "    print(\"카이제곱 검정 통계량:\",Chi)\n",
    "    print(\"p값:\",pval)\n",
    "    print(\"자유도:\",dof)\n"
   ]
  },
  {
   "cell_type": "code",
   "execution_count": 102,
   "metadata": {},
   "outputs": [],
   "source": [
    "def chi3(var) : \n",
    "    \n",
    "    \n",
    "    bad_1 = MACHINE[(MACHINE[\"JUDGE\"]== \"명점\") & (MACHINE[var]== \"1호기\")].count()\n",
    "    good_1 = MACHINE[(MACHINE[\"JUDGE\"]== \"양품\") & (MACHINE[var]== \"1호기\")].count()\n",
    "    bad_2 = MACHINE[(MACHINE[\"JUDGE\"]== \"명점\") & (MACHINE[var]== \"2호기\")].count()\n",
    "    good_2 = MACHINE[(MACHINE[\"JUDGE\"]== \"양품\") & (MACHINE[var]== \"2호기\")].count()\n",
    "    bad_3 = MACHINE[(MACHINE[\"JUDGE\"]== \"명점\") & (MACHINE[var]== \"3호기\")].count()\n",
    "    good_3 = MACHINE[(MACHINE[\"JUDGE\"]== \"양품\") & (MACHINE[var]== \"3호기\")].count()\n",
    "    \n",
    "    n_1 = bad_1[\"JUDGE\"]\n",
    "    y_1 = good_1[\"JUDGE\"]\n",
    "    n_2 = bad_2[\"JUDGE\"]\n",
    "    y_2 = good_2[\"JUDGE\"]\n",
    "    n_3 = bad_3[\"JUDGE\"]\n",
    "    y_3 = good_3[\"JUDGE\"]\n",
    "    \n",
    "    df = pd.DataFrame({\"A\":[n_1 , y_1], \"B\": [n_2 , y_2], \"C\": [n_3 , y_3]})\n",
    "    Chi, pval, dof, expected = stats.chi2_contingency(df.T)\n",
    "    print(\"1호기 불량률:\", n_1 / (n_1+y_1))\n",
    "    print(\"2호기 불량률:\", n_2 / (n_2+y_2))\n",
    "    print(\"3호기 불량률:\", n_3 / (n_3+y_3))\n",
    "    print(\"\")\n",
    "    print(var,\"의 카이제곱 검정\")\n",
    "    print(\"카이제곱 검정 통계량:\",Chi)\n",
    "    print(\"p값:\",pval)\n",
    "    print(\"자유도:\",dof)\n"
   ]
  },
  {
   "cell_type": "code",
   "execution_count": 104,
   "metadata": {},
   "outputs": [],
   "source": [
    "def chi(var) :\n",
    "    List = []\n",
    "    for i in MACHINE[var] :\n",
    "        List.append(i)\n",
    "    \n",
    "    SET = set(List)\n",
    "    if len(SET) == 2 :\n",
    "        print(\"공정 호기가 2개입니다\")\n",
    "        chi2(var)\n",
    "    elif len(SET) == 3 :\n",
    "        chi3(var)\n",
    "        print(\"공정 호기가 3개입니다\")\n",
    "    else :\n",
    "        print(\"공정 호기가 4개 이상입니다.\")"
   ]
  },
  {
   "cell_type": "code",
   "execution_count": 105,
   "metadata": {},
   "outputs": [
    {
     "name": "stdout",
     "output_type": "stream",
     "text": [
      "공정 호기가 2개입니다\n",
      "1호기 불량률: 0.1050925925925926\n",
      "2호기 불량률: 0.10869565217391304\n",
      "\n",
      "MC_1BLACK_1PRINT 의 카이제곱 검정\n",
      "카이제곱 검정 통계량: 0.1001264783903205\n",
      "p값: 0.7516779078099791\n",
      "자유도: 1\n"
     ]
    }
   ],
   "source": [
    "chi(\"MC_1BLACK_1PRINT\")"
   ]
  },
  {
   "cell_type": "markdown",
   "metadata": {},
   "source": [
    "# 트리 1순위 중요도 : 유전체 소성 2호기"
   ]
  },
  {
   "cell_type": "code",
   "execution_count": 106,
   "metadata": {},
   "outputs": [
    {
     "name": "stdout",
     "output_type": "stream",
     "text": [
      "1호기 불량률: 0.10895522388059702\n",
      "2호기 불량률: 0.1265625\n",
      "3호기 불량률: 0.08623188405797101\n",
      "\n",
      "MC_4DIELEC_1FIRE 의 카이제곱 검정\n",
      "카이제곱 검정 통계량: 11.4303216299264\n",
      "p값: 0.003295620493948868\n",
      "자유도: 2\n",
      "공정 호기가 3개입니다\n"
     ]
    }
   ],
   "source": [
    "chi(\"MC_4DIELEC_1FIRE\")"
   ]
  },
  {
   "cell_type": "markdown",
   "metadata": {},
   "source": [
    "# 트리 2순위 중요도 : 형광체 G 건조 1호기"
   ]
  },
  {
   "cell_type": "code",
   "execution_count": 107,
   "metadata": {},
   "outputs": [
    {
     "name": "stdout",
     "output_type": "stream",
     "text": [
      "공정 호기가 2개입니다\n",
      "1호기 불량률: 0.09867256637168141\n",
      "2호기 불량률: 0.11724137931034483\n",
      "\n",
      "MC_6PHOS_2G_2DRY 의 카이제곱 검정\n",
      "카이제곱 검정 통계량: 3.362813239673125\n",
      "p값: 0.06668406025463536\n",
      "자유도: 1\n"
     ]
    }
   ],
   "source": [
    "chi(\"MC_6PHOS_2G_2DRY\")"
   ]
  },
  {
   "cell_type": "markdown",
   "metadata": {},
   "source": [
    "# 트리 3순위 중요도 : 형광체 소성 1호기"
   ]
  },
  {
   "cell_type": "code",
   "execution_count": 108,
   "metadata": {},
   "outputs": [
    {
     "name": "stdout",
     "output_type": "stream",
     "text": [
      "1호기 불량률: 0.0896551724137931\n",
      "2호기 불량률: 0.10985915492957747\n",
      "3호기 불량률: 0.1176056338028169\n",
      "\n",
      "MC_6PHOS_4FIRE 의 카이제곱 검정\n",
      "카이제곱 검정 통계량: 5.453935430314811\n",
      "p값: 0.06541735327250357\n",
      "자유도: 2\n",
      "공정 호기가 3개입니다\n"
     ]
    }
   ],
   "source": [
    "chi(\"MC_6PHOS_4FIRE\")"
   ]
  },
  {
   "cell_type": "markdown",
   "metadata": {},
   "source": [
    "# 트리 4순위 중요도 : 유전체 소성 3호기"
   ]
  },
  {
   "cell_type": "code",
   "execution_count": 109,
   "metadata": {},
   "outputs": [
    {
     "name": "stdout",
     "output_type": "stream",
     "text": [
      "1호기 불량률: 0.10895522388059702\n",
      "2호기 불량률: 0.1265625\n",
      "3호기 불량률: 0.08623188405797101\n",
      "\n",
      "MC_4DIELEC_1FIRE 의 카이제곱 검정\n",
      "카이제곱 검정 통계량: 11.4303216299264\n",
      "p값: 0.003295620493948868\n",
      "자유도: 2\n",
      "공정 호기가 3개입니다\n"
     ]
    }
   ],
   "source": [
    "chi(\"MC_4DIELEC_1FIRE\")"
   ]
  },
  {
   "cell_type": "markdown",
   "metadata": {},
   "source": [
    "# 트리 5순위 중요도 : MGO"
   ]
  },
  {
   "cell_type": "code",
   "execution_count": 110,
   "metadata": {},
   "outputs": [
    {
     "name": "stdout",
     "output_type": "stream",
     "text": [
      "공정 호기가 2개입니다\n",
      "1호기 불량률: 0.10102040816326531\n",
      "2호기 불량률: 0.11225490196078432\n",
      "\n",
      "MC_5MGO 의 카이제곱 검정\n",
      "카이제곱 검정 통계량: 1.2079036341505902\n",
      "p값: 0.271747699547607\n",
      "자유도: 1\n"
     ]
    }
   ],
   "source": [
    "chi(\"MC_5MGO\")"
   ]
  },
  {
   "cell_type": "markdown",
   "metadata": {},
   "source": [
    "# 트리 6순위 중요도 : BLACK_RTD_1호기"
   ]
  },
  {
   "cell_type": "code",
   "execution_count": 111,
   "metadata": {},
   "outputs": [
    {
     "name": "stdout",
     "output_type": "stream",
     "text": [
      "공정 호기가 2개입니다\n",
      "1호기 불량률: 0.10366972477064221\n",
      "2호기 불량률: 0.11043956043956044\n",
      "\n",
      "MC_1BLACK_2RTD 의 카이제곱 검정\n",
      "카이제곱 검정 통계량: 0.4083884652385775\n",
      "p값: 0.5227885920529354\n",
      "자유도: 1\n"
     ]
    }
   ],
   "source": [
    "chi(\"MC_1BLACK_2RTD\")"
   ]
  },
  {
   "cell_type": "markdown",
   "metadata": {},
   "source": [
    "# 공정 순서대로 시작"
   ]
  },
  {
   "cell_type": "code",
   "execution_count": 112,
   "metadata": {},
   "outputs": [
    {
     "name": "stdout",
     "output_type": "stream",
     "text": [
      "공정 호기가 2개입니다\n",
      "1호기 불량률: 0.1050925925925926\n",
      "2호기 불량률: 0.10869565217391304\n",
      "\n",
      "MC_1BLACK_1PRINT 의 카이제곱 검정\n",
      "카이제곱 검정 통계량: 0.1001264783903205\n",
      "p값: 0.7516779078099791\n",
      "자유도: 1\n"
     ]
    }
   ],
   "source": [
    "chi(\"MC_1BLACK_1PRINT\")"
   ]
  },
  {
   "cell_type": "code",
   "execution_count": 113,
   "metadata": {},
   "outputs": [
    {
     "name": "stdout",
     "output_type": "stream",
     "text": [
      "공정 호기가 2개입니다\n",
      "1호기 불량률: 0.10366972477064221\n",
      "2호기 불량률: 0.11043956043956044\n",
      "\n",
      "MC_1BLACK_2RTD 의 카이제곱 검정\n",
      "카이제곱 검정 통계량: 0.4083884652385775\n",
      "p값: 0.5227885920529354\n",
      "자유도: 1\n"
     ]
    }
   ],
   "source": [
    "chi(\"MC_1BLACK_2RTD\")"
   ]
  },
  {
   "cell_type": "code",
   "execution_count": 114,
   "metadata": {},
   "outputs": [
    {
     "name": "stdout",
     "output_type": "stream",
     "text": [
      "공정 호기가 2개입니다\n",
      "1호기 불량률: 0.10891089108910891\n",
      "2호기 불량률: 0.10454545454545454\n",
      "\n",
      "MC_2AG_1PRINT 의 카이제곱 검정\n",
      "카이제곱 검정 통계량: 0.15667565520374716\n",
      "p값: 0.6922357871871667\n",
      "자유도: 1\n"
     ]
    }
   ],
   "source": [
    "chi(\"MC_2AG_1PRINT\")"
   ]
  },
  {
   "cell_type": "code",
   "execution_count": 115,
   "metadata": {},
   "outputs": [
    {
     "name": "stdout",
     "output_type": "stream",
     "text": [
      "공정 호기가 2개입니다\n",
      "1호기 불량률: 0.11697247706422019\n",
      "2호기 불량률: 0.0945054945054945\n",
      "\n",
      "MC_2AG_2RTD 의 카이제곱 검정\n",
      "카이제곱 검정 통계량: 5.017718921564835\n",
      "p값: 0.025089199618344136\n",
      "자유도: 1\n"
     ]
    }
   ],
   "source": [
    "chi(\"MC_2AG_2RTD\")"
   ]
  },
  {
   "cell_type": "code",
   "execution_count": 116,
   "metadata": {},
   "outputs": [
    {
     "name": "stdout",
     "output_type": "stream",
     "text": [
      "공정 호기가 2개입니다\n",
      "1호기 불량률: 0.10841584158415841\n",
      "2호기 불량률: 0.10505050505050505\n",
      "\n",
      "MC_2AG_3EXPOSURE 의 카이제곱 검정\n",
      "카이제곱 검정 통계량: 0.08608981521799142\n",
      "p값: 0.7692082785753981\n",
      "자유도: 1\n"
     ]
    }
   ],
   "source": [
    "chi(\"MC_2AG_3EXPOSURE\")"
   ]
  },
  {
   "cell_type": "code",
   "execution_count": 117,
   "metadata": {},
   "outputs": [
    {
     "name": "stdout",
     "output_type": "stream",
     "text": [
      "공정 호기가 2개입니다\n",
      "1호기 불량률: 0.11632653061224489\n",
      "2호기 불량률: 0.09754901960784314\n",
      "\n",
      "MC_3BUS_1DEVELOP 의 카이제곱 검정\n",
      "카이제곱 검정 통계량: 3.501949980966912\n",
      "p값: 0.06129661555446475\n",
      "자유도: 1\n"
     ]
    }
   ],
   "source": [
    "chi(\"MC_3BUS_1DEVELOP\")"
   ]
  },
  {
   "cell_type": "code",
   "execution_count": 118,
   "metadata": {},
   "outputs": [
    {
     "name": "stdout",
     "output_type": "stream",
     "text": [
      "공정 호기가 2개입니다\n",
      "1호기 불량률: 0.10229357798165138\n",
      "2호기 불량률: 0.11208791208791209\n",
      "\n",
      "MC_3BUS_2FIRE 의 카이제곱 검정\n",
      "카이제곱 검정 통계량: 0.8978047117367476\n",
      "p값: 0.34337103137403047\n",
      "자유도: 1\n"
     ]
    }
   ],
   "source": [
    "chi(\"MC_3BUS_2FIRE\")"
   ]
  },
  {
   "cell_type": "code",
   "execution_count": 119,
   "metadata": {},
   "outputs": [
    {
     "name": "stdout",
     "output_type": "stream",
     "text": [
      "1호기 불량률: 0.10895522388059702\n",
      "2호기 불량률: 0.1265625\n",
      "3호기 불량률: 0.08623188405797101\n",
      "\n",
      "MC_4DIELEC_1FIRE 의 카이제곱 검정\n",
      "카이제곱 검정 통계량: 11.4303216299264\n",
      "p값: 0.003295620493948868\n",
      "자유도: 2\n",
      "공정 호기가 3개입니다\n"
     ]
    }
   ],
   "source": [
    "chi(\"MC_4DIELEC_1FIRE\")"
   ]
  },
  {
   "cell_type": "code",
   "execution_count": 120,
   "metadata": {},
   "outputs": [
    {
     "name": "stdout",
     "output_type": "stream",
     "text": [
      "공정 호기가 2개입니다\n",
      "1호기 불량률: 0.10102040816326531\n",
      "2호기 불량률: 0.11225490196078432\n",
      "\n",
      "MC_5MGO 의 카이제곱 검정\n",
      "카이제곱 검정 통계량: 1.2079036341505902\n",
      "p값: 0.271747699547607\n",
      "자유도: 1\n"
     ]
    }
   ],
   "source": [
    "chi(\"MC_5MGO\")"
   ]
  },
  {
   "cell_type": "code",
   "execution_count": 121,
   "metadata": {},
   "outputs": [
    {
     "name": "stdout",
     "output_type": "stream",
     "text": [
      "공정 호기가 2개입니다\n",
      "1호기 불량률: 0.10803571428571429\n",
      "2호기 불량률: 0.10511363636363637\n",
      "\n",
      "MC_6PHOS_1R_1DISPENSER 의 카이제곱 검정\n",
      "카이제곱 검정 통계량: 0.06027154311417471\n",
      "p값: 0.8060672692273391\n",
      "자유도: 1\n"
     ]
    }
   ],
   "source": [
    "chi(\"MC_6PHOS_1R_1DISPENSER\")"
   ]
  },
  {
   "cell_type": "code",
   "execution_count": 122,
   "metadata": {},
   "outputs": [
    {
     "name": "stdout",
     "output_type": "stream",
     "text": [
      "공정 호기가 2개입니다\n",
      "1호기 불량률: 0.11236559139784946\n",
      "2호기 불량률: 0.10186915887850467\n",
      "\n",
      "MC_6PHOS_1R_2DRY 의 카이제곱 검정\n",
      "카이제곱 검정 통계량: 1.04232208571592\n",
      "p값: 0.30728203053984415\n",
      "자유도: 1\n"
     ]
    }
   ],
   "source": [
    "chi(\"MC_6PHOS_1R_2DRY\")"
   ]
  },
  {
   "cell_type": "code",
   "execution_count": 123,
   "metadata": {},
   "outputs": [
    {
     "name": "stdout",
     "output_type": "stream",
     "text": [
      "공정 호기가 2개입니다\n",
      "1호기 불량률: 0.11132075471698114\n",
      "2호기 불량률: 0.10159574468085106\n",
      "\n",
      "MC_6PHOS_2G_1DISPENSER 의 카이제곱 검정\n",
      "카이제곱 검정 통계량: 0.8889071414812396\n",
      "p값: 0.3457736340797285\n",
      "자유도: 1\n"
     ]
    }
   ],
   "source": [
    "chi(\"MC_6PHOS_2G_1DISPENSER\")"
   ]
  },
  {
   "cell_type": "code",
   "execution_count": 124,
   "metadata": {},
   "outputs": [
    {
     "name": "stdout",
     "output_type": "stream",
     "text": [
      "공정 호기가 2개입니다\n",
      "1호기 불량률: 0.09867256637168141\n",
      "2호기 불량률: 0.11724137931034483\n",
      "\n",
      "MC_6PHOS_2G_2DRY 의 카이제곱 검정\n",
      "카이제곱 검정 통계량: 3.362813239673125\n",
      "p값: 0.06668406025463536\n",
      "자유도: 1\n"
     ]
    }
   ],
   "source": [
    "chi(\"MC_6PHOS_2G_2DRY\")"
   ]
  },
  {
   "cell_type": "code",
   "execution_count": 125,
   "metadata": {},
   "outputs": [
    {
     "name": "stdout",
     "output_type": "stream",
     "text": [
      "공정 호기가 2개입니다\n",
      "1호기 불량률: 0.10333333333333333\n",
      "2호기 불량률: 0.11052631578947368\n",
      "\n",
      "MC_6PHOS_3B_1DISPENSER 의 카이제곱 검정\n",
      "카이제곱 검정 통계량: 0.4684343424823074\n",
      "p값: 0.4937083273003766\n",
      "자유도: 1\n"
     ]
    }
   ],
   "source": [
    "chi(\"MC_6PHOS_3B_1DISPENSER\")"
   ]
  },
  {
   "cell_type": "code",
   "execution_count": 126,
   "metadata": {},
   "outputs": [
    {
     "name": "stdout",
     "output_type": "stream",
     "text": [
      "1호기 불량률: 0.0896551724137931\n",
      "2호기 불량률: 0.10985915492957747\n",
      "3호기 불량률: 0.1176056338028169\n",
      "\n",
      "MC_6PHOS_4FIRE 의 카이제곱 검정\n",
      "카이제곱 검정 통계량: 5.453935430314811\n",
      "p값: 0.06541735327250357\n",
      "자유도: 2\n",
      "공정 호기가 3개입니다\n"
     ]
    }
   ],
   "source": [
    "chi(\"MC_6PHOS_4FIRE\")"
   ]
  },
  {
   "cell_type": "code",
   "execution_count": 128,
   "metadata": {},
   "outputs": [
    {
     "name": "stdout",
     "output_type": "stream",
     "text": [
      "공정 호기가 2개입니다\n",
      "1호기 불량률: 0.105\n",
      "2호기 불량률: 0.10888888888888888\n",
      "\n",
      "MC_7PASTE 의 카이제곱 검정\n",
      "카이제곱 검정 통계량: 0.1188812905100351\n",
      "p값: 0.7302510015521775\n",
      "자유도: 1\n"
     ]
    }
   ],
   "source": [
    "chi(\"MC_7PASTE\")"
   ]
  },
  {
   "cell_type": "code",
   "execution_count": 129,
   "metadata": {},
   "outputs": [
    {
     "name": "stdout",
     "output_type": "stream",
     "text": [
      "공정 호기가 2개입니다\n",
      "1호기 불량률: 0.11\n",
      "2호기 불량률: 0.10277777777777777\n",
      "\n",
      "MC_8AGING 의 카이제곱 검정\n",
      "카이제곱 검정 통계량: 0.46845425436222743\n",
      "p값: 0.4936991445672084\n",
      "자유도: 1\n"
     ]
    }
   ],
   "source": [
    "chi(\"MC_8AGING\")"
   ]
  }
 ],
 "metadata": {
  "kernelspec": {
   "display_name": "Python 3",
   "language": "python",
   "name": "python3"
  },
  "language_info": {
   "codemirror_mode": {
    "name": "ipython",
    "version": 3
   },
   "file_extension": ".py",
   "mimetype": "text/x-python",
   "name": "python",
   "nbconvert_exporter": "python",
   "pygments_lexer": "ipython3",
   "version": "3.7.6"
  }
 },
 "nbformat": 4,
 "nbformat_minor": 2
}
