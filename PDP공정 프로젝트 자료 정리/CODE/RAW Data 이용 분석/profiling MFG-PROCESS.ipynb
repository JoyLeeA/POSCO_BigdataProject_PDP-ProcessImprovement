{
 "cells": [
  {
   "cell_type": "code",
   "execution_count": 1,
   "metadata": {},
   "outputs": [],
   "source": [
    "import pandas_profiling\n"
   ]
  },
  {
   "cell_type": "code",
   "execution_count": 2,
   "metadata": {},
   "outputs": [],
   "source": [
    "import pandas as pd\n",
    "import numpy as np"
   ]
  },
  {
   "cell_type": "code",
   "execution_count": 3,
   "metadata": {
    "scrolled": true
   },
   "outputs": [
    {
     "data": {
      "text/html": [
       "<div>\n",
       "<style scoped>\n",
       "    .dataframe tbody tr th:only-of-type {\n",
       "        vertical-align: middle;\n",
       "    }\n",
       "\n",
       "    .dataframe tbody tr th {\n",
       "        vertical-align: top;\n",
       "    }\n",
       "\n",
       "    .dataframe thead th {\n",
       "        text-align: right;\n",
       "    }\n",
       "</style>\n",
       "<table border=\"1\" class=\"dataframe\">\n",
       "  <thead>\n",
       "    <tr style=\"text-align: right;\">\n",
       "      <th></th>\n",
       "      <th>JUDGE</th>\n",
       "      <th>LOT_ID</th>\n",
       "      <th>PANEL_ID</th>\n",
       "      <th>TIME_1BLACK</th>\n",
       "      <th>TIME_2AG</th>\n",
       "      <th>TIME_3BUS</th>\n",
       "      <th>TIME_4DIELEC</th>\n",
       "      <th>TIME_5MGO</th>\n",
       "      <th>TIME_6PHOS</th>\n",
       "      <th>TIME_7PASTE</th>\n",
       "      <th>...</th>\n",
       "      <th>PHOS_FIRE_TEMP_KEEP_CH03</th>\n",
       "      <th>PHOS_FIRE_TEMP_KEEP_CH04</th>\n",
       "      <th>PHOS_FIRE_TEMP_ANEAL_CH01</th>\n",
       "      <th>PHOS_FIRE_TEMP_ANEAL_CH02</th>\n",
       "      <th>PHOS_FIRE_TEMP_ANEAL_CH03</th>\n",
       "      <th>PHOS_FIRE_TEMP_ANEAL_CH04</th>\n",
       "      <th>PHOS_FIRE_EXHAUST_HEAT1</th>\n",
       "      <th>PHOS_FIRE_EXHAUST_HEAT2</th>\n",
       "      <th>PHOS_FIRE_EXHAUST_HEAT3</th>\n",
       "      <th>PHOS_FIRE_EXHAUST_HEAT4</th>\n",
       "    </tr>\n",
       "  </thead>\n",
       "  <tbody>\n",
       "    <tr>\n",
       "      <th>0</th>\n",
       "      <td>양품</td>\n",
       "      <td>LOT-101</td>\n",
       "      <td>PNL-01</td>\n",
       "      <td>2019-04-01T00:01</td>\n",
       "      <td>2019-04-01T05:21</td>\n",
       "      <td>2019-04-01T11:01</td>\n",
       "      <td>2019-04-06T13:41</td>\n",
       "      <td>2019-04-11T03:41</td>\n",
       "      <td>2019-04-03T20:20</td>\n",
       "      <td>2019-04-11T12:41</td>\n",
       "      <td>...</td>\n",
       "      <td>480.0</td>\n",
       "      <td>475.0</td>\n",
       "      <td>443.0</td>\n",
       "      <td>419.0</td>\n",
       "      <td>392.0</td>\n",
       "      <td>372.0</td>\n",
       "      <td>4115.0</td>\n",
       "      <td>3973.0</td>\n",
       "      <td>4432.0</td>\n",
       "      <td>2506.0</td>\n",
       "    </tr>\n",
       "    <tr>\n",
       "      <th>1</th>\n",
       "      <td>양품</td>\n",
       "      <td>LOT-101</td>\n",
       "      <td>PNL-02</td>\n",
       "      <td>2019-04-01T00:45</td>\n",
       "      <td>2019-04-01T06:05</td>\n",
       "      <td>2019-04-01T11:45</td>\n",
       "      <td>2019-04-06T14:25</td>\n",
       "      <td>2019-04-11T04:25</td>\n",
       "      <td>2019-04-03T21:04</td>\n",
       "      <td>2019-04-11T13:25</td>\n",
       "      <td>...</td>\n",
       "      <td>480.0</td>\n",
       "      <td>475.0</td>\n",
       "      <td>445.0</td>\n",
       "      <td>423.0</td>\n",
       "      <td>395.0</td>\n",
       "      <td>374.0</td>\n",
       "      <td>3642.0</td>\n",
       "      <td>4097.0</td>\n",
       "      <td>4499.0</td>\n",
       "      <td>2573.0</td>\n",
       "    </tr>\n",
       "    <tr>\n",
       "      <th>2</th>\n",
       "      <td>양품</td>\n",
       "      <td>LOT-101</td>\n",
       "      <td>PNL-03</td>\n",
       "      <td>2019-04-01T01:29</td>\n",
       "      <td>2019-04-01T06:49</td>\n",
       "      <td>2019-04-01T12:29</td>\n",
       "      <td>2019-04-06T15:09</td>\n",
       "      <td>2019-04-11T05:09</td>\n",
       "      <td>2019-04-03T21:48</td>\n",
       "      <td>2019-04-11T14:09</td>\n",
       "      <td>...</td>\n",
       "      <td>480.0</td>\n",
       "      <td>475.0</td>\n",
       "      <td>444.0</td>\n",
       "      <td>421.0</td>\n",
       "      <td>393.0</td>\n",
       "      <td>372.0</td>\n",
       "      <td>4063.0</td>\n",
       "      <td>3972.0</td>\n",
       "      <td>4460.0</td>\n",
       "      <td>2502.0</td>\n",
       "    </tr>\n",
       "    <tr>\n",
       "      <th>3</th>\n",
       "      <td>양품</td>\n",
       "      <td>LOT-101</td>\n",
       "      <td>PNL-04</td>\n",
       "      <td>2019-04-01T02:13</td>\n",
       "      <td>2019-04-01T07:33</td>\n",
       "      <td>2019-04-01T13:13</td>\n",
       "      <td>2019-04-06T15:53</td>\n",
       "      <td>2019-04-11T05:53</td>\n",
       "      <td>2019-04-03T22:32</td>\n",
       "      <td>2019-04-11T14:53</td>\n",
       "      <td>...</td>\n",
       "      <td>480.0</td>\n",
       "      <td>475.0</td>\n",
       "      <td>444.0</td>\n",
       "      <td>420.0</td>\n",
       "      <td>393.0</td>\n",
       "      <td>372.0</td>\n",
       "      <td>4131.0</td>\n",
       "      <td>4011.0</td>\n",
       "      <td>4466.0</td>\n",
       "      <td>2522.0</td>\n",
       "    </tr>\n",
       "    <tr>\n",
       "      <th>4</th>\n",
       "      <td>양품</td>\n",
       "      <td>LOT-101</td>\n",
       "      <td>PNL-05</td>\n",
       "      <td>2019-04-01T02:58</td>\n",
       "      <td>2019-04-01T08:18</td>\n",
       "      <td>2019-04-01T13:58</td>\n",
       "      <td>2019-04-06T16:38</td>\n",
       "      <td>2019-04-11T06:38</td>\n",
       "      <td>2019-04-03T23:17</td>\n",
       "      <td>2019-04-11T15:38</td>\n",
       "      <td>...</td>\n",
       "      <td>480.0</td>\n",
       "      <td>475.0</td>\n",
       "      <td>443.0</td>\n",
       "      <td>420.0</td>\n",
       "      <td>392.0</td>\n",
       "      <td>372.0</td>\n",
       "      <td>3632.0</td>\n",
       "      <td>4073.0</td>\n",
       "      <td>4482.0</td>\n",
       "      <td>2584.0</td>\n",
       "    </tr>\n",
       "  </tbody>\n",
       "</table>\n",
       "<p>5 rows × 107 columns</p>\n",
       "</div>"
      ],
      "text/plain": [
       "  JUDGE   LOT_ID PANEL_ID       TIME_1BLACK          TIME_2AG  \\\n",
       "0    양품  LOT-101   PNL-01  2019-04-01T00:01  2019-04-01T05:21   \n",
       "1    양품  LOT-101   PNL-02  2019-04-01T00:45  2019-04-01T06:05   \n",
       "2    양품  LOT-101   PNL-03  2019-04-01T01:29  2019-04-01T06:49   \n",
       "3    양품  LOT-101   PNL-04  2019-04-01T02:13  2019-04-01T07:33   \n",
       "4    양품  LOT-101   PNL-05  2019-04-01T02:58  2019-04-01T08:18   \n",
       "\n",
       "          TIME_3BUS      TIME_4DIELEC         TIME_5MGO        TIME_6PHOS  \\\n",
       "0  2019-04-01T11:01  2019-04-06T13:41  2019-04-11T03:41  2019-04-03T20:20   \n",
       "1  2019-04-01T11:45  2019-04-06T14:25  2019-04-11T04:25  2019-04-03T21:04   \n",
       "2  2019-04-01T12:29  2019-04-06T15:09  2019-04-11T05:09  2019-04-03T21:48   \n",
       "3  2019-04-01T13:13  2019-04-06T15:53  2019-04-11T05:53  2019-04-03T22:32   \n",
       "4  2019-04-01T13:58  2019-04-06T16:38  2019-04-11T06:38  2019-04-03T23:17   \n",
       "\n",
       "        TIME_7PASTE  ... PHOS_FIRE_TEMP_KEEP_CH03  PHOS_FIRE_TEMP_KEEP_CH04  \\\n",
       "0  2019-04-11T12:41  ...                    480.0                     475.0   \n",
       "1  2019-04-11T13:25  ...                    480.0                     475.0   \n",
       "2  2019-04-11T14:09  ...                    480.0                     475.0   \n",
       "3  2019-04-11T14:53  ...                    480.0                     475.0   \n",
       "4  2019-04-11T15:38  ...                    480.0                     475.0   \n",
       "\n",
       "   PHOS_FIRE_TEMP_ANEAL_CH01  PHOS_FIRE_TEMP_ANEAL_CH02  \\\n",
       "0                      443.0                      419.0   \n",
       "1                      445.0                      423.0   \n",
       "2                      444.0                      421.0   \n",
       "3                      444.0                      420.0   \n",
       "4                      443.0                      420.0   \n",
       "\n",
       "   PHOS_FIRE_TEMP_ANEAL_CH03  PHOS_FIRE_TEMP_ANEAL_CH04  \\\n",
       "0                      392.0                      372.0   \n",
       "1                      395.0                      374.0   \n",
       "2                      393.0                      372.0   \n",
       "3                      393.0                      372.0   \n",
       "4                      392.0                      372.0   \n",
       "\n",
       "   PHOS_FIRE_EXHAUST_HEAT1  PHOS_FIRE_EXHAUST_HEAT2  PHOS_FIRE_EXHAUST_HEAT3  \\\n",
       "0                   4115.0                   3973.0                   4432.0   \n",
       "1                   3642.0                   4097.0                   4499.0   \n",
       "2                   4063.0                   3972.0                   4460.0   \n",
       "3                   4131.0                   4011.0                   4466.0   \n",
       "4                   3632.0                   4073.0                   4482.0   \n",
       "\n",
       "   PHOS_FIRE_EXHAUST_HEAT4  \n",
       "0                   2506.0  \n",
       "1                   2573.0  \n",
       "2                   2502.0  \n",
       "3                   2522.0  \n",
       "4                   2584.0  \n",
       "\n",
       "[5 rows x 107 columns]"
      ]
     },
     "execution_count": 3,
     "metadata": {},
     "output_type": "execute_result"
    }
   ],
   "source": [
    "df_raw = pd.read_csv('/home/pirl/빅데이터 프로젝트/raw data/MFG_PROCESS.csv', engine='python', encoding='EUC-KR')\n",
    "df_raw.head()"
   ]
  },
  {
   "cell_type": "code",
   "execution_count": 5,
   "metadata": {},
   "outputs": [
    {
     "data": {
      "application/vnd.jupyter.widget-view+json": {
       "model_id": "f672ec43e0b442118336ccbdb9ed0776",
       "version_major": 2,
       "version_minor": 0
      },
      "text/plain": [
       "HBox(children=(FloatProgress(value=0.0, description='variables', max=107.0, style=ProgressStyle(description_wi…"
      ]
     },
     "metadata": {},
     "output_type": "display_data"
    },
    {
     "name": "stdout",
     "output_type": "stream",
     "text": [
      "\n"
     ]
    },
    {
     "data": {
      "application/vnd.jupyter.widget-view+json": {
       "model_id": "caf3bc8377bb49bb99bbca8017ab8a06",
       "version_major": 2,
       "version_minor": 0
      },
      "text/plain": [
       "HBox(children=(FloatProgress(value=0.0, description='correlations', max=6.0, style=ProgressStyle(description_w…"
      ]
     },
     "metadata": {},
     "output_type": "display_data"
    },
    {
     "name": "stdout",
     "output_type": "stream",
     "text": [
      "\n"
     ]
    },
    {
     "data": {
      "application/vnd.jupyter.widget-view+json": {
       "model_id": "6630c305a3714affb1f815c71e718df1",
       "version_major": 2,
       "version_minor": 0
      },
      "text/plain": [
       "HBox(children=(FloatProgress(value=0.0, description='interactions [continuous]', max=7921.0, style=ProgressSty…"
      ]
     },
     "metadata": {},
     "output_type": "display_data"
    },
    {
     "name": "stdout",
     "output_type": "stream",
     "text": [
      "\n"
     ]
    },
    {
     "data": {
      "application/vnd.jupyter.widget-view+json": {
       "model_id": "dfd747317dd546e98fa5fb6f5e6033bc",
       "version_major": 2,
       "version_minor": 0
      },
      "text/plain": [
       "HBox(children=(FloatProgress(value=0.0, description='table', max=1.0, style=ProgressStyle(description_width='i…"
      ]
     },
     "metadata": {},
     "output_type": "display_data"
    },
    {
     "name": "stdout",
     "output_type": "stream",
     "text": [
      "\n"
     ]
    },
    {
     "data": {
      "application/vnd.jupyter.widget-view+json": {
       "model_id": "7fa99083683e4126a79f4e93eca7f7c6",
       "version_major": 2,
       "version_minor": 0
      },
      "text/plain": [
       "HBox(children=(FloatProgress(value=0.0, description='missing', max=4.0, style=ProgressStyle(description_width=…"
      ]
     },
     "metadata": {},
     "output_type": "display_data"
    },
    {
     "name": "stdout",
     "output_type": "stream",
     "text": [
      "\n"
     ]
    },
    {
     "data": {
      "application/vnd.jupyter.widget-view+json": {
       "model_id": "93cf3b75612742388375f9193b718e5a",
       "version_major": 2,
       "version_minor": 0
      },
      "text/plain": [
       "HBox(children=(FloatProgress(value=0.0, description='warnings', max=3.0, style=ProgressStyle(description_width…"
      ]
     },
     "metadata": {},
     "output_type": "display_data"
    },
    {
     "name": "stdout",
     "output_type": "stream",
     "text": [
      "\n"
     ]
    },
    {
     "data": {
      "application/vnd.jupyter.widget-view+json": {
       "model_id": "3ea31dc6456d4ae1ba1bd97391b0f54d",
       "version_major": 2,
       "version_minor": 0
      },
      "text/plain": [
       "HBox(children=(FloatProgress(value=0.0, description='package', max=1.0, style=ProgressStyle(description_width=…"
      ]
     },
     "metadata": {},
     "output_type": "display_data"
    },
    {
     "name": "stdout",
     "output_type": "stream",
     "text": [
      "\n"
     ]
    },
    {
     "data": {
      "application/vnd.jupyter.widget-view+json": {
       "model_id": "bae2baee550c493d90c2c6201605b1ce",
       "version_major": 2,
       "version_minor": 0
      },
      "text/plain": [
       "HBox(children=(FloatProgress(value=0.0, description='build report structure', max=1.0, style=ProgressStyle(des…"
      ]
     },
     "metadata": {},
     "output_type": "display_data"
    },
    {
     "name": "stdout",
     "output_type": "stream",
     "text": [
      "\n"
     ]
    }
   ],
   "source": [
    "pr = df_raw.profile_report()\n",
    "pr.to_file('./pr_report_process.html')"
   ]
  },
  {
   "cell_type": "code",
   "execution_count": null,
   "metadata": {},
   "outputs": [],
   "source": []
  }
 ],
 "metadata": {
  "kernelspec": {
   "display_name": "Python 3",
   "language": "python",
   "name": "python3"
  },
  "language_info": {
   "codemirror_mode": {
    "name": "ipython",
    "version": 3
   },
   "file_extension": ".py",
   "mimetype": "text/x-python",
   "name": "python",
   "nbconvert_exporter": "python",
   "pygments_lexer": "ipython3",
   "version": "3.7.6"
  }
 },
 "nbformat": 4,
 "nbformat_minor": 2
}
