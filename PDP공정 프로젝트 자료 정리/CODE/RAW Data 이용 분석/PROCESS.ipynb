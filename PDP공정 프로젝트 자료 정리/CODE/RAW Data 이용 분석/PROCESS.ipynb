{
 "cells": [
  {
   "cell_type": "code",
   "execution_count": 2,
   "metadata": {},
   "outputs": [],
   "source": [
    "import pandas as pd\n",
    "import numpy as np\n",
    "from sklearn.preprocessing import scale,minmax_scale,robust_scale\n",
    "#%matplotlib inline background 그래프 실행 및 결과 확인\n",
    "import pandas as pd\n",
    "import numpy as np\n",
    "import matplotlib\n",
    "import matplotlib.pyplot as plt\n",
    "import seaborn as sns\n"
   ]
  },
  {
   "cell_type": "code",
   "execution_count": 3,
   "metadata": {},
   "outputs": [],
   "source": [
    "# 데이터 구성 패키지 DataFrame\n",
    "import pandas as pd\n",
    "\n",
    "# 행렬 연산 패키지\n",
    "import numpy as np\n",
    "\n",
    "# 시각화, subpackage pyplot\n",
    "import matplotlib\n",
    "import matplotlib.pyplot as plt\n",
    "\n",
    "# 통계적 시각화 추세 패키지\n",
    "import seaborn as sns\n",
    "\n",
    "# 통계 분석 패키지\n",
    "import scipy.stats\n",
    "from scipy import stats\n",
    "import statsmodels.api as sm\n",
    "from statsmodels.stats.proportion import proportions_ztest # 비율 검정\n",
    "\n",
    "from statsmodels.formula.api import ols\n",
    "import statsmodels.formula.api as smf\n",
    "from statsmodels.stats.anova import anova_lm\n",
    "\n",
    "# jupyter notebook 내 그래프를 바로 그리기 위한 설정\n",
    "%matplotlib inline"
   ]
  },
  {
   "cell_type": "code",
   "execution_count": 4,
   "metadata": {},
   "outputs": [],
   "source": [
    "from matplotlib import font_manager as fm\n",
    "font_location = '/usr/share/fonts/opentype/noto/NotoSansCJK-Bold.ttc'\n",
    "font_name = fm.FontProperties(fname=font_location).get_name()\n",
    "matplotlib.rc('font', family=font_name)"
   ]
  },
  {
   "cell_type": "code",
   "execution_count": 5,
   "metadata": {
    "scrolled": true
   },
   "outputs": [
    {
     "data": {
      "text/html": [
       "<div>\n",
       "<style scoped>\n",
       "    .dataframe tbody tr th:only-of-type {\n",
       "        vertical-align: middle;\n",
       "    }\n",
       "\n",
       "    .dataframe tbody tr th {\n",
       "        vertical-align: top;\n",
       "    }\n",
       "\n",
       "    .dataframe thead th {\n",
       "        text-align: right;\n",
       "    }\n",
       "</style>\n",
       "<table border=\"1\" class=\"dataframe\">\n",
       "  <thead>\n",
       "    <tr style=\"text-align: right;\">\n",
       "      <th></th>\n",
       "      <th>JUDGE</th>\n",
       "      <th>LOT_ID</th>\n",
       "      <th>PANEL_ID</th>\n",
       "      <th>TIME_1BLACK</th>\n",
       "      <th>TIME_2AG</th>\n",
       "      <th>TIME_3BUS</th>\n",
       "      <th>TIME_4DIELEC</th>\n",
       "      <th>TIME_5MGO</th>\n",
       "      <th>TIME_6PHOS</th>\n",
       "      <th>TIME_7PASTE</th>\n",
       "      <th>...</th>\n",
       "      <th>PHOS_FIRE_TEMP_KEEP_CH03</th>\n",
       "      <th>PHOS_FIRE_TEMP_KEEP_CH04</th>\n",
       "      <th>PHOS_FIRE_TEMP_ANEAL_CH01</th>\n",
       "      <th>PHOS_FIRE_TEMP_ANEAL_CH02</th>\n",
       "      <th>PHOS_FIRE_TEMP_ANEAL_CH03</th>\n",
       "      <th>PHOS_FIRE_TEMP_ANEAL_CH04</th>\n",
       "      <th>PHOS_FIRE_EXHAUST_HEAT1</th>\n",
       "      <th>PHOS_FIRE_EXHAUST_HEAT2</th>\n",
       "      <th>PHOS_FIRE_EXHAUST_HEAT3</th>\n",
       "      <th>PHOS_FIRE_EXHAUST_HEAT4</th>\n",
       "    </tr>\n",
       "  </thead>\n",
       "  <tbody>\n",
       "    <tr>\n",
       "      <th>0</th>\n",
       "      <td>양품</td>\n",
       "      <td>LOT-101</td>\n",
       "      <td>PNL-01</td>\n",
       "      <td>2019-04-01T00:01</td>\n",
       "      <td>2019-04-01T05:21</td>\n",
       "      <td>2019-04-01T11:01</td>\n",
       "      <td>2019-04-06T13:41</td>\n",
       "      <td>2019-04-11T03:41</td>\n",
       "      <td>2019-04-03T20:20</td>\n",
       "      <td>2019-04-11T12:41</td>\n",
       "      <td>...</td>\n",
       "      <td>480.0</td>\n",
       "      <td>475.0</td>\n",
       "      <td>443.0</td>\n",
       "      <td>419.0</td>\n",
       "      <td>392.0</td>\n",
       "      <td>372.0</td>\n",
       "      <td>4115.0</td>\n",
       "      <td>3973.0</td>\n",
       "      <td>4432.0</td>\n",
       "      <td>2506.0</td>\n",
       "    </tr>\n",
       "    <tr>\n",
       "      <th>1</th>\n",
       "      <td>양품</td>\n",
       "      <td>LOT-101</td>\n",
       "      <td>PNL-02</td>\n",
       "      <td>2019-04-01T00:45</td>\n",
       "      <td>2019-04-01T06:05</td>\n",
       "      <td>2019-04-01T11:45</td>\n",
       "      <td>2019-04-06T14:25</td>\n",
       "      <td>2019-04-11T04:25</td>\n",
       "      <td>2019-04-03T21:04</td>\n",
       "      <td>2019-04-11T13:25</td>\n",
       "      <td>...</td>\n",
       "      <td>480.0</td>\n",
       "      <td>475.0</td>\n",
       "      <td>445.0</td>\n",
       "      <td>423.0</td>\n",
       "      <td>395.0</td>\n",
       "      <td>374.0</td>\n",
       "      <td>3642.0</td>\n",
       "      <td>4097.0</td>\n",
       "      <td>4499.0</td>\n",
       "      <td>2573.0</td>\n",
       "    </tr>\n",
       "    <tr>\n",
       "      <th>2</th>\n",
       "      <td>양품</td>\n",
       "      <td>LOT-101</td>\n",
       "      <td>PNL-03</td>\n",
       "      <td>2019-04-01T01:29</td>\n",
       "      <td>2019-04-01T06:49</td>\n",
       "      <td>2019-04-01T12:29</td>\n",
       "      <td>2019-04-06T15:09</td>\n",
       "      <td>2019-04-11T05:09</td>\n",
       "      <td>2019-04-03T21:48</td>\n",
       "      <td>2019-04-11T14:09</td>\n",
       "      <td>...</td>\n",
       "      <td>480.0</td>\n",
       "      <td>475.0</td>\n",
       "      <td>444.0</td>\n",
       "      <td>421.0</td>\n",
       "      <td>393.0</td>\n",
       "      <td>372.0</td>\n",
       "      <td>4063.0</td>\n",
       "      <td>3972.0</td>\n",
       "      <td>4460.0</td>\n",
       "      <td>2502.0</td>\n",
       "    </tr>\n",
       "    <tr>\n",
       "      <th>3</th>\n",
       "      <td>양품</td>\n",
       "      <td>LOT-101</td>\n",
       "      <td>PNL-04</td>\n",
       "      <td>2019-04-01T02:13</td>\n",
       "      <td>2019-04-01T07:33</td>\n",
       "      <td>2019-04-01T13:13</td>\n",
       "      <td>2019-04-06T15:53</td>\n",
       "      <td>2019-04-11T05:53</td>\n",
       "      <td>2019-04-03T22:32</td>\n",
       "      <td>2019-04-11T14:53</td>\n",
       "      <td>...</td>\n",
       "      <td>480.0</td>\n",
       "      <td>475.0</td>\n",
       "      <td>444.0</td>\n",
       "      <td>420.0</td>\n",
       "      <td>393.0</td>\n",
       "      <td>372.0</td>\n",
       "      <td>4131.0</td>\n",
       "      <td>4011.0</td>\n",
       "      <td>4466.0</td>\n",
       "      <td>2522.0</td>\n",
       "    </tr>\n",
       "    <tr>\n",
       "      <th>4</th>\n",
       "      <td>양품</td>\n",
       "      <td>LOT-101</td>\n",
       "      <td>PNL-05</td>\n",
       "      <td>2019-04-01T02:58</td>\n",
       "      <td>2019-04-01T08:18</td>\n",
       "      <td>2019-04-01T13:58</td>\n",
       "      <td>2019-04-06T16:38</td>\n",
       "      <td>2019-04-11T06:38</td>\n",
       "      <td>2019-04-03T23:17</td>\n",
       "      <td>2019-04-11T15:38</td>\n",
       "      <td>...</td>\n",
       "      <td>480.0</td>\n",
       "      <td>475.0</td>\n",
       "      <td>443.0</td>\n",
       "      <td>420.0</td>\n",
       "      <td>392.0</td>\n",
       "      <td>372.0</td>\n",
       "      <td>3632.0</td>\n",
       "      <td>4073.0</td>\n",
       "      <td>4482.0</td>\n",
       "      <td>2584.0</td>\n",
       "    </tr>\n",
       "  </tbody>\n",
       "</table>\n",
       "<p>5 rows × 107 columns</p>\n",
       "</div>"
      ],
      "text/plain": [
       "  JUDGE   LOT_ID PANEL_ID       TIME_1BLACK          TIME_2AG  \\\n",
       "0    양품  LOT-101   PNL-01  2019-04-01T00:01  2019-04-01T05:21   \n",
       "1    양품  LOT-101   PNL-02  2019-04-01T00:45  2019-04-01T06:05   \n",
       "2    양품  LOT-101   PNL-03  2019-04-01T01:29  2019-04-01T06:49   \n",
       "3    양품  LOT-101   PNL-04  2019-04-01T02:13  2019-04-01T07:33   \n",
       "4    양품  LOT-101   PNL-05  2019-04-01T02:58  2019-04-01T08:18   \n",
       "\n",
       "          TIME_3BUS      TIME_4DIELEC         TIME_5MGO        TIME_6PHOS  \\\n",
       "0  2019-04-01T11:01  2019-04-06T13:41  2019-04-11T03:41  2019-04-03T20:20   \n",
       "1  2019-04-01T11:45  2019-04-06T14:25  2019-04-11T04:25  2019-04-03T21:04   \n",
       "2  2019-04-01T12:29  2019-04-06T15:09  2019-04-11T05:09  2019-04-03T21:48   \n",
       "3  2019-04-01T13:13  2019-04-06T15:53  2019-04-11T05:53  2019-04-03T22:32   \n",
       "4  2019-04-01T13:58  2019-04-06T16:38  2019-04-11T06:38  2019-04-03T23:17   \n",
       "\n",
       "        TIME_7PASTE  ... PHOS_FIRE_TEMP_KEEP_CH03  PHOS_FIRE_TEMP_KEEP_CH04  \\\n",
       "0  2019-04-11T12:41  ...                    480.0                     475.0   \n",
       "1  2019-04-11T13:25  ...                    480.0                     475.0   \n",
       "2  2019-04-11T14:09  ...                    480.0                     475.0   \n",
       "3  2019-04-11T14:53  ...                    480.0                     475.0   \n",
       "4  2019-04-11T15:38  ...                    480.0                     475.0   \n",
       "\n",
       "   PHOS_FIRE_TEMP_ANEAL_CH01  PHOS_FIRE_TEMP_ANEAL_CH02  \\\n",
       "0                      443.0                      419.0   \n",
       "1                      445.0                      423.0   \n",
       "2                      444.0                      421.0   \n",
       "3                      444.0                      420.0   \n",
       "4                      443.0                      420.0   \n",
       "\n",
       "   PHOS_FIRE_TEMP_ANEAL_CH03  PHOS_FIRE_TEMP_ANEAL_CH04  \\\n",
       "0                      392.0                      372.0   \n",
       "1                      395.0                      374.0   \n",
       "2                      393.0                      372.0   \n",
       "3                      393.0                      372.0   \n",
       "4                      392.0                      372.0   \n",
       "\n",
       "   PHOS_FIRE_EXHAUST_HEAT1  PHOS_FIRE_EXHAUST_HEAT2  PHOS_FIRE_EXHAUST_HEAT3  \\\n",
       "0                   4115.0                   3973.0                   4432.0   \n",
       "1                   3642.0                   4097.0                   4499.0   \n",
       "2                   4063.0                   3972.0                   4460.0   \n",
       "3                   4131.0                   4011.0                   4466.0   \n",
       "4                   3632.0                   4073.0                   4482.0   \n",
       "\n",
       "   PHOS_FIRE_EXHAUST_HEAT4  \n",
       "0                   2506.0  \n",
       "1                   2573.0  \n",
       "2                   2502.0  \n",
       "3                   2522.0  \n",
       "4                   2584.0  \n",
       "\n",
       "[5 rows x 107 columns]"
      ]
     },
     "execution_count": 5,
     "metadata": {},
     "output_type": "execute_result"
    }
   ],
   "source": [
    "df_raw = pd.read_csv('/home/pirl/빅데이터 프로젝트/raw data/MFG_PROCESS.csv', engine='python', encoding='EUC-KR')\n",
    "df_raw.head()"
   ]
  },
  {
   "cell_type": "markdown",
   "metadata": {},
   "source": [
    "# 히스토그램"
   ]
  },
  {
   "cell_type": "code",
   "execution_count": 4,
   "metadata": {},
   "outputs": [],
   "source": [
    "def fun_plot_hist(data, var):\n",
    "    plt.hist(data[data['JUDGE']=='양품'][var], label='양품', alpha=0.5)\n",
    "    plt.hist(data[data['JUDGE']=='명점'][var], label='명점', alpha=0.5)\n",
    "    plt.legend()"
   ]
  },
  {
   "cell_type": "code",
   "execution_count": 5,
   "metadata": {
    "scrolled": true
   },
   "outputs": [
    {
     "name": "stderr",
     "output_type": "stream",
     "text": [
      "/home/pirl/anaconda3/lib/python3.7/site-packages/numpy/lib/histograms.py:829: RuntimeWarning: invalid value encountered in greater_equal\n",
      "  keep = (tmp_a >= first_edge)\n",
      "/home/pirl/anaconda3/lib/python3.7/site-packages/numpy/lib/histograms.py:830: RuntimeWarning: invalid value encountered in less_equal\n",
      "  keep &= (tmp_a <= last_edge)\n"
     ]
    },
    {
     "data": {
      "image/png": "[encoded data removed]",
      "text/plain": [
       "<Figure size 432x288 with 1 Axes>"
      ]
     },
     "metadata": {
      "needs_background": "light"
     },
     "output_type": "display_data"
    }
   ],
   "source": [
    "\n",
    "fun_plot_hist(df_raw, 'BLACK_RTD_TEMP_GLASS_END')"
   ]
  },
  {
   "cell_type": "markdown",
   "metadata": {},
   "source": [
    "# BUS 소성 HEATING"
   ]
  },
  {
   "cell_type": "code",
   "execution_count": 40,
   "metadata": {},
   "outputs": [
    {
     "data": {
      "text/plain": [
       "'HEAT 간의 분포 차이 존재. HEAT1<HEAT2'"
      ]
     },
     "execution_count": 40,
     "metadata": {},
     "output_type": "execute_result"
    }
   ],
   "source": [
    "'''HEAT 간의 분포 차이 존재. HEAT1<HEAT2'''"
   ]
  },
  {
   "cell_type": "code",
   "execution_count": 6,
   "metadata": {
    "scrolled": true
   },
   "outputs": [
    {
     "data": {
      "image/png": "[encoded data removed]",
      "text/plain": [
       "<Figure size 432x288 with 1 Axes>"
      ]
     },
     "metadata": {
      "needs_background": "light"
     },
     "output_type": "display_data"
    }
   ],
   "source": [
    "\n",
    "fun_plot_hist(df_raw, 'BUS_FIRE_TEMP_HEAT2_CH03')"
   ]
  },
  {
   "cell_type": "code",
   "execution_count": 9,
   "metadata": {},
   "outputs": [
    {
     "data": {
      "image/png": "[encoded data removed]",
      "text/plain": [
       "<Figure size 432x288 with 1 Axes>"
      ]
     },
     "metadata": {
      "needs_background": "light"
     },
     "output_type": "display_data"
    }
   ],
   "source": [
    "\n",
    "fun_plot_hist(df_raw, 'BUS_FIRE_TEMP_HEAT1_CH03')"
   ]
  },
  {
   "cell_type": "code",
   "execution_count": 7,
   "metadata": {
    "scrolled": true
   },
   "outputs": [
    {
     "data": {
      "image/png": "[encoded data removed]",
      "text/plain": [
       "<Figure size 432x288 with 1 Axes>"
      ]
     },
     "metadata": {
      "needs_background": "light"
     },
     "output_type": "display_data"
    }
   ],
   "source": [
    "\n",
    "fun_plot_hist(df_raw, 'BUS_FIRE_TEMP_HEAT2_CH02')"
   ]
  },
  {
   "cell_type": "code",
   "execution_count": 11,
   "metadata": {},
   "outputs": [
    {
     "data": {
      "image/png": "[encoded data removed]",
      "text/plain": [
       "<Figure size 432x288 with 1 Axes>"
      ]
     },
     "metadata": {
      "needs_background": "light"
     },
     "output_type": "display_data"
    }
   ],
   "source": [
    "\n",
    "fun_plot_hist(df_raw, 'BUS_FIRE_TEMP_HEAT1_CH02')"
   ]
  },
  {
   "cell_type": "code",
   "execution_count": 8,
   "metadata": {
    "scrolled": true
   },
   "outputs": [
    {
     "data": {
      "image/png": "[encoded data removed]",
      "text/plain": [
       "<Figure size 432x288 with 1 Axes>"
      ]
     },
     "metadata": {
      "needs_background": "light"
     },
     "output_type": "display_data"
    }
   ],
   "source": [
    "\n",
    "fun_plot_hist(df_raw, 'BUS_FIRE_TEMP_HEAT2_CH01')"
   ]
  },
  {
   "cell_type": "markdown",
   "metadata": {},
   "source": [
    "# CHAMER 간에도 차이 존재"
   ]
  },
  {
   "cell_type": "code",
   "execution_count": 12,
   "metadata": {
    "scrolled": false
   },
   "outputs": [
    {
     "data": {
      "image/png": "[encoded data removed]",
      "text/plain": [
       "<Figure size 432x288 with 1 Axes>"
      ]
     },
     "metadata": {
      "needs_background": "light"
     },
     "output_type": "display_data"
    }
   ],
   "source": [
    "\n",
    "fun_plot_hist(df_raw, 'BUS_FIRE_TEMP_HEAT1_CH01')"
   ]
  },
  {
   "cell_type": "code",
   "execution_count": 18,
   "metadata": {
    "scrolled": true
   },
   "outputs": [
    {
     "data": {
      "image/png": "[encoded data removed]",
      "text/plain": [
       "<Figure size 432x288 with 1 Axes>"
      ]
     },
     "metadata": {
      "needs_background": "light"
     },
     "output_type": "display_data"
    }
   ],
   "source": [
    "\n",
    "fun_plot_hist(df_raw, 'BUS_FIRE_TEMP_HEAT1_CH02')"
   ]
  },
  {
   "cell_type": "code",
   "execution_count": 19,
   "metadata": {
    "scrolled": true
   },
   "outputs": [
    {
     "data": {
      "image/png": "[encoded data removed]",
      "text/plain": [
       "<Figure size 432x288 with 1 Axes>"
      ]
     },
     "metadata": {
      "needs_background": "light"
     },
     "output_type": "display_data"
    }
   ],
   "source": [
    "\n",
    "fun_plot_hist(df_raw, 'BUS_FIRE_TEMP_HEAT1_CH03')"
   ]
  },
  {
   "cell_type": "code",
   "execution_count": 20,
   "metadata": {
    "scrolled": true
   },
   "outputs": [
    {
     "data": {
      "image/png": "[encoded data removed]",
      "text/plain": [
       "<Figure size 432x288 with 1 Axes>"
      ]
     },
     "metadata": {
      "needs_background": "light"
     },
     "output_type": "display_data"
    }
   ],
   "source": [
    "\n",
    "fun_plot_hist(df_raw, 'BUS_FIRE_TEMP_HEAT2_CH01')"
   ]
  },
  {
   "cell_type": "code",
   "execution_count": 21,
   "metadata": {
    "scrolled": true
   },
   "outputs": [
    {
     "data": {
      "image/png": "[encoded data removed]",
      "text/plain": [
       "<Figure size 432x288 with 1 Axes>"
      ]
     },
     "metadata": {
      "needs_background": "light"
     },
     "output_type": "display_data"
    }
   ],
   "source": [
    "\n",
    "fun_plot_hist(df_raw, 'BUS_FIRE_TEMP_HEAT2_CH02')"
   ]
  },
  {
   "cell_type": "code",
   "execution_count": 22,
   "metadata": {},
   "outputs": [
    {
     "data": {
      "image/png": "[encoded data removed]",
      "text/plain": [
       "<Figure size 432x288 with 1 Axes>"
      ]
     },
     "metadata": {
      "needs_background": "light"
     },
     "output_type": "display_data"
    }
   ],
   "source": [
    "\n",
    "fun_plot_hist(df_raw, 'BUS_FIRE_TEMP_HEAT2_CH03')"
   ]
  },
  {
   "cell_type": "markdown",
   "metadata": {},
   "source": [
    "# 유전체 소성로도 동일 HEATING 간의 차이"
   ]
  },
  {
   "cell_type": "code",
   "execution_count": 13,
   "metadata": {},
   "outputs": [
    {
     "data": {
      "image/png": "[encoded data removed]",
      "text/plain": [
       "<Figure size 432x288 with 1 Axes>"
      ]
     },
     "metadata": {
      "needs_background": "light"
     },
     "output_type": "display_data"
    }
   ],
   "source": [
    "\n",
    "fun_plot_hist(df_raw, 'DIELEC_FIRE_TEMP_HEAT1_CH01')"
   ]
  },
  {
   "cell_type": "code",
   "execution_count": 14,
   "metadata": {
    "scrolled": false
   },
   "outputs": [
    {
     "data": {
      "image/png": "[encoded data removed]",
      "text/plain": [
       "<Figure size 432x288 with 1 Axes>"
      ]
     },
     "metadata": {
      "needs_background": "light"
     },
     "output_type": "display_data"
    }
   ],
   "source": [
    "\n",
    "fun_plot_hist(df_raw, 'DIELEC_FIRE_TEMP_HEAT2_CH01')"
   ]
  },
  {
   "cell_type": "code",
   "execution_count": 16,
   "metadata": {},
   "outputs": [
    {
     "data": {
      "image/png": "[encoded data removed]",
      "text/plain": [
       "<Figure size 432x288 with 1 Axes>"
      ]
     },
     "metadata": {
      "needs_background": "light"
     },
     "output_type": "display_data"
    }
   ],
   "source": [
    "\n",
    "fun_plot_hist(df_raw, 'DIELEC_FIRE_TEMP_HEAT1_CH01')"
   ]
  },
  {
   "cell_type": "code",
   "execution_count": 15,
   "metadata": {},
   "outputs": [
    {
     "data": {
      "image/png": "[encoded data removed]",
      "text/plain": [
       "<Figure size 432x288 with 1 Axes>"
      ]
     },
     "metadata": {
      "needs_background": "light"
     },
     "output_type": "display_data"
    }
   ],
   "source": [
    "\n",
    "fun_plot_hist(df_raw, 'DIELEC_FIRE_TEMP_HEAT1_CH02')"
   ]
  },
  {
   "cell_type": "code",
   "execution_count": 17,
   "metadata": {},
   "outputs": [
    {
     "data": {
      "image/png": "[encoded data removed]",
      "text/plain": [
       "<Figure size 432x288 with 1 Axes>"
      ]
     },
     "metadata": {
      "needs_background": "light"
     },
     "output_type": "display_data"
    }
   ],
   "source": [
    "\n",
    "fun_plot_hist(df_raw, 'DIELEC_FIRE_TEMP_HEAT1_CH03')"
   ]
  },
  {
   "cell_type": "code",
   "execution_count": 23,
   "metadata": {},
   "outputs": [
    {
     "data": {
      "image/png": "[encoded data removed]",
      "text/plain": [
       "<Figure size 432x288 with 1 Axes>"
      ]
     },
     "metadata": {
      "needs_background": "light"
     },
     "output_type": "display_data"
    }
   ],
   "source": [
    "\n",
    "fun_plot_hist(df_raw, 'DIELEC_FIRE_TEMP_HEAT2_CH01')"
   ]
  },
  {
   "cell_type": "code",
   "execution_count": 24,
   "metadata": {},
   "outputs": [
    {
     "data": {
      "image/png": "[encoded data removed]",
      "text/plain": [
       "<Figure size 432x288 with 1 Axes>"
      ]
     },
     "metadata": {
      "needs_background": "light"
     },
     "output_type": "display_data"
    }
   ],
   "source": [
    "\n",
    "fun_plot_hist(df_raw, 'DIELEC_FIRE_TEMP_HEAT2_CH02')"
   ]
  },
  {
   "cell_type": "code",
   "execution_count": 25,
   "metadata": {
    "scrolled": true
   },
   "outputs": [
    {
     "data": {
      "image/png": "[encoded data removed]",
      "text/plain": [
       "<Figure size 432x288 with 1 Axes>"
      ]
     },
     "metadata": {
      "needs_background": "light"
     },
     "output_type": "display_data"
    }
   ],
   "source": [
    "\n",
    "fun_plot_hist(df_raw, 'DIELEC_FIRE_TEMP_HEAT2_CH03')"
   ]
  },
  {
   "cell_type": "markdown",
   "metadata": {},
   "source": [
    "# 결론: HEATING1 CHAMBER 1.2.3. HEATING2 CHAMBER1.2.3  순으로 온도 크기가 커짐"
   ]
  },
  {
   "cell_type": "code",
   "execution_count": 26,
   "metadata": {},
   "outputs": [
    {
     "data": {
      "image/png": "[encoded data removed]",
      "text/plain": [
       "<Figure size 432x288 with 1 Axes>"
      ]
     },
     "metadata": {
      "needs_background": "light"
     },
     "output_type": "display_data"
    }
   ],
   "source": [
    "\n",
    "fun_plot_hist(df_raw, 'DIELEC_FIRE_TEMP_HEAT1_CH03')"
   ]
  },
  {
   "cell_type": "code",
   "execution_count": 27,
   "metadata": {},
   "outputs": [
    {
     "data": {
      "image/png": "[encoded data removed]",
      "text/plain": [
       "<Figure size 432x288 with 1 Axes>"
      ]
     },
     "metadata": {
      "needs_background": "light"
     },
     "output_type": "display_data"
    }
   ],
   "source": [
    "\n",
    "fun_plot_hist(df_raw, 'DIELEC_FIRE_TEMP_HEAT2_CH01')"
   ]
  },
  {
   "cell_type": "markdown",
   "metadata": {},
   "source": [
    "# 유전체 소성로 배기량 "
   ]
  },
  {
   "cell_type": "code",
   "execution_count": 37,
   "metadata": {},
   "outputs": [
    {
     "data": {
      "text/plain": [
       "'분포가 HEAT마다 다름. 1에서 5까지는 배기량 증가. 6,7 예외'"
      ]
     },
     "execution_count": 37,
     "metadata": {},
     "output_type": "execute_result"
    }
   ],
   "source": [
    "'''분포가 HEAT마다 다름. 1에서 5까지는 배기량 증가. 6,7 예외'''"
   ]
  },
  {
   "cell_type": "code",
   "execution_count": 28,
   "metadata": {},
   "outputs": [
    {
     "data": {
      "image/png": "[encoded data removed]",
      "text/plain": [
       "<Figure size 432x288 with 1 Axes>"
      ]
     },
     "metadata": {
      "needs_background": "light"
     },
     "output_type": "display_data"
    }
   ],
   "source": [
    "fun_plot_hist(df_raw, 'DIELEC_FIRE_EXHAUST_HEAT1')"
   ]
  },
  {
   "cell_type": "code",
   "execution_count": 30,
   "metadata": {},
   "outputs": [
    {
     "data": {
      "image/png": "[encoded data removed]",
      "text/plain": [
       "<Figure size 432x288 with 1 Axes>"
      ]
     },
     "metadata": {
      "needs_background": "light"
     },
     "output_type": "display_data"
    }
   ],
   "source": [
    "fun_plot_hist(df_raw, 'DIELEC_FIRE_EXHAUST_HEAT2')"
   ]
  },
  {
   "cell_type": "code",
   "execution_count": 31,
   "metadata": {},
   "outputs": [
    {
     "data": {
      "image/png": "[encoded data removed]",
      "text/plain": [
       "<Figure size 432x288 with 1 Axes>"
      ]
     },
     "metadata": {
      "needs_background": "light"
     },
     "output_type": "display_data"
    }
   ],
   "source": [
    "fun_plot_hist(df_raw, 'DIELEC_FIRE_EXHAUST_HEAT3')"
   ]
  },
  {
   "cell_type": "code",
   "execution_count": 32,
   "metadata": {
    "scrolled": true
   },
   "outputs": [
    {
     "data": {
      "image/png": "[encoded data removed]",
      "text/plain": [
       "<Figure size 432x288 with 1 Axes>"
      ]
     },
     "metadata": {
      "needs_background": "light"
     },
     "output_type": "display_data"
    }
   ],
   "source": [
    "fun_plot_hist(df_raw, 'DIELEC_FIRE_EXHAUST_HEAT4')"
   ]
  },
  {
   "cell_type": "code",
   "execution_count": 33,
   "metadata": {},
   "outputs": [
    {
     "data": {
      "image/png": "[encoded data removed]",
      "text/plain": [
       "<Figure size 432x288 with 1 Axes>"
      ]
     },
     "metadata": {
      "needs_background": "light"
     },
     "output_type": "display_data"
    }
   ],
   "source": [
    "fun_plot_hist(df_raw, 'DIELEC_FIRE_EXHAUST_HEAT5')"
   ]
  },
  {
   "cell_type": "code",
   "execution_count": 34,
   "metadata": {},
   "outputs": [
    {
     "data": {
      "image/png": "[encoded data removed]",
      "text/plain": [
       "<Figure size 432x288 with 1 Axes>"
      ]
     },
     "metadata": {
      "needs_background": "light"
     },
     "output_type": "display_data"
    }
   ],
   "source": [
    "fun_plot_hist(df_raw, 'DIELEC_FIRE_EXHAUST_HEAT6')"
   ]
  },
  {
   "cell_type": "code",
   "execution_count": 35,
   "metadata": {},
   "outputs": [
    {
     "data": {
      "image/png": "[encoded data removed]",
      "text/plain": [
       "<Figure size 432x288 with 1 Axes>"
      ]
     },
     "metadata": {
      "needs_background": "light"
     },
     "output_type": "display_data"
    }
   ],
   "source": [
    "fun_plot_hist(df_raw, 'DIELEC_FIRE_EXHAUST_HEAT7')"
   ]
  },
  {
   "cell_type": "markdown",
   "metadata": {},
   "source": [
    "# 형광체 소성 HEAT CHAMEBER"
   ]
  },
  {
   "cell_type": "code",
   "execution_count": null,
   "metadata": {},
   "outputs": [],
   "source": [
    "'''1<2<3<4'''"
   ]
  },
  {
   "cell_type": "code",
   "execution_count": 41,
   "metadata": {},
   "outputs": [
    {
     "data": {
      "image/png": "[encoded data removed]",
      "text/plain": [
       "<Figure size 432x288 with 1 Axes>"
      ]
     },
     "metadata": {
      "needs_background": "light"
     },
     "output_type": "display_data"
    }
   ],
   "source": [
    "\n",
    "fun_plot_hist(df_raw, 'PHOS_FIRE_TEMP_HEAT_CH01')"
   ]
  },
  {
   "cell_type": "code",
   "execution_count": 42,
   "metadata": {},
   "outputs": [
    {
     "data": {
      "image/png": "[encoded data removed]",
      "text/plain": [
       "<Figure size 432x288 with 1 Axes>"
      ]
     },
     "metadata": {
      "needs_background": "light"
     },
     "output_type": "display_data"
    }
   ],
   "source": [
    "\n",
    "fun_plot_hist(df_raw, 'PHOS_FIRE_TEMP_HEAT_CH02')"
   ]
  },
  {
   "cell_type": "code",
   "execution_count": 43,
   "metadata": {},
   "outputs": [
    {
     "data": {
      "image/png": "[encoded data removed]",
      "text/plain": [
       "<Figure size 432x288 with 1 Axes>"
      ]
     },
     "metadata": {
      "needs_background": "light"
     },
     "output_type": "display_data"
    }
   ],
   "source": [
    "\n",
    "fun_plot_hist(df_raw, 'PHOS_FIRE_TEMP_HEAT_CH03')"
   ]
  },
  {
   "cell_type": "code",
   "execution_count": 44,
   "metadata": {
    "scrolled": true
   },
   "outputs": [
    {
     "data": {
      "image/png": "[encoded data removed]",
      "text/plain": [
       "<Figure size 432x288 with 1 Axes>"
      ]
     },
     "metadata": {
      "needs_background": "light"
     },
     "output_type": "display_data"
    }
   ],
   "source": [
    "\n",
    "fun_plot_hist(df_raw, 'PHOS_FIRE_TEMP_HEAT_CH04')"
   ]
  },
  {
   "cell_type": "markdown",
   "metadata": {},
   "source": [
    "# 형광체 소성 KEEP CHAMEBER"
   ]
  },
  {
   "cell_type": "code",
   "execution_count": 51,
   "metadata": {},
   "outputs": [
    {
     "data": {
      "text/plain": [
       "'차이 없음 오히려 3,4의 경우 온도가 떨어짐'"
      ]
     },
     "execution_count": 51,
     "metadata": {},
     "output_type": "execute_result"
    }
   ],
   "source": [
    "'''차이 없음 오히려 3,4의 경우 온도가 떨어짐'''"
   ]
  },
  {
   "cell_type": "code",
   "execution_count": 46,
   "metadata": {
    "scrolled": true
   },
   "outputs": [
    {
     "data": {
      "image/png": "[encoded data removed]",
      "text/plain": [
       "<Figure size 432x288 with 1 Axes>"
      ]
     },
     "metadata": {
      "needs_background": "light"
     },
     "output_type": "display_data"
    }
   ],
   "source": [
    "\n",
    "fun_plot_hist(df_raw, 'PHOS_FIRE_TEMP_KEEP_CH01')"
   ]
  },
  {
   "cell_type": "code",
   "execution_count": 47,
   "metadata": {},
   "outputs": [
    {
     "data": {
      "image/png": "[encoded data removed]",
      "text/plain": [
       "<Figure size 432x288 with 1 Axes>"
      ]
     },
     "metadata": {
      "needs_background": "light"
     },
     "output_type": "display_data"
    }
   ],
   "source": [
    "\n",
    "fun_plot_hist(df_raw, 'PHOS_FIRE_TEMP_KEEP_CH02')"
   ]
  },
  {
   "cell_type": "code",
   "execution_count": 48,
   "metadata": {},
   "outputs": [
    {
     "data": {
      "image/png": "[encoded data removed]",
      "text/plain": [
       "<Figure size 432x288 with 1 Axes>"
      ]
     },
     "metadata": {
      "needs_background": "light"
     },
     "output_type": "display_data"
    }
   ],
   "source": [
    "\n",
    "fun_plot_hist(df_raw, 'PHOS_FIRE_TEMP_KEEP_CH03')"
   ]
  },
  {
   "cell_type": "code",
   "execution_count": 49,
   "metadata": {
    "scrolled": false
   },
   "outputs": [
    {
     "data": {
      "image/png": "[encoded data removed]",
      "text/plain": [
       "<Figure size 432x288 with 1 Axes>"
      ]
     },
     "metadata": {
      "needs_background": "light"
     },
     "output_type": "display_data"
    }
   ],
   "source": [
    "\n",
    "fun_plot_hist(df_raw, 'PHOS_FIRE_TEMP_KEEP_CH04')"
   ]
  },
  {
   "cell_type": "markdown",
   "metadata": {},
   "source": [
    "# 형광체 소성 ANEALING CHAMEBER"
   ]
  },
  {
   "cell_type": "code",
   "execution_count": 57,
   "metadata": {},
   "outputs": [
    {
     "data": {
      "text/plain": [
       "'4>3>2>1 온도 내려감'"
      ]
     },
     "execution_count": 57,
     "metadata": {},
     "output_type": "execute_result"
    }
   ],
   "source": [
    "'''4>3>2>1 온도 내려감'''"
   ]
  },
  {
   "cell_type": "code",
   "execution_count": 53,
   "metadata": {
    "scrolled": true
   },
   "outputs": [
    {
     "data": {
      "image/png": "[encoded data removed]",
      "text/plain": [
       "<Figure size 432x288 with 1 Axes>"
      ]
     },
     "metadata": {
      "needs_background": "light"
     },
     "output_type": "display_data"
    }
   ],
   "source": [
    "\n",
    "fun_plot_hist(df_raw, 'PHOS_FIRE_TEMP_ANEAL_CH01')"
   ]
  },
  {
   "cell_type": "code",
   "execution_count": 54,
   "metadata": {},
   "outputs": [
    {
     "data": {
      "image/png": "[encoded data removed]",
      "text/plain": [
       "<Figure size 432x288 with 1 Axes>"
      ]
     },
     "metadata": {
      "needs_background": "light"
     },
     "output_type": "display_data"
    }
   ],
   "source": [
    "\n",
    "fun_plot_hist(df_raw, 'PHOS_FIRE_TEMP_ANEAL_CH02')"
   ]
  },
  {
   "cell_type": "code",
   "execution_count": 55,
   "metadata": {},
   "outputs": [
    {
     "data": {
      "image/png": "[encoded data removed]",
      "text/plain": [
       "<Figure size 432x288 with 1 Axes>"
      ]
     },
     "metadata": {
      "needs_background": "light"
     },
     "output_type": "display_data"
    }
   ],
   "source": [
    "\n",
    "fun_plot_hist(df_raw, 'PHOS_FIRE_TEMP_ANEAL_CH03')"
   ]
  },
  {
   "cell_type": "code",
   "execution_count": 56,
   "metadata": {
    "scrolled": false
   },
   "outputs": [
    {
     "data": {
      "image/png": "[encoded data removed]",
      "text/plain": [
       "<Figure size 432x288 with 1 Axes>"
      ]
     },
     "metadata": {
      "needs_background": "light"
     },
     "output_type": "display_data"
    }
   ],
   "source": [
    "\n",
    "fun_plot_hist(df_raw, 'PHOS_FIRE_TEMP_ANEAL_CH04')"
   ]
  },
  {
   "cell_type": "markdown",
   "metadata": {},
   "source": [
    "# 형광체 소성로 배기량 "
   ]
  },
  {
   "cell_type": "code",
   "execution_count": 63,
   "metadata": {},
   "outputs": [
    {
     "data": {
      "text/plain": [
       "'HEAT 4의 경우 다른 HEAT보다 배기량이 낮음'"
      ]
     },
     "execution_count": 63,
     "metadata": {},
     "output_type": "execute_result"
    }
   ],
   "source": [
    "'''HEAT 4의 경우 다른 HEAT보다 배기량이 낮음'''"
   ]
  },
  {
   "cell_type": "code",
   "execution_count": 58,
   "metadata": {},
   "outputs": [
    {
     "data": {
      "image/png": "[encoded data removed]",
      "text/plain": [
       "<Figure size 432x288 with 1 Axes>"
      ]
     },
     "metadata": {
      "needs_background": "light"
     },
     "output_type": "display_data"
    }
   ],
   "source": [
    "fun_plot_hist(df_raw, 'PHOS_FIRE_EXHAUST_HEAT1')"
   ]
  },
  {
   "cell_type": "code",
   "execution_count": 59,
   "metadata": {},
   "outputs": [
    {
     "data": {
      "image/png": "[encoded data removed]",
      "text/plain": [
       "<Figure size 432x288 with 1 Axes>"
      ]
     },
     "metadata": {
      "needs_background": "light"
     },
     "output_type": "display_data"
    }
   ],
   "source": [
    "fun_plot_hist(df_raw, 'PHOS_FIRE_EXHAUST_HEAT2')"
   ]
  },
  {
   "cell_type": "code",
   "execution_count": 60,
   "metadata": {},
   "outputs": [
    {
     "data": {
      "image/png": "[encoded data removed]",
      "text/plain": [
       "<Figure size 432x288 with 1 Axes>"
      ]
     },
     "metadata": {
      "needs_background": "light"
     },
     "output_type": "display_data"
    }
   ],
   "source": [
    "fun_plot_hist(df_raw, 'PHOS_FIRE_EXHAUST_HEAT3')"
   ]
  },
  {
   "cell_type": "code",
   "execution_count": 61,
   "metadata": {
    "scrolled": true
   },
   "outputs": [
    {
     "data": {
      "image/png": "[encoded data removed]",
      "text/plain": [
       "<Figure size 432x288 with 1 Axes>"
      ]
     },
     "metadata": {
      "needs_background": "light"
     },
     "output_type": "display_data"
    }
   ],
   "source": [
    "fun_plot_hist(df_raw, 'PHOS_FIRE_EXHAUST_HEAT4')"
   ]
  },
  {
   "cell_type": "markdown",
   "metadata": {},
   "source": [
    "# BUS_FIRE_TEMP_HEAT1_CH02 : 189, 190 간의 차이"
   ]
  },
  {
   "cell_type": "code",
   "execution_count": 8,
   "metadata": {},
   "outputs": [],
   "source": [
    "df = df_raw[['JUDGE', 'BUS_FIRE_TEMP_HEAT1_CH02']]"
   ]
  },
  {
   "cell_type": "code",
   "execution_count": 10,
   "metadata": {
    "scrolled": false
   },
   "outputs": [
    {
     "name": "stderr",
     "output_type": "stream",
     "text": [
      "/home/pirl/anaconda3/lib/python3.7/site-packages/ipykernel_launcher.py:1: SettingWithCopyWarning: \n",
      "A value is trying to be set on a copy of a slice from a DataFrame.\n",
      "Try using .loc[row_indexer,col_indexer] = value instead\n",
      "\n",
      "See the caveats in the documentation: http://pandas.pydata.org/pandas-docs/stable/user_guide/indexing.html#returning-a-view-versus-a-copy\n",
      "  \"\"\"Entry point for launching an IPython kernel.\n"
     ]
    }
   ],
   "source": [
    "df['JUDGE'] = np.where(df['JUDGE']=='명점', 1, 0)"
   ]
  },
  {
   "cell_type": "code",
   "execution_count": 15,
   "metadata": {},
   "outputs": [],
   "source": [
    "a = 'BUS_FIRE_TEMP_HEAT1_CH02'"
   ]
  },
  {
   "cell_type": "code",
   "execution_count": 17,
   "metadata": {},
   "outputs": [
    {
     "data": {
      "text/plain": [
       "<matplotlib.axes._subplots.AxesSubplot at 0x7f684feb9490>"
      ]
     },
     "execution_count": 17,
     "metadata": {},
     "output_type": "execute_result"
    },
    {
     "data": {
      "image/png": "[encoded data removed]",
      "text/plain": [
       "<Figure size 432x288 with 1 Axes>"
      ]
     },
     "metadata": {
      "needs_background": "light"
     },
     "output_type": "display_data"
    }
   ],
   "source": [
    "df.boxplot('JUDGE', by='BUS_FIRE_TEMP_HEAT1_CH02')"
   ]
  },
  {
   "cell_type": "code",
   "execution_count": 18,
   "metadata": {},
   "outputs": [
    {
     "name": "stdout",
     "output_type": "stream",
     "text": [
      "                                 df      sum_sq   mean_sq         F    PR(>F)\n",
      "C(BUS_FIRE_TEMP_HEAT1_CH02)     1.0    0.079480  0.079480  0.835255  0.360812\n",
      "Residual                     3990.0  379.673777  0.095156       NaN       NaN\n"
     ]
    }
   ],
   "source": [
    "lm = ols('JUDGE~C(BUS_FIRE_TEMP_HEAT1_CH02)', df).fit()\n",
    "print(anova_lm(lm))\n"
   ]
  },
  {
   "cell_type": "markdown",
   "metadata": {},
   "source": [
    "# 상관계수"
   ]
  },
  {
   "cell_type": "code",
   "execution_count": 7,
   "metadata": {},
   "outputs": [
    {
     "data": {
      "text/html": [
       "<div>\n",
       "<style scoped>\n",
       "    .dataframe tbody tr th:only-of-type {\n",
       "        vertical-align: middle;\n",
       "    }\n",
       "\n",
       "    .dataframe tbody tr th {\n",
       "        vertical-align: top;\n",
       "    }\n",
       "\n",
       "    .dataframe thead th {\n",
       "        text-align: right;\n",
       "    }\n",
       "</style>\n",
       "<table border=\"1\" class=\"dataframe\">\n",
       "  <thead>\n",
       "    <tr style=\"text-align: right;\">\n",
       "      <th></th>\n",
       "      <th>BLACK_RTD_TEMP_GLASS_START</th>\n",
       "      <th>BLACK_RTD_TEMP_GLASS_END</th>\n",
       "      <th>BLACK_RTD_TEMP_WALL_START</th>\n",
       "      <th>BLACK_RTD_TEMP_WALL_MAX</th>\n",
       "      <th>BLACK_RTD_PRES_START</th>\n",
       "      <th>BLACK_RTD_PRES_END</th>\n",
       "      <th>BLACK_RTD_TEMP_GLASS_OUT</th>\n",
       "      <th>BLACK_RTD_TEMP_HOOD_START</th>\n",
       "      <th>BLACK_RTD_TEMP_HOOD_MAX</th>\n",
       "      <th>AG_RTD_TEMP_GLASS_START</th>\n",
       "      <th>...</th>\n",
       "      <th>PHOS_FIRE_TEMP_KEEP_CH03</th>\n",
       "      <th>PHOS_FIRE_TEMP_KEEP_CH04</th>\n",
       "      <th>PHOS_FIRE_TEMP_ANEAL_CH01</th>\n",
       "      <th>PHOS_FIRE_TEMP_ANEAL_CH02</th>\n",
       "      <th>PHOS_FIRE_TEMP_ANEAL_CH03</th>\n",
       "      <th>PHOS_FIRE_TEMP_ANEAL_CH04</th>\n",
       "      <th>PHOS_FIRE_EXHAUST_HEAT1</th>\n",
       "      <th>PHOS_FIRE_EXHAUST_HEAT2</th>\n",
       "      <th>PHOS_FIRE_EXHAUST_HEAT3</th>\n",
       "      <th>PHOS_FIRE_EXHAUST_HEAT4</th>\n",
       "    </tr>\n",
       "  </thead>\n",
       "  <tbody>\n",
       "    <tr>\n",
       "      <th>BLACK_RTD_TEMP_GLASS_START</th>\n",
       "      <td>1.000000</td>\n",
       "      <td>0.000416</td>\n",
       "      <td>0.562309</td>\n",
       "      <td>0.508248</td>\n",
       "      <td>0.014242</td>\n",
       "      <td>-0.390948</td>\n",
       "      <td>-0.126611</td>\n",
       "      <td>0.348381</td>\n",
       "      <td>0.245748</td>\n",
       "      <td>0.613877</td>\n",
       "      <td>...</td>\n",
       "      <td>0.047039</td>\n",
       "      <td>0.039648</td>\n",
       "      <td>-0.011952</td>\n",
       "      <td>-0.068145</td>\n",
       "      <td>-0.045891</td>\n",
       "      <td>-0.032811</td>\n",
       "      <td>0.006705</td>\n",
       "      <td>0.080207</td>\n",
       "      <td>0.101788</td>\n",
       "      <td>0.074182</td>\n",
       "    </tr>\n",
       "    <tr>\n",
       "      <th>BLACK_RTD_PRES_START</th>\n",
       "      <td>0.014242</td>\n",
       "      <td>0.043666</td>\n",
       "      <td>0.026856</td>\n",
       "      <td>-0.050732</td>\n",
       "      <td>1.000000</td>\n",
       "      <td>-0.179370</td>\n",
       "      <td>-0.117915</td>\n",
       "      <td>0.091663</td>\n",
       "      <td>0.055888</td>\n",
       "      <td>0.052283</td>\n",
       "      <td>...</td>\n",
       "      <td>0.044332</td>\n",
       "      <td>-0.015406</td>\n",
       "      <td>0.029649</td>\n",
       "      <td>0.042269</td>\n",
       "      <td>0.076527</td>\n",
       "      <td>0.086232</td>\n",
       "      <td>-0.004032</td>\n",
       "      <td>0.018638</td>\n",
       "      <td>0.062390</td>\n",
       "      <td>0.046530</td>\n",
       "    </tr>\n",
       "    <tr>\n",
       "      <th>BLACK_RTD_TEMP_HOOD_MAX</th>\n",
       "      <td>0.245748</td>\n",
       "      <td>0.090149</td>\n",
       "      <td>0.582435</td>\n",
       "      <td>0.457404</td>\n",
       "      <td>0.055888</td>\n",
       "      <td>-0.004361</td>\n",
       "      <td>-0.011728</td>\n",
       "      <td>0.886664</td>\n",
       "      <td>1.000000</td>\n",
       "      <td>0.145467</td>\n",
       "      <td>...</td>\n",
       "      <td>-0.073963</td>\n",
       "      <td>-0.034771</td>\n",
       "      <td>0.051675</td>\n",
       "      <td>0.084973</td>\n",
       "      <td>0.084120</td>\n",
       "      <td>0.076390</td>\n",
       "      <td>0.007384</td>\n",
       "      <td>0.001565</td>\n",
       "      <td>-0.010952</td>\n",
       "      <td>-0.015286</td>\n",
       "    </tr>\n",
       "    <tr>\n",
       "      <th>AG_RTD_TEMP_WALL_MAX</th>\n",
       "      <td>-0.022566</td>\n",
       "      <td>-0.005773</td>\n",
       "      <td>0.046328</td>\n",
       "      <td>0.000427</td>\n",
       "      <td>-0.049702</td>\n",
       "      <td>-0.085319</td>\n",
       "      <td>-0.040379</td>\n",
       "      <td>-0.056613</td>\n",
       "      <td>-0.060357</td>\n",
       "      <td>-0.084899</td>\n",
       "      <td>...</td>\n",
       "      <td>0.010855</td>\n",
       "      <td>0.004996</td>\n",
       "      <td>-0.094073</td>\n",
       "      <td>-0.059543</td>\n",
       "      <td>-0.063817</td>\n",
       "      <td>-0.076382</td>\n",
       "      <td>0.001192</td>\n",
       "      <td>-0.056520</td>\n",
       "      <td>-0.000549</td>\n",
       "      <td>-0.018197</td>\n",
       "    </tr>\n",
       "    <tr>\n",
       "      <th>AG_RTD_TEMP_HOOD_START</th>\n",
       "      <td>-0.667801</td>\n",
       "      <td>-0.029062</td>\n",
       "      <td>-0.407152</td>\n",
       "      <td>-0.428998</td>\n",
       "      <td>-0.031155</td>\n",
       "      <td>0.245233</td>\n",
       "      <td>-0.067868</td>\n",
       "      <td>-0.200515</td>\n",
       "      <td>-0.140553</td>\n",
       "      <td>-0.419670</td>\n",
       "      <td>...</td>\n",
       "      <td>-0.052477</td>\n",
       "      <td>-0.036973</td>\n",
       "      <td>-0.066740</td>\n",
       "      <td>0.006130</td>\n",
       "      <td>-0.022482</td>\n",
       "      <td>-0.007540</td>\n",
       "      <td>-0.018395</td>\n",
       "      <td>-0.049099</td>\n",
       "      <td>-0.101813</td>\n",
       "      <td>-0.036657</td>\n",
       "    </tr>\n",
       "    <tr>\n",
       "      <th>BUS_DEVELOP_TEMP_OVEN2</th>\n",
       "      <td>-0.001538</td>\n",
       "      <td>0.012841</td>\n",
       "      <td>0.044825</td>\n",
       "      <td>0.067302</td>\n",
       "      <td>-0.010015</td>\n",
       "      <td>-0.005235</td>\n",
       "      <td>0.043450</td>\n",
       "      <td>0.034180</td>\n",
       "      <td>-0.003235</td>\n",
       "      <td>0.031400</td>\n",
       "      <td>...</td>\n",
       "      <td>0.093743</td>\n",
       "      <td>0.124699</td>\n",
       "      <td>0.043412</td>\n",
       "      <td>-0.020039</td>\n",
       "      <td>-0.039487</td>\n",
       "      <td>-0.090393</td>\n",
       "      <td>0.005442</td>\n",
       "      <td>0.049627</td>\n",
       "      <td>-0.022120</td>\n",
       "      <td>0.014856</td>\n",
       "    </tr>\n",
       "    <tr>\n",
       "      <th>BUS_DEVELOP_PH_TANK1 2</th>\n",
       "      <td>-0.104428</td>\n",
       "      <td>-0.076035</td>\n",
       "      <td>-0.059340</td>\n",
       "      <td>-0.068796</td>\n",
       "      <td>-0.095947</td>\n",
       "      <td>0.034412</td>\n",
       "      <td>0.064452</td>\n",
       "      <td>-0.022713</td>\n",
       "      <td>-0.011063</td>\n",
       "      <td>-0.081454</td>\n",
       "      <td>...</td>\n",
       "      <td>0.009140</td>\n",
       "      <td>0.018121</td>\n",
       "      <td>0.023933</td>\n",
       "      <td>0.041842</td>\n",
       "      <td>0.028104</td>\n",
       "      <td>0.000350</td>\n",
       "      <td>-0.015893</td>\n",
       "      <td>0.042045</td>\n",
       "      <td>-0.000255</td>\n",
       "      <td>0.020454</td>\n",
       "    </tr>\n",
       "    <tr>\n",
       "      <th>BUS_DEVELOP_PRES1</th>\n",
       "      <td>NaN</td>\n",
       "      <td>NaN</td>\n",
       "      <td>NaN</td>\n",
       "      <td>NaN</td>\n",
       "      <td>NaN</td>\n",
       "      <td>NaN</td>\n",
       "      <td>NaN</td>\n",
       "      <td>NaN</td>\n",
       "      <td>NaN</td>\n",
       "      <td>NaN</td>\n",
       "      <td>...</td>\n",
       "      <td>NaN</td>\n",
       "      <td>NaN</td>\n",
       "      <td>NaN</td>\n",
       "      <td>NaN</td>\n",
       "      <td>NaN</td>\n",
       "      <td>NaN</td>\n",
       "      <td>NaN</td>\n",
       "      <td>NaN</td>\n",
       "      <td>NaN</td>\n",
       "      <td>NaN</td>\n",
       "    </tr>\n",
       "    <tr>\n",
       "      <th>BUS_FIRE_TEMP_HEAT1_CH02</th>\n",
       "      <td>0.078428</td>\n",
       "      <td>0.040287</td>\n",
       "      <td>0.038140</td>\n",
       "      <td>0.021987</td>\n",
       "      <td>0.046453</td>\n",
       "      <td>-0.014014</td>\n",
       "      <td>0.036859</td>\n",
       "      <td>-0.006207</td>\n",
       "      <td>-0.015448</td>\n",
       "      <td>0.025285</td>\n",
       "      <td>...</td>\n",
       "      <td>0.002315</td>\n",
       "      <td>0.002751</td>\n",
       "      <td>0.007193</td>\n",
       "      <td>0.014577</td>\n",
       "      <td>0.011573</td>\n",
       "      <td>0.008055</td>\n",
       "      <td>0.003322</td>\n",
       "      <td>-0.021267</td>\n",
       "      <td>-0.007420</td>\n",
       "      <td>-0.008246</td>\n",
       "    </tr>\n",
       "    <tr>\n",
       "      <th>BUS_FIRE_TEMP_HEAT2_CH03</th>\n",
       "      <td>0.051115</td>\n",
       "      <td>0.057310</td>\n",
       "      <td>-0.026444</td>\n",
       "      <td>-0.009177</td>\n",
       "      <td>0.058267</td>\n",
       "      <td>0.011890</td>\n",
       "      <td>0.015845</td>\n",
       "      <td>-0.066393</td>\n",
       "      <td>-0.083101</td>\n",
       "      <td>0.085830</td>\n",
       "      <td>...</td>\n",
       "      <td>0.026541</td>\n",
       "      <td>-0.020997</td>\n",
       "      <td>-0.026182</td>\n",
       "      <td>-0.079104</td>\n",
       "      <td>-0.073362</td>\n",
       "      <td>-0.075335</td>\n",
       "      <td>0.002478</td>\n",
       "      <td>-0.031701</td>\n",
       "      <td>0.012311</td>\n",
       "      <td>-0.001549</td>\n",
       "    </tr>\n",
       "    <tr>\n",
       "      <th>BUS_FIRE_TEMP_ANEAL_CH01</th>\n",
       "      <td>-0.020788</td>\n",
       "      <td>0.041928</td>\n",
       "      <td>0.031863</td>\n",
       "      <td>0.044508</td>\n",
       "      <td>-0.028553</td>\n",
       "      <td>0.009026</td>\n",
       "      <td>0.094019</td>\n",
       "      <td>0.031770</td>\n",
       "      <td>0.037117</td>\n",
       "      <td>-0.055912</td>\n",
       "      <td>...</td>\n",
       "      <td>0.005199</td>\n",
       "      <td>0.007703</td>\n",
       "      <td>-0.001157</td>\n",
       "      <td>0.032759</td>\n",
       "      <td>0.031779</td>\n",
       "      <td>0.017677</td>\n",
       "      <td>-0.047100</td>\n",
       "      <td>0.007311</td>\n",
       "      <td>-0.025490</td>\n",
       "      <td>-0.027806</td>\n",
       "    </tr>\n",
       "    <tr>\n",
       "      <th>DIELEC_FIRE_TEMP_HEAT1_CH02</th>\n",
       "      <td>0.025376</td>\n",
       "      <td>-0.005182</td>\n",
       "      <td>0.042840</td>\n",
       "      <td>0.113947</td>\n",
       "      <td>0.023237</td>\n",
       "      <td>-0.062699</td>\n",
       "      <td>0.021644</td>\n",
       "      <td>0.002237</td>\n",
       "      <td>-0.041494</td>\n",
       "      <td>0.028014</td>\n",
       "      <td>...</td>\n",
       "      <td>0.010258</td>\n",
       "      <td>-0.005595</td>\n",
       "      <td>0.004781</td>\n",
       "      <td>0.039389</td>\n",
       "      <td>0.026326</td>\n",
       "      <td>0.073650</td>\n",
       "      <td>-0.020250</td>\n",
       "      <td>0.003721</td>\n",
       "      <td>-0.010517</td>\n",
       "      <td>0.059213</td>\n",
       "    </tr>\n",
       "    <tr>\n",
       "      <th>DIELEC_FIRE_TEMP_HEAT2_CH03</th>\n",
       "      <td>0.012321</td>\n",
       "      <td>0.057439</td>\n",
       "      <td>0.027766</td>\n",
       "      <td>-0.021095</td>\n",
       "      <td>-0.024226</td>\n",
       "      <td>0.003000</td>\n",
       "      <td>-0.016437</td>\n",
       "      <td>-0.008838</td>\n",
       "      <td>0.051689</td>\n",
       "      <td>-0.043088</td>\n",
       "      <td>...</td>\n",
       "      <td>0.075072</td>\n",
       "      <td>0.059009</td>\n",
       "      <td>-0.056793</td>\n",
       "      <td>-0.055654</td>\n",
       "      <td>-0.063267</td>\n",
       "      <td>-0.081499</td>\n",
       "      <td>-0.001678</td>\n",
       "      <td>0.025181</td>\n",
       "      <td>0.018964</td>\n",
       "      <td>0.016087</td>\n",
       "    </tr>\n",
       "    <tr>\n",
       "      <th>DIELEC_FIRE_TEMP_ANEAL_CH01</th>\n",
       "      <td>0.042666</td>\n",
       "      <td>-0.016264</td>\n",
       "      <td>-0.040739</td>\n",
       "      <td>-0.008167</td>\n",
       "      <td>0.011546</td>\n",
       "      <td>-0.057472</td>\n",
       "      <td>0.008759</td>\n",
       "      <td>-0.067667</td>\n",
       "      <td>-0.071928</td>\n",
       "      <td>0.009971</td>\n",
       "      <td>...</td>\n",
       "      <td>0.058698</td>\n",
       "      <td>0.040280</td>\n",
       "      <td>-0.016036</td>\n",
       "      <td>-0.032124</td>\n",
       "      <td>-0.010846</td>\n",
       "      <td>-0.028714</td>\n",
       "      <td>-0.002130</td>\n",
       "      <td>0.009564</td>\n",
       "      <td>0.001401</td>\n",
       "      <td>0.020814</td>\n",
       "    </tr>\n",
       "    <tr>\n",
       "      <th>DIELEC_FIRE_EXHAUST_HEAT2</th>\n",
       "      <td>0.031347</td>\n",
       "      <td>0.043517</td>\n",
       "      <td>-0.019610</td>\n",
       "      <td>-0.028025</td>\n",
       "      <td>-0.020987</td>\n",
       "      <td>0.023307</td>\n",
       "      <td>0.006837</td>\n",
       "      <td>-0.052320</td>\n",
       "      <td>-0.036447</td>\n",
       "      <td>0.064709</td>\n",
       "      <td>...</td>\n",
       "      <td>0.018145</td>\n",
       "      <td>0.055568</td>\n",
       "      <td>-0.006390</td>\n",
       "      <td>-0.021841</td>\n",
       "      <td>-0.024169</td>\n",
       "      <td>-0.009681</td>\n",
       "      <td>0.008921</td>\n",
       "      <td>0.042587</td>\n",
       "      <td>0.063529</td>\n",
       "      <td>0.004477</td>\n",
       "    </tr>\n",
       "    <tr>\n",
       "      <th>DIELEC_FIRE_EXHAUST_HEAT6</th>\n",
       "      <td>0.038705</td>\n",
       "      <td>0.011797</td>\n",
       "      <td>0.010114</td>\n",
       "      <td>0.013757</td>\n",
       "      <td>0.042791</td>\n",
       "      <td>0.000340</td>\n",
       "      <td>-0.089861</td>\n",
       "      <td>0.006219</td>\n",
       "      <td>0.007588</td>\n",
       "      <td>0.061253</td>\n",
       "      <td>...</td>\n",
       "      <td>-0.006235</td>\n",
       "      <td>0.000627</td>\n",
       "      <td>-0.031357</td>\n",
       "      <td>-0.040838</td>\n",
       "      <td>-0.070838</td>\n",
       "      <td>-0.071187</td>\n",
       "      <td>0.015087</td>\n",
       "      <td>0.040274</td>\n",
       "      <td>0.051555</td>\n",
       "      <td>0.038008</td>\n",
       "    </tr>\n",
       "    <tr>\n",
       "      <th>PHOS_R_DRY_TEMP_WALL_START</th>\n",
       "      <td>0.015643</td>\n",
       "      <td>0.050782</td>\n",
       "      <td>0.040371</td>\n",
       "      <td>0.045120</td>\n",
       "      <td>0.026469</td>\n",
       "      <td>-0.022524</td>\n",
       "      <td>0.009054</td>\n",
       "      <td>-0.001626</td>\n",
       "      <td>-0.021053</td>\n",
       "      <td>0.037633</td>\n",
       "      <td>...</td>\n",
       "      <td>0.016029</td>\n",
       "      <td>0.059572</td>\n",
       "      <td>-0.025420</td>\n",
       "      <td>0.004669</td>\n",
       "      <td>-0.005991</td>\n",
       "      <td>0.004340</td>\n",
       "      <td>-0.019602</td>\n",
       "      <td>0.032033</td>\n",
       "      <td>0.055251</td>\n",
       "      <td>0.058346</td>\n",
       "    </tr>\n",
       "    <tr>\n",
       "      <th>PHOS_R_DRY_TEMP_GLASS_OUT</th>\n",
       "      <td>-0.019978</td>\n",
       "      <td>-0.013155</td>\n",
       "      <td>0.045783</td>\n",
       "      <td>0.029392</td>\n",
       "      <td>-0.002805</td>\n",
       "      <td>-0.043634</td>\n",
       "      <td>-0.001179</td>\n",
       "      <td>0.045788</td>\n",
       "      <td>0.049077</td>\n",
       "      <td>-0.042735</td>\n",
       "      <td>...</td>\n",
       "      <td>0.040052</td>\n",
       "      <td>0.071656</td>\n",
       "      <td>-0.146007</td>\n",
       "      <td>-0.029555</td>\n",
       "      <td>-0.059283</td>\n",
       "      <td>-0.048141</td>\n",
       "      <td>-0.028033</td>\n",
       "      <td>0.095995</td>\n",
       "      <td>0.039844</td>\n",
       "      <td>0.034352</td>\n",
       "    </tr>\n",
       "    <tr>\n",
       "      <th>PHOS_G_DRY_TEMP_GLASS_END</th>\n",
       "      <td>-0.047176</td>\n",
       "      <td>0.008139</td>\n",
       "      <td>-0.050255</td>\n",
       "      <td>-0.041516</td>\n",
       "      <td>-0.064395</td>\n",
       "      <td>0.006392</td>\n",
       "      <td>0.033871</td>\n",
       "      <td>-0.062174</td>\n",
       "      <td>-0.025854</td>\n",
       "      <td>-0.072718</td>\n",
       "      <td>...</td>\n",
       "      <td>-0.024643</td>\n",
       "      <td>0.032485</td>\n",
       "      <td>-0.036616</td>\n",
       "      <td>-0.028857</td>\n",
       "      <td>-0.033870</td>\n",
       "      <td>-0.026095</td>\n",
       "      <td>0.054987</td>\n",
       "      <td>-0.043280</td>\n",
       "      <td>0.020668</td>\n",
       "      <td>-0.027149</td>\n",
       "    </tr>\n",
       "    <tr>\n",
       "      <th>PHOS_G_DRY_PRES_END</th>\n",
       "      <td>0.221659</td>\n",
       "      <td>-0.002729</td>\n",
       "      <td>0.100236</td>\n",
       "      <td>0.094176</td>\n",
       "      <td>-0.049969</td>\n",
       "      <td>-0.025711</td>\n",
       "      <td>-0.026663</td>\n",
       "      <td>0.049313</td>\n",
       "      <td>0.042683</td>\n",
       "      <td>0.174516</td>\n",
       "      <td>...</td>\n",
       "      <td>-0.006132</td>\n",
       "      <td>0.057182</td>\n",
       "      <td>0.062926</td>\n",
       "      <td>-0.029719</td>\n",
       "      <td>-0.014588</td>\n",
       "      <td>-0.019277</td>\n",
       "      <td>-0.006317</td>\n",
       "      <td>0.100887</td>\n",
       "      <td>0.138496</td>\n",
       "      <td>0.059710</td>\n",
       "    </tr>\n",
       "    <tr>\n",
       "      <th>PHOS_FIRE_TEMP_HEAT_CH01</th>\n",
       "      <td>-0.003280</td>\n",
       "      <td>0.052434</td>\n",
       "      <td>0.004604</td>\n",
       "      <td>0.019888</td>\n",
       "      <td>-0.009544</td>\n",
       "      <td>0.055664</td>\n",
       "      <td>0.023215</td>\n",
       "      <td>-0.014865</td>\n",
       "      <td>-0.015370</td>\n",
       "      <td>-0.001480</td>\n",
       "      <td>...</td>\n",
       "      <td>-0.073159</td>\n",
       "      <td>-0.013689</td>\n",
       "      <td>0.136370</td>\n",
       "      <td>0.048850</td>\n",
       "      <td>0.033651</td>\n",
       "      <td>-0.009966</td>\n",
       "      <td>0.051753</td>\n",
       "      <td>-0.031228</td>\n",
       "      <td>0.033720</td>\n",
       "      <td>-0.031758</td>\n",
       "    </tr>\n",
       "    <tr>\n",
       "      <th>PHOS_FIRE_TEMP_KEEP_CH01</th>\n",
       "      <td>0.004920</td>\n",
       "      <td>-0.110869</td>\n",
       "      <td>-0.059577</td>\n",
       "      <td>-0.015287</td>\n",
       "      <td>-0.000547</td>\n",
       "      <td>-0.067503</td>\n",
       "      <td>-0.056005</td>\n",
       "      <td>-0.074839</td>\n",
       "      <td>-0.089754</td>\n",
       "      <td>-0.021946</td>\n",
       "      <td>...</td>\n",
       "      <td>0.383879</td>\n",
       "      <td>0.103850</td>\n",
       "      <td>-0.310863</td>\n",
       "      <td>-0.335806</td>\n",
       "      <td>-0.402056</td>\n",
       "      <td>-0.412564</td>\n",
       "      <td>0.014142</td>\n",
       "      <td>0.040548</td>\n",
       "      <td>0.012370</td>\n",
       "      <td>0.030596</td>\n",
       "    </tr>\n",
       "    <tr>\n",
       "      <th>PHOS_FIRE_TEMP_ANEAL_CH01</th>\n",
       "      <td>-0.011952</td>\n",
       "      <td>-0.013920</td>\n",
       "      <td>0.065515</td>\n",
       "      <td>0.019920</td>\n",
       "      <td>0.029649</td>\n",
       "      <td>0.015348</td>\n",
       "      <td>0.133761</td>\n",
       "      <td>0.028277</td>\n",
       "      <td>0.051675</td>\n",
       "      <td>-0.031826</td>\n",
       "      <td>...</td>\n",
       "      <td>0.078214</td>\n",
       "      <td>-0.039324</td>\n",
       "      <td>1.000000</td>\n",
       "      <td>0.707278</td>\n",
       "      <td>0.691811</td>\n",
       "      <td>0.532837</td>\n",
       "      <td>-0.031385</td>\n",
       "      <td>-0.005950</td>\n",
       "      <td>-0.039367</td>\n",
       "      <td>-0.013955</td>\n",
       "    </tr>\n",
       "    <tr>\n",
       "      <th>PHOS_FIRE_EXHAUST_HEAT1</th>\n",
       "      <td>0.006705</td>\n",
       "      <td>0.006117</td>\n",
       "      <td>0.007187</td>\n",
       "      <td>0.006136</td>\n",
       "      <td>-0.004032</td>\n",
       "      <td>-0.015258</td>\n",
       "      <td>-0.010150</td>\n",
       "      <td>0.000734</td>\n",
       "      <td>0.007384</td>\n",
       "      <td>0.011300</td>\n",
       "      <td>...</td>\n",
       "      <td>0.038507</td>\n",
       "      <td>0.002024</td>\n",
       "      <td>-0.031385</td>\n",
       "      <td>-0.051767</td>\n",
       "      <td>-0.039523</td>\n",
       "      <td>-0.018385</td>\n",
       "      <td>1.000000</td>\n",
       "      <td>-0.691478</td>\n",
       "      <td>-0.010673</td>\n",
       "      <td>-0.780079</td>\n",
       "    </tr>\n",
       "  </tbody>\n",
       "</table>\n",
       "<p>24 rows × 96 columns</p>\n",
       "</div>"
      ],
      "text/plain": [
       "                             BLACK_RTD_TEMP_GLASS_START  \\\n",
       "BLACK_RTD_TEMP_GLASS_START                     1.000000   \n",
       "BLACK_RTD_PRES_START                           0.014242   \n",
       "BLACK_RTD_TEMP_HOOD_MAX                        0.245748   \n",
       "AG_RTD_TEMP_WALL_MAX                          -0.022566   \n",
       "AG_RTD_TEMP_HOOD_START                        -0.667801   \n",
       "BUS_DEVELOP_TEMP_OVEN2                        -0.001538   \n",
       "BUS_DEVELOP_PH_TANK1 2                        -0.104428   \n",
       "BUS_DEVELOP_PRES1                                   NaN   \n",
       "BUS_FIRE_TEMP_HEAT1_CH02                       0.078428   \n",
       "BUS_FIRE_TEMP_HEAT2_CH03                       0.051115   \n",
       "BUS_FIRE_TEMP_ANEAL_CH01                      -0.020788   \n",
       "DIELEC_FIRE_TEMP_HEAT1_CH02                    0.025376   \n",
       "DIELEC_FIRE_TEMP_HEAT2_CH03                    0.012321   \n",
       "DIELEC_FIRE_TEMP_ANEAL_CH01                    0.042666   \n",
       "DIELEC_FIRE_EXHAUST_HEAT2                      0.031347   \n",
       "DIELEC_FIRE_EXHAUST_HEAT6                      0.038705   \n",
       "PHOS_R_DRY_TEMP_WALL_START                     0.015643   \n",
       "PHOS_R_DRY_TEMP_GLASS_OUT                     -0.019978   \n",
       "PHOS_G_DRY_TEMP_GLASS_END                     -0.047176   \n",
       "PHOS_G_DRY_PRES_END                            0.221659   \n",
       "PHOS_FIRE_TEMP_HEAT_CH01                      -0.003280   \n",
       "PHOS_FIRE_TEMP_KEEP_CH01                       0.004920   \n",
       "PHOS_FIRE_TEMP_ANEAL_CH01                     -0.011952   \n",
       "PHOS_FIRE_EXHAUST_HEAT1                        0.006705   \n",
       "\n",
       "                             BLACK_RTD_TEMP_GLASS_END  \\\n",
       "BLACK_RTD_TEMP_GLASS_START                   0.000416   \n",
       "BLACK_RTD_PRES_START                         0.043666   \n",
       "BLACK_RTD_TEMP_HOOD_MAX                      0.090149   \n",
       "AG_RTD_TEMP_WALL_MAX                        -0.005773   \n",
       "AG_RTD_TEMP_HOOD_START                      -0.029062   \n",
       "BUS_DEVELOP_TEMP_OVEN2                       0.012841   \n",
       "BUS_DEVELOP_PH_TANK1 2                      -0.076035   \n",
       "BUS_DEVELOP_PRES1                                 NaN   \n",
       "BUS_FIRE_TEMP_HEAT1_CH02                     0.040287   \n",
       "BUS_FIRE_TEMP_HEAT2_CH03                     0.057310   \n",
       "BUS_FIRE_TEMP_ANEAL_CH01                     0.041928   \n",
       "DIELEC_FIRE_TEMP_HEAT1_CH02                 -0.005182   \n",
       "DIELEC_FIRE_TEMP_HEAT2_CH03                  0.057439   \n",
       "DIELEC_FIRE_TEMP_ANEAL_CH01                 -0.016264   \n",
       "DIELEC_FIRE_EXHAUST_HEAT2                    0.043517   \n",
       "DIELEC_FIRE_EXHAUST_HEAT6                    0.011797   \n",
       "PHOS_R_DRY_TEMP_WALL_START                   0.050782   \n",
       "PHOS_R_DRY_TEMP_GLASS_OUT                   -0.013155   \n",
       "PHOS_G_DRY_TEMP_GLASS_END                    0.008139   \n",
       "PHOS_G_DRY_PRES_END                         -0.002729   \n",
       "PHOS_FIRE_TEMP_HEAT_CH01                     0.052434   \n",
       "PHOS_FIRE_TEMP_KEEP_CH01                    -0.110869   \n",
       "PHOS_FIRE_TEMP_ANEAL_CH01                   -0.013920   \n",
       "PHOS_FIRE_EXHAUST_HEAT1                      0.006117   \n",
       "\n",
       "                             BLACK_RTD_TEMP_WALL_START  \\\n",
       "BLACK_RTD_TEMP_GLASS_START                    0.562309   \n",
       "BLACK_RTD_PRES_START                          0.026856   \n",
       "BLACK_RTD_TEMP_HOOD_MAX                       0.582435   \n",
       "AG_RTD_TEMP_WALL_MAX                          0.046328   \n",
       "AG_RTD_TEMP_HOOD_START                       -0.407152   \n",
       "BUS_DEVELOP_TEMP_OVEN2                        0.044825   \n",
       "BUS_DEVELOP_PH_TANK1 2                       -0.059340   \n",
       "BUS_DEVELOP_PRES1                                  NaN   \n",
       "BUS_FIRE_TEMP_HEAT1_CH02                      0.038140   \n",
       "BUS_FIRE_TEMP_HEAT2_CH03                     -0.026444   \n",
       "BUS_FIRE_TEMP_ANEAL_CH01                      0.031863   \n",
       "DIELEC_FIRE_TEMP_HEAT1_CH02                   0.042840   \n",
       "DIELEC_FIRE_TEMP_HEAT2_CH03                   0.027766   \n",
       "DIELEC_FIRE_TEMP_ANEAL_CH01                  -0.040739   \n",
       "DIELEC_FIRE_EXHAUST_HEAT2                    -0.019610   \n",
       "DIELEC_FIRE_EXHAUST_HEAT6                     0.010114   \n",
       "PHOS_R_DRY_TEMP_WALL_START                    0.040371   \n",
       "PHOS_R_DRY_TEMP_GLASS_OUT                     0.045783   \n",
       "PHOS_G_DRY_TEMP_GLASS_END                    -0.050255   \n",
       "PHOS_G_DRY_PRES_END                           0.100236   \n",
       "PHOS_FIRE_TEMP_HEAT_CH01                      0.004604   \n",
       "PHOS_FIRE_TEMP_KEEP_CH01                     -0.059577   \n",
       "PHOS_FIRE_TEMP_ANEAL_CH01                     0.065515   \n",
       "PHOS_FIRE_EXHAUST_HEAT1                       0.007187   \n",
       "\n",
       "                             BLACK_RTD_TEMP_WALL_MAX  BLACK_RTD_PRES_START  \\\n",
       "BLACK_RTD_TEMP_GLASS_START                  0.508248              0.014242   \n",
       "BLACK_RTD_PRES_START                       -0.050732              1.000000   \n",
       "BLACK_RTD_TEMP_HOOD_MAX                     0.457404              0.055888   \n",
       "AG_RTD_TEMP_WALL_MAX                        0.000427             -0.049702   \n",
       "AG_RTD_TEMP_HOOD_START                     -0.428998             -0.031155   \n",
       "BUS_DEVELOP_TEMP_OVEN2                      0.067302             -0.010015   \n",
       "BUS_DEVELOP_PH_TANK1 2                     -0.068796             -0.095947   \n",
       "BUS_DEVELOP_PRES1                                NaN                   NaN   \n",
       "BUS_FIRE_TEMP_HEAT1_CH02                    0.021987              0.046453   \n",
       "BUS_FIRE_TEMP_HEAT2_CH03                   -0.009177              0.058267   \n",
       "BUS_FIRE_TEMP_ANEAL_CH01                    0.044508             -0.028553   \n",
       "DIELEC_FIRE_TEMP_HEAT1_CH02                 0.113947              0.023237   \n",
       "DIELEC_FIRE_TEMP_HEAT2_CH03                -0.021095             -0.024226   \n",
       "DIELEC_FIRE_TEMP_ANEAL_CH01                -0.008167              0.011546   \n",
       "DIELEC_FIRE_EXHAUST_HEAT2                  -0.028025             -0.020987   \n",
       "DIELEC_FIRE_EXHAUST_HEAT6                   0.013757              0.042791   \n",
       "PHOS_R_DRY_TEMP_WALL_START                  0.045120              0.026469   \n",
       "PHOS_R_DRY_TEMP_GLASS_OUT                   0.029392             -0.002805   \n",
       "PHOS_G_DRY_TEMP_GLASS_END                  -0.041516             -0.064395   \n",
       "PHOS_G_DRY_PRES_END                         0.094176             -0.049969   \n",
       "PHOS_FIRE_TEMP_HEAT_CH01                    0.019888             -0.009544   \n",
       "PHOS_FIRE_TEMP_KEEP_CH01                   -0.015287             -0.000547   \n",
       "PHOS_FIRE_TEMP_ANEAL_CH01                   0.019920              0.029649   \n",
       "PHOS_FIRE_EXHAUST_HEAT1                     0.006136             -0.004032   \n",
       "\n",
       "                             BLACK_RTD_PRES_END  BLACK_RTD_TEMP_GLASS_OUT  \\\n",
       "BLACK_RTD_TEMP_GLASS_START            -0.390948                 -0.126611   \n",
       "BLACK_RTD_PRES_START                  -0.179370                 -0.117915   \n",
       "BLACK_RTD_TEMP_HOOD_MAX               -0.004361                 -0.011728   \n",
       "AG_RTD_TEMP_WALL_MAX                  -0.085319                 -0.040379   \n",
       "AG_RTD_TEMP_HOOD_START                 0.245233                 -0.067868   \n",
       "BUS_DEVELOP_TEMP_OVEN2                -0.005235                  0.043450   \n",
       "BUS_DEVELOP_PH_TANK1 2                 0.034412                  0.064452   \n",
       "BUS_DEVELOP_PRES1                           NaN                       NaN   \n",
       "BUS_FIRE_TEMP_HEAT1_CH02              -0.014014                  0.036859   \n",
       "BUS_FIRE_TEMP_HEAT2_CH03               0.011890                  0.015845   \n",
       "BUS_FIRE_TEMP_ANEAL_CH01               0.009026                  0.094019   \n",
       "DIELEC_FIRE_TEMP_HEAT1_CH02           -0.062699                  0.021644   \n",
       "DIELEC_FIRE_TEMP_HEAT2_CH03            0.003000                 -0.016437   \n",
       "DIELEC_FIRE_TEMP_ANEAL_CH01           -0.057472                  0.008759   \n",
       "DIELEC_FIRE_EXHAUST_HEAT2              0.023307                  0.006837   \n",
       "DIELEC_FIRE_EXHAUST_HEAT6              0.000340                 -0.089861   \n",
       "PHOS_R_DRY_TEMP_WALL_START            -0.022524                  0.009054   \n",
       "PHOS_R_DRY_TEMP_GLASS_OUT             -0.043634                 -0.001179   \n",
       "PHOS_G_DRY_TEMP_GLASS_END              0.006392                  0.033871   \n",
       "PHOS_G_DRY_PRES_END                   -0.025711                 -0.026663   \n",
       "PHOS_FIRE_TEMP_HEAT_CH01               0.055664                  0.023215   \n",
       "PHOS_FIRE_TEMP_KEEP_CH01              -0.067503                 -0.056005   \n",
       "PHOS_FIRE_TEMP_ANEAL_CH01              0.015348                  0.133761   \n",
       "PHOS_FIRE_EXHAUST_HEAT1               -0.015258                 -0.010150   \n",
       "\n",
       "                             BLACK_RTD_TEMP_HOOD_START  \\\n",
       "BLACK_RTD_TEMP_GLASS_START                    0.348381   \n",
       "BLACK_RTD_PRES_START                          0.091663   \n",
       "BLACK_RTD_TEMP_HOOD_MAX                       0.886664   \n",
       "AG_RTD_TEMP_WALL_MAX                         -0.056613   \n",
       "AG_RTD_TEMP_HOOD_START                       -0.200515   \n",
       "BUS_DEVELOP_TEMP_OVEN2                        0.034180   \n",
       "BUS_DEVELOP_PH_TANK1 2                       -0.022713   \n",
       "BUS_DEVELOP_PRES1                                  NaN   \n",
       "BUS_FIRE_TEMP_HEAT1_CH02                     -0.006207   \n",
       "BUS_FIRE_TEMP_HEAT2_CH03                     -0.066393   \n",
       "BUS_FIRE_TEMP_ANEAL_CH01                      0.031770   \n",
       "DIELEC_FIRE_TEMP_HEAT1_CH02                   0.002237   \n",
       "DIELEC_FIRE_TEMP_HEAT2_CH03                  -0.008838   \n",
       "DIELEC_FIRE_TEMP_ANEAL_CH01                  -0.067667   \n",
       "DIELEC_FIRE_EXHAUST_HEAT2                    -0.052320   \n",
       "DIELEC_FIRE_EXHAUST_HEAT6                     0.006219   \n",
       "PHOS_R_DRY_TEMP_WALL_START                   -0.001626   \n",
       "PHOS_R_DRY_TEMP_GLASS_OUT                     0.045788   \n",
       "PHOS_G_DRY_TEMP_GLASS_END                    -0.062174   \n",
       "PHOS_G_DRY_PRES_END                           0.049313   \n",
       "PHOS_FIRE_TEMP_HEAT_CH01                     -0.014865   \n",
       "PHOS_FIRE_TEMP_KEEP_CH01                     -0.074839   \n",
       "PHOS_FIRE_TEMP_ANEAL_CH01                     0.028277   \n",
       "PHOS_FIRE_EXHAUST_HEAT1                       0.000734   \n",
       "\n",
       "                             BLACK_RTD_TEMP_HOOD_MAX  AG_RTD_TEMP_GLASS_START  \\\n",
       "BLACK_RTD_TEMP_GLASS_START                  0.245748                 0.613877   \n",
       "BLACK_RTD_PRES_START                        0.055888                 0.052283   \n",
       "BLACK_RTD_TEMP_HOOD_MAX                     1.000000                 0.145467   \n",
       "AG_RTD_TEMP_WALL_MAX                       -0.060357                -0.084899   \n",
       "AG_RTD_TEMP_HOOD_START                     -0.140553                -0.419670   \n",
       "BUS_DEVELOP_TEMP_OVEN2                     -0.003235                 0.031400   \n",
       "BUS_DEVELOP_PH_TANK1 2                     -0.011063                -0.081454   \n",
       "BUS_DEVELOP_PRES1                                NaN                      NaN   \n",
       "BUS_FIRE_TEMP_HEAT1_CH02                   -0.015448                 0.025285   \n",
       "BUS_FIRE_TEMP_HEAT2_CH03                   -0.083101                 0.085830   \n",
       "BUS_FIRE_TEMP_ANEAL_CH01                    0.037117                -0.055912   \n",
       "DIELEC_FIRE_TEMP_HEAT1_CH02                -0.041494                 0.028014   \n",
       "DIELEC_FIRE_TEMP_HEAT2_CH03                 0.051689                -0.043088   \n",
       "DIELEC_FIRE_TEMP_ANEAL_CH01                -0.071928                 0.009971   \n",
       "DIELEC_FIRE_EXHAUST_HEAT2                  -0.036447                 0.064709   \n",
       "DIELEC_FIRE_EXHAUST_HEAT6                   0.007588                 0.061253   \n",
       "PHOS_R_DRY_TEMP_WALL_START                 -0.021053                 0.037633   \n",
       "PHOS_R_DRY_TEMP_GLASS_OUT                   0.049077                -0.042735   \n",
       "PHOS_G_DRY_TEMP_GLASS_END                  -0.025854                -0.072718   \n",
       "PHOS_G_DRY_PRES_END                         0.042683                 0.174516   \n",
       "PHOS_FIRE_TEMP_HEAT_CH01                   -0.015370                -0.001480   \n",
       "PHOS_FIRE_TEMP_KEEP_CH01                   -0.089754                -0.021946   \n",
       "PHOS_FIRE_TEMP_ANEAL_CH01                   0.051675                -0.031826   \n",
       "PHOS_FIRE_EXHAUST_HEAT1                     0.007384                 0.011300   \n",
       "\n",
       "                             ...  PHOS_FIRE_TEMP_KEEP_CH03  \\\n",
       "BLACK_RTD_TEMP_GLASS_START   ...                  0.047039   \n",
       "BLACK_RTD_PRES_START         ...                  0.044332   \n",
       "BLACK_RTD_TEMP_HOOD_MAX      ...                 -0.073963   \n",
       "AG_RTD_TEMP_WALL_MAX         ...                  0.010855   \n",
       "AG_RTD_TEMP_HOOD_START       ...                 -0.052477   \n",
       "BUS_DEVELOP_TEMP_OVEN2       ...                  0.093743   \n",
       "BUS_DEVELOP_PH_TANK1 2       ...                  0.009140   \n",
       "BUS_DEVELOP_PRES1            ...                       NaN   \n",
       "BUS_FIRE_TEMP_HEAT1_CH02     ...                  0.002315   \n",
       "BUS_FIRE_TEMP_HEAT2_CH03     ...                  0.026541   \n",
       "BUS_FIRE_TEMP_ANEAL_CH01     ...                  0.005199   \n",
       "DIELEC_FIRE_TEMP_HEAT1_CH02  ...                  0.010258   \n",
       "DIELEC_FIRE_TEMP_HEAT2_CH03  ...                  0.075072   \n",
       "DIELEC_FIRE_TEMP_ANEAL_CH01  ...                  0.058698   \n",
       "DIELEC_FIRE_EXHAUST_HEAT2    ...                  0.018145   \n",
       "DIELEC_FIRE_EXHAUST_HEAT6    ...                 -0.006235   \n",
       "PHOS_R_DRY_TEMP_WALL_START   ...                  0.016029   \n",
       "PHOS_R_DRY_TEMP_GLASS_OUT    ...                  0.040052   \n",
       "PHOS_G_DRY_TEMP_GLASS_END    ...                 -0.024643   \n",
       "PHOS_G_DRY_PRES_END          ...                 -0.006132   \n",
       "PHOS_FIRE_TEMP_HEAT_CH01     ...                 -0.073159   \n",
       "PHOS_FIRE_TEMP_KEEP_CH01     ...                  0.383879   \n",
       "PHOS_FIRE_TEMP_ANEAL_CH01    ...                  0.078214   \n",
       "PHOS_FIRE_EXHAUST_HEAT1      ...                  0.038507   \n",
       "\n",
       "                             PHOS_FIRE_TEMP_KEEP_CH04  \\\n",
       "BLACK_RTD_TEMP_GLASS_START                   0.039648   \n",
       "BLACK_RTD_PRES_START                        -0.015406   \n",
       "BLACK_RTD_TEMP_HOOD_MAX                     -0.034771   \n",
       "AG_RTD_TEMP_WALL_MAX                         0.004996   \n",
       "AG_RTD_TEMP_HOOD_START                      -0.036973   \n",
       "BUS_DEVELOP_TEMP_OVEN2                       0.124699   \n",
       "BUS_DEVELOP_PH_TANK1 2                       0.018121   \n",
       "BUS_DEVELOP_PRES1                                 NaN   \n",
       "BUS_FIRE_TEMP_HEAT1_CH02                     0.002751   \n",
       "BUS_FIRE_TEMP_HEAT2_CH03                    -0.020997   \n",
       "BUS_FIRE_TEMP_ANEAL_CH01                     0.007703   \n",
       "DIELEC_FIRE_TEMP_HEAT1_CH02                 -0.005595   \n",
       "DIELEC_FIRE_TEMP_HEAT2_CH03                  0.059009   \n",
       "DIELEC_FIRE_TEMP_ANEAL_CH01                  0.040280   \n",
       "DIELEC_FIRE_EXHAUST_HEAT2                    0.055568   \n",
       "DIELEC_FIRE_EXHAUST_HEAT6                    0.000627   \n",
       "PHOS_R_DRY_TEMP_WALL_START                   0.059572   \n",
       "PHOS_R_DRY_TEMP_GLASS_OUT                    0.071656   \n",
       "PHOS_G_DRY_TEMP_GLASS_END                    0.032485   \n",
       "PHOS_G_DRY_PRES_END                          0.057182   \n",
       "PHOS_FIRE_TEMP_HEAT_CH01                    -0.013689   \n",
       "PHOS_FIRE_TEMP_KEEP_CH01                     0.103850   \n",
       "PHOS_FIRE_TEMP_ANEAL_CH01                   -0.039324   \n",
       "PHOS_FIRE_EXHAUST_HEAT1                      0.002024   \n",
       "\n",
       "                             PHOS_FIRE_TEMP_ANEAL_CH01  \\\n",
       "BLACK_RTD_TEMP_GLASS_START                   -0.011952   \n",
       "BLACK_RTD_PRES_START                          0.029649   \n",
       "BLACK_RTD_TEMP_HOOD_MAX                       0.051675   \n",
       "AG_RTD_TEMP_WALL_MAX                         -0.094073   \n",
       "AG_RTD_TEMP_HOOD_START                       -0.066740   \n",
       "BUS_DEVELOP_TEMP_OVEN2                        0.043412   \n",
       "BUS_DEVELOP_PH_TANK1 2                        0.023933   \n",
       "BUS_DEVELOP_PRES1                                  NaN   \n",
       "BUS_FIRE_TEMP_HEAT1_CH02                      0.007193   \n",
       "BUS_FIRE_TEMP_HEAT2_CH03                     -0.026182   \n",
       "BUS_FIRE_TEMP_ANEAL_CH01                     -0.001157   \n",
       "DIELEC_FIRE_TEMP_HEAT1_CH02                   0.004781   \n",
       "DIELEC_FIRE_TEMP_HEAT2_CH03                  -0.056793   \n",
       "DIELEC_FIRE_TEMP_ANEAL_CH01                  -0.016036   \n",
       "DIELEC_FIRE_EXHAUST_HEAT2                    -0.006390   \n",
       "DIELEC_FIRE_EXHAUST_HEAT6                    -0.031357   \n",
       "PHOS_R_DRY_TEMP_WALL_START                   -0.025420   \n",
       "PHOS_R_DRY_TEMP_GLASS_OUT                    -0.146007   \n",
       "PHOS_G_DRY_TEMP_GLASS_END                    -0.036616   \n",
       "PHOS_G_DRY_PRES_END                           0.062926   \n",
       "PHOS_FIRE_TEMP_HEAT_CH01                      0.136370   \n",
       "PHOS_FIRE_TEMP_KEEP_CH01                     -0.310863   \n",
       "PHOS_FIRE_TEMP_ANEAL_CH01                     1.000000   \n",
       "PHOS_FIRE_EXHAUST_HEAT1                      -0.031385   \n",
       "\n",
       "                             PHOS_FIRE_TEMP_ANEAL_CH02  \\\n",
       "BLACK_RTD_TEMP_GLASS_START                   -0.068145   \n",
       "BLACK_RTD_PRES_START                          0.042269   \n",
       "BLACK_RTD_TEMP_HOOD_MAX                       0.084973   \n",
       "AG_RTD_TEMP_WALL_MAX                         -0.059543   \n",
       "AG_RTD_TEMP_HOOD_START                        0.006130   \n",
       "BUS_DEVELOP_TEMP_OVEN2                       -0.020039   \n",
       "BUS_DEVELOP_PH_TANK1 2                        0.041842   \n",
       "BUS_DEVELOP_PRES1                                  NaN   \n",
       "BUS_FIRE_TEMP_HEAT1_CH02                      0.014577   \n",
       "BUS_FIRE_TEMP_HEAT2_CH03                     -0.079104   \n",
       "BUS_FIRE_TEMP_ANEAL_CH01                      0.032759   \n",
       "DIELEC_FIRE_TEMP_HEAT1_CH02                   0.039389   \n",
       "DIELEC_FIRE_TEMP_HEAT2_CH03                  -0.055654   \n",
       "DIELEC_FIRE_TEMP_ANEAL_CH01                  -0.032124   \n",
       "DIELEC_FIRE_EXHAUST_HEAT2                    -0.021841   \n",
       "DIELEC_FIRE_EXHAUST_HEAT6                    -0.040838   \n",
       "PHOS_R_DRY_TEMP_WALL_START                    0.004669   \n",
       "PHOS_R_DRY_TEMP_GLASS_OUT                    -0.029555   \n",
       "PHOS_G_DRY_TEMP_GLASS_END                    -0.028857   \n",
       "PHOS_G_DRY_PRES_END                          -0.029719   \n",
       "PHOS_FIRE_TEMP_HEAT_CH01                      0.048850   \n",
       "PHOS_FIRE_TEMP_KEEP_CH01                     -0.335806   \n",
       "PHOS_FIRE_TEMP_ANEAL_CH01                     0.707278   \n",
       "PHOS_FIRE_EXHAUST_HEAT1                      -0.051767   \n",
       "\n",
       "                             PHOS_FIRE_TEMP_ANEAL_CH03  \\\n",
       "BLACK_RTD_TEMP_GLASS_START                   -0.045891   \n",
       "BLACK_RTD_PRES_START                          0.076527   \n",
       "BLACK_RTD_TEMP_HOOD_MAX                       0.084120   \n",
       "AG_RTD_TEMP_WALL_MAX                         -0.063817   \n",
       "AG_RTD_TEMP_HOOD_START                       -0.022482   \n",
       "BUS_DEVELOP_TEMP_OVEN2                       -0.039487   \n",
       "BUS_DEVELOP_PH_TANK1 2                        0.028104   \n",
       "BUS_DEVELOP_PRES1                                  NaN   \n",
       "BUS_FIRE_TEMP_HEAT1_CH02                      0.011573   \n",
       "BUS_FIRE_TEMP_HEAT2_CH03                     -0.073362   \n",
       "BUS_FIRE_TEMP_ANEAL_CH01                      0.031779   \n",
       "DIELEC_FIRE_TEMP_HEAT1_CH02                   0.026326   \n",
       "DIELEC_FIRE_TEMP_HEAT2_CH03                  -0.063267   \n",
       "DIELEC_FIRE_TEMP_ANEAL_CH01                  -0.010846   \n",
       "DIELEC_FIRE_EXHAUST_HEAT2                    -0.024169   \n",
       "DIELEC_FIRE_EXHAUST_HEAT6                    -0.070838   \n",
       "PHOS_R_DRY_TEMP_WALL_START                   -0.005991   \n",
       "PHOS_R_DRY_TEMP_GLASS_OUT                    -0.059283   \n",
       "PHOS_G_DRY_TEMP_GLASS_END                    -0.033870   \n",
       "PHOS_G_DRY_PRES_END                          -0.014588   \n",
       "PHOS_FIRE_TEMP_HEAT_CH01                      0.033651   \n",
       "PHOS_FIRE_TEMP_KEEP_CH01                     -0.402056   \n",
       "PHOS_FIRE_TEMP_ANEAL_CH01                     0.691811   \n",
       "PHOS_FIRE_EXHAUST_HEAT1                      -0.039523   \n",
       "\n",
       "                             PHOS_FIRE_TEMP_ANEAL_CH04  \\\n",
       "BLACK_RTD_TEMP_GLASS_START                   -0.032811   \n",
       "BLACK_RTD_PRES_START                          0.086232   \n",
       "BLACK_RTD_TEMP_HOOD_MAX                       0.076390   \n",
       "AG_RTD_TEMP_WALL_MAX                         -0.076382   \n",
       "AG_RTD_TEMP_HOOD_START                       -0.007540   \n",
       "BUS_DEVELOP_TEMP_OVEN2                       -0.090393   \n",
       "BUS_DEVELOP_PH_TANK1 2                        0.000350   \n",
       "BUS_DEVELOP_PRES1                                  NaN   \n",
       "BUS_FIRE_TEMP_HEAT1_CH02                      0.008055   \n",
       "BUS_FIRE_TEMP_HEAT2_CH03                     -0.075335   \n",
       "BUS_FIRE_TEMP_ANEAL_CH01                      0.017677   \n",
       "DIELEC_FIRE_TEMP_HEAT1_CH02                   0.073650   \n",
       "DIELEC_FIRE_TEMP_HEAT2_CH03                  -0.081499   \n",
       "DIELEC_FIRE_TEMP_ANEAL_CH01                  -0.028714   \n",
       "DIELEC_FIRE_EXHAUST_HEAT2                    -0.009681   \n",
       "DIELEC_FIRE_EXHAUST_HEAT6                    -0.071187   \n",
       "PHOS_R_DRY_TEMP_WALL_START                    0.004340   \n",
       "PHOS_R_DRY_TEMP_GLASS_OUT                    -0.048141   \n",
       "PHOS_G_DRY_TEMP_GLASS_END                    -0.026095   \n",
       "PHOS_G_DRY_PRES_END                          -0.019277   \n",
       "PHOS_FIRE_TEMP_HEAT_CH01                     -0.009966   \n",
       "PHOS_FIRE_TEMP_KEEP_CH01                     -0.412564   \n",
       "PHOS_FIRE_TEMP_ANEAL_CH01                     0.532837   \n",
       "PHOS_FIRE_EXHAUST_HEAT1                      -0.018385   \n",
       "\n",
       "                             PHOS_FIRE_EXHAUST_HEAT1  PHOS_FIRE_EXHAUST_HEAT2  \\\n",
       "BLACK_RTD_TEMP_GLASS_START                  0.006705                 0.080207   \n",
       "BLACK_RTD_PRES_START                       -0.004032                 0.018638   \n",
       "BLACK_RTD_TEMP_HOOD_MAX                     0.007384                 0.001565   \n",
       "AG_RTD_TEMP_WALL_MAX                        0.001192                -0.056520   \n",
       "AG_RTD_TEMP_HOOD_START                     -0.018395                -0.049099   \n",
       "BUS_DEVELOP_TEMP_OVEN2                      0.005442                 0.049627   \n",
       "BUS_DEVELOP_PH_TANK1 2                     -0.015893                 0.042045   \n",
       "BUS_DEVELOP_PRES1                                NaN                      NaN   \n",
       "BUS_FIRE_TEMP_HEAT1_CH02                    0.003322                -0.021267   \n",
       "BUS_FIRE_TEMP_HEAT2_CH03                    0.002478                -0.031701   \n",
       "BUS_FIRE_TEMP_ANEAL_CH01                   -0.047100                 0.007311   \n",
       "DIELEC_FIRE_TEMP_HEAT1_CH02                -0.020250                 0.003721   \n",
       "DIELEC_FIRE_TEMP_HEAT2_CH03                -0.001678                 0.025181   \n",
       "DIELEC_FIRE_TEMP_ANEAL_CH01                -0.002130                 0.009564   \n",
       "DIELEC_FIRE_EXHAUST_HEAT2                   0.008921                 0.042587   \n",
       "DIELEC_FIRE_EXHAUST_HEAT6                   0.015087                 0.040274   \n",
       "PHOS_R_DRY_TEMP_WALL_START                 -0.019602                 0.032033   \n",
       "PHOS_R_DRY_TEMP_GLASS_OUT                  -0.028033                 0.095995   \n",
       "PHOS_G_DRY_TEMP_GLASS_END                   0.054987                -0.043280   \n",
       "PHOS_G_DRY_PRES_END                        -0.006317                 0.100887   \n",
       "PHOS_FIRE_TEMP_HEAT_CH01                    0.051753                -0.031228   \n",
       "PHOS_FIRE_TEMP_KEEP_CH01                    0.014142                 0.040548   \n",
       "PHOS_FIRE_TEMP_ANEAL_CH01                  -0.031385                -0.005950   \n",
       "PHOS_FIRE_EXHAUST_HEAT1                     1.000000                -0.691478   \n",
       "\n",
       "                             PHOS_FIRE_EXHAUST_HEAT3  PHOS_FIRE_EXHAUST_HEAT4  \n",
       "BLACK_RTD_TEMP_GLASS_START                  0.101788                 0.074182  \n",
       "BLACK_RTD_PRES_START                        0.062390                 0.046530  \n",
       "BLACK_RTD_TEMP_HOOD_MAX                    -0.010952                -0.015286  \n",
       "AG_RTD_TEMP_WALL_MAX                       -0.000549                -0.018197  \n",
       "AG_RTD_TEMP_HOOD_START                     -0.101813                -0.036657  \n",
       "BUS_DEVELOP_TEMP_OVEN2                     -0.022120                 0.014856  \n",
       "BUS_DEVELOP_PH_TANK1 2                     -0.000255                 0.020454  \n",
       "BUS_DEVELOP_PRES1                                NaN                      NaN  \n",
       "BUS_FIRE_TEMP_HEAT1_CH02                   -0.007420                -0.008246  \n",
       "BUS_FIRE_TEMP_HEAT2_CH03                    0.012311                -0.001549  \n",
       "BUS_FIRE_TEMP_ANEAL_CH01                   -0.025490                -0.027806  \n",
       "DIELEC_FIRE_TEMP_HEAT1_CH02                -0.010517                 0.059213  \n",
       "DIELEC_FIRE_TEMP_HEAT2_CH03                 0.018964                 0.016087  \n",
       "DIELEC_FIRE_TEMP_ANEAL_CH01                 0.001401                 0.020814  \n",
       "DIELEC_FIRE_EXHAUST_HEAT2                   0.063529                 0.004477  \n",
       "DIELEC_FIRE_EXHAUST_HEAT6                   0.051555                 0.038008  \n",
       "PHOS_R_DRY_TEMP_WALL_START                  0.055251                 0.058346  \n",
       "PHOS_R_DRY_TEMP_GLASS_OUT                   0.039844                 0.034352  \n",
       "PHOS_G_DRY_TEMP_GLASS_END                   0.020668                -0.027149  \n",
       "PHOS_G_DRY_PRES_END                         0.138496                 0.059710  \n",
       "PHOS_FIRE_TEMP_HEAT_CH01                    0.033720                -0.031758  \n",
       "PHOS_FIRE_TEMP_KEEP_CH01                    0.012370                 0.030596  \n",
       "PHOS_FIRE_TEMP_ANEAL_CH01                  -0.039367                -0.013955  \n",
       "PHOS_FIRE_EXHAUST_HEAT1                    -0.010673                -0.780079  \n",
       "\n",
       "[24 rows x 96 columns]"
      ]
     },
     "execution_count": 7,
     "metadata": {},
     "output_type": "execute_result"
    }
   ],
   "source": [
    "df_raw.corr()[::4]"
   ]
  },
  {
   "cell_type": "code",
   "execution_count": 8,
   "metadata": {},
   "outputs": [
    {
     "ename": "SyntaxError",
     "evalue": "invalid syntax (<ipython-input-8-a6a8717ec094>, line 1)",
     "output_type": "error",
     "traceback": [
      "\u001b[0;36m  File \u001b[0;32m\"<ipython-input-8-a6a8717ec094>\"\u001b[0;36m, line \u001b[0;32m1\u001b[0m\n\u001b[0;31m    df1 = pd.DataFrame({'SQ': [1:40001]})\u001b[0m\n\u001b[0m                                ^\u001b[0m\n\u001b[0;31mSyntaxError\u001b[0m\u001b[0;31m:\u001b[0m invalid syntax\n"
     ]
    }
   ],
   "source": [
    "df1 = pd.DataFrame({'SQ': [1:40001]})\n",
    "df1"
   ]
  },
  {
   "cell_type": "code",
   "execution_count": 28,
   "metadata": {},
   "outputs": [
    {
     "data": {
      "text/html": [
       "<div>\n",
       "<style scoped>\n",
       "    .dataframe tbody tr th:only-of-type {\n",
       "        vertical-align: middle;\n",
       "    }\n",
       "\n",
       "    .dataframe tbody tr th {\n",
       "        vertical-align: top;\n",
       "    }\n",
       "\n",
       "    .dataframe thead th {\n",
       "        text-align: right;\n",
       "    }\n",
       "</style>\n",
       "<table border=\"1\" class=\"dataframe\">\n",
       "  <thead>\n",
       "    <tr style=\"text-align: right;\">\n",
       "      <th></th>\n",
       "      <th>SQ</th>\n",
       "      <th>key</th>\n",
       "    </tr>\n",
       "  </thead>\n",
       "  <tbody>\n",
       "    <tr>\n",
       "      <th>0</th>\n",
       "      <td>1</td>\n",
       "      <td>1</td>\n",
       "    </tr>\n",
       "    <tr>\n",
       "      <th>1</th>\n",
       "      <td>2</td>\n",
       "      <td>2</td>\n",
       "    </tr>\n",
       "    <tr>\n",
       "      <th>2</th>\n",
       "      <td>3</td>\n",
       "      <td>3</td>\n",
       "    </tr>\n",
       "    <tr>\n",
       "      <th>3</th>\n",
       "      <td>4</td>\n",
       "      <td>4</td>\n",
       "    </tr>\n",
       "    <tr>\n",
       "      <th>4</th>\n",
       "      <td>5</td>\n",
       "      <td>5</td>\n",
       "    </tr>\n",
       "  </tbody>\n",
       "</table>\n",
       "</div>"
      ],
      "text/plain": [
       "   SQ  key\n",
       "0   1    1\n",
       "1   2    2\n",
       "2   3    3\n",
       "3   4    4\n",
       "4   5    5"
      ]
     },
     "execution_count": 28,
     "metadata": {},
     "output_type": "execute_result"
    }
   ],
   "source": [
    "df1 = pd.DataFrame()\n",
    "df1['SQ'] = np.arange(1,4001)\n",
    "df1['key'] = np.arange(1,4001)\n",
    "df1.head()"
   ]
  },
  {
   "cell_type": "code",
   "execution_count": 29,
   "metadata": {
    "scrolled": true
   },
   "outputs": [
    {
     "name": "stderr",
     "output_type": "stream",
     "text": [
      "/home/pirl/anaconda3/lib/python3.7/site-packages/ipykernel_launcher.py:2: SettingWithCopyWarning: \n",
      "A value is trying to be set on a copy of a slice from a DataFrame.\n",
      "Try using .loc[row_indexer,col_indexer] = value instead\n",
      "\n",
      "See the caveats in the documentation: http://pandas.pydata.org/pandas-docs/stable/user_guide/indexing.html#returning-a-view-versus-a-copy\n",
      "  \n"
     ]
    },
    {
     "data": {
      "text/html": [
       "<div>\n",
       "<style scoped>\n",
       "    .dataframe tbody tr th:only-of-type {\n",
       "        vertical-align: middle;\n",
       "    }\n",
       "\n",
       "    .dataframe tbody tr th {\n",
       "        vertical-align: top;\n",
       "    }\n",
       "\n",
       "    .dataframe thead th {\n",
       "        text-align: right;\n",
       "    }\n",
       "</style>\n",
       "<table border=\"1\" class=\"dataframe\">\n",
       "  <thead>\n",
       "    <tr style=\"text-align: right;\">\n",
       "      <th></th>\n",
       "      <th>BLACK_RTD_TEMP_GLASS_OUT</th>\n",
       "      <th>key</th>\n",
       "    </tr>\n",
       "  </thead>\n",
       "  <tbody>\n",
       "    <tr>\n",
       "      <th>0</th>\n",
       "      <td>58.9</td>\n",
       "      <td>1</td>\n",
       "    </tr>\n",
       "    <tr>\n",
       "      <th>1</th>\n",
       "      <td>59.0</td>\n",
       "      <td>2</td>\n",
       "    </tr>\n",
       "    <tr>\n",
       "      <th>2</th>\n",
       "      <td>58.7</td>\n",
       "      <td>3</td>\n",
       "    </tr>\n",
       "    <tr>\n",
       "      <th>3</th>\n",
       "      <td>58.8</td>\n",
       "      <td>4</td>\n",
       "    </tr>\n",
       "    <tr>\n",
       "      <th>4</th>\n",
       "      <td>57.3</td>\n",
       "      <td>5</td>\n",
       "    </tr>\n",
       "  </tbody>\n",
       "</table>\n",
       "</div>"
      ],
      "text/plain": [
       "   BLACK_RTD_TEMP_GLASS_OUT  key\n",
       "0                      58.9    1\n",
       "1                      59.0    2\n",
       "2                      58.7    3\n",
       "3                      58.8    4\n",
       "4                      57.3    5"
      ]
     },
     "execution_count": 29,
     "metadata": {},
     "output_type": "execute_result"
    }
   ],
   "source": [
    "df_black = df_raw[['BLACK_RTD_TEMP_GLASS_OUT']]\n",
    "df_black['key'] = np.arange(1,4001)\n",
    "df_black.head()"
   ]
  },
  {
   "cell_type": "code",
   "execution_count": 33,
   "metadata": {},
   "outputs": [
    {
     "data": {
      "text/html": [
       "<div>\n",
       "<style scoped>\n",
       "    .dataframe tbody tr th:only-of-type {\n",
       "        vertical-align: middle;\n",
       "    }\n",
       "\n",
       "    .dataframe tbody tr th {\n",
       "        vertical-align: top;\n",
       "    }\n",
       "\n",
       "    .dataframe thead th {\n",
       "        text-align: right;\n",
       "    }\n",
       "</style>\n",
       "<table border=\"1\" class=\"dataframe\">\n",
       "  <thead>\n",
       "    <tr style=\"text-align: right;\">\n",
       "      <th></th>\n",
       "      <th>SQ</th>\n",
       "      <th>key</th>\n",
       "      <th>BLACK_RTD_TEMP_GLASS_OUT</th>\n",
       "    </tr>\n",
       "  </thead>\n",
       "  <tbody>\n",
       "    <tr>\n",
       "      <th>0</th>\n",
       "      <td>1</td>\n",
       "      <td>1</td>\n",
       "      <td>58.9</td>\n",
       "    </tr>\n",
       "    <tr>\n",
       "      <th>1</th>\n",
       "      <td>2</td>\n",
       "      <td>2</td>\n",
       "      <td>59.0</td>\n",
       "    </tr>\n",
       "    <tr>\n",
       "      <th>2</th>\n",
       "      <td>3</td>\n",
       "      <td>3</td>\n",
       "      <td>58.7</td>\n",
       "    </tr>\n",
       "    <tr>\n",
       "      <th>3</th>\n",
       "      <td>4</td>\n",
       "      <td>4</td>\n",
       "      <td>58.8</td>\n",
       "    </tr>\n",
       "    <tr>\n",
       "      <th>4</th>\n",
       "      <td>5</td>\n",
       "      <td>5</td>\n",
       "      <td>57.3</td>\n",
       "    </tr>\n",
       "  </tbody>\n",
       "</table>\n",
       "</div>"
      ],
      "text/plain": [
       "   SQ  key  BLACK_RTD_TEMP_GLASS_OUT\n",
       "0   1    1                      58.9\n",
       "1   2    2                      59.0\n",
       "2   3    3                      58.7\n",
       "3   4    4                      58.8\n",
       "4   5    5                      57.3"
      ]
     },
     "execution_count": 33,
     "metadata": {},
     "output_type": "execute_result"
    }
   ],
   "source": [
    "result = pd.merge(df1, df_black, on='key')\n",
    "result.head()"
   ]
  },
  {
   "cell_type": "code",
   "execution_count": 34,
   "metadata": {},
   "outputs": [
    {
     "data": {
      "image/png": "[encoded data removed]",
      "text/plain": [
       "<Figure size 360x360 with 1 Axes>"
      ]
     },
     "metadata": {},
     "output_type": "display_data"
    }
   ],
   "source": [
    "sns.set_style(\"darkgrid\")\n",
    "sns.lmplot(y= 'BLACK_RTD_TEMP_GLASS_OUT', x = \"SQ\", data = result[:100])\n",
    "plt.show()"
   ]
  },
  {
   "cell_type": "code",
   "execution_count": 35,
   "metadata": {},
   "outputs": [
    {
     "data": {
      "text/html": [
       "<div>\n",
       "<style scoped>\n",
       "    .dataframe tbody tr th:only-of-type {\n",
       "        vertical-align: middle;\n",
       "    }\n",
       "\n",
       "    .dataframe tbody tr th {\n",
       "        vertical-align: top;\n",
       "    }\n",
       "\n",
       "    .dataframe thead th {\n",
       "        text-align: right;\n",
       "    }\n",
       "</style>\n",
       "<table border=\"1\" class=\"dataframe\">\n",
       "  <thead>\n",
       "    <tr style=\"text-align: right;\">\n",
       "      <th></th>\n",
       "      <th>BLACK_RTD_TEMP_GLASS_OUT</th>\n",
       "      <th>AG_RTD_TEMP_GLASS_OUT</th>\n",
       "      <th>BLACK_RTD_TEMP_GLASS_END</th>\n",
       "      <th>PHOS_R_DRY_TEMP_GLASS_OUT</th>\n",
       "      <th>PHOS_R_DRY_TEMP_HOOD_MAX</th>\n",
       "      <th>DIELEC_FIRE_EXHAUST_HEAT3</th>\n",
       "    </tr>\n",
       "  </thead>\n",
       "  <tbody>\n",
       "    <tr>\n",
       "      <th>0</th>\n",
       "      <td>58.9</td>\n",
       "      <td>41.3</td>\n",
       "      <td>102.3</td>\n",
       "      <td>28.3</td>\n",
       "      <td>157.30</td>\n",
       "      <td>3168.0</td>\n",
       "    </tr>\n",
       "    <tr>\n",
       "      <th>1</th>\n",
       "      <td>59.0</td>\n",
       "      <td>45.6</td>\n",
       "      <td>101.6</td>\n",
       "      <td>26.7</td>\n",
       "      <td>155.70</td>\n",
       "      <td>2290.0</td>\n",
       "    </tr>\n",
       "    <tr>\n",
       "      <th>2</th>\n",
       "      <td>58.7</td>\n",
       "      <td>43.6</td>\n",
       "      <td>114.3</td>\n",
       "      <td>27.5</td>\n",
       "      <td>156.30</td>\n",
       "      <td>3194.0</td>\n",
       "    </tr>\n",
       "    <tr>\n",
       "      <th>3</th>\n",
       "      <td>58.8</td>\n",
       "      <td>45.1</td>\n",
       "      <td>115.0</td>\n",
       "      <td>26.5</td>\n",
       "      <td>150.34</td>\n",
       "      <td>3230.0</td>\n",
       "    </tr>\n",
       "    <tr>\n",
       "      <th>4</th>\n",
       "      <td>57.3</td>\n",
       "      <td>45.7</td>\n",
       "      <td>109.6</td>\n",
       "      <td>27.4</td>\n",
       "      <td>158.30</td>\n",
       "      <td>2330.0</td>\n",
       "    </tr>\n",
       "  </tbody>\n",
       "</table>\n",
       "</div>"
      ],
      "text/plain": [
       "   BLACK_RTD_TEMP_GLASS_OUT  AG_RTD_TEMP_GLASS_OUT  BLACK_RTD_TEMP_GLASS_END  \\\n",
       "0                      58.9                   41.3                     102.3   \n",
       "1                      59.0                   45.6                     101.6   \n",
       "2                      58.7                   43.6                     114.3   \n",
       "3                      58.8                   45.1                     115.0   \n",
       "4                      57.3                   45.7                     109.6   \n",
       "\n",
       "   PHOS_R_DRY_TEMP_GLASS_OUT  PHOS_R_DRY_TEMP_HOOD_MAX  \\\n",
       "0                       28.3                    157.30   \n",
       "1                       26.7                    155.70   \n",
       "2                       27.5                    156.30   \n",
       "3                       26.5                    150.34   \n",
       "4                       27.4                    158.30   \n",
       "\n",
       "   DIELEC_FIRE_EXHAUST_HEAT3  \n",
       "0                     3168.0  \n",
       "1                     2290.0  \n",
       "2                     3194.0  \n",
       "3                     3230.0  \n",
       "4                     2330.0  "
      ]
     },
     "execution_count": 35,
     "metadata": {},
     "output_type": "execute_result"
    }
   ],
   "source": [
    "df = df_raw[['BLACK_RTD_TEMP_GLASS_OUT','AG_RTD_TEMP_GLASS_OUT','BLACK_RTD_TEMP_GLASS_END', 'PHOS_R_DRY_TEMP_GLASS_OUT', 'PHOS_R_DRY_TEMP_HOOD_MAX', 'DIELEC_FIRE_EXHAUST_HEAT3']]\n",
    "df.head()"
   ]
  },
  {
   "cell_type": "code",
   "execution_count": 36,
   "metadata": {},
   "outputs": [
    {
     "name": "stderr",
     "output_type": "stream",
     "text": [
      "/home/pirl/anaconda3/lib/python3.7/site-packages/ipykernel_launcher.py:1: SettingWithCopyWarning: \n",
      "A value is trying to be set on a copy of a slice from a DataFrame.\n",
      "Try using .loc[row_indexer,col_indexer] = value instead\n",
      "\n",
      "See the caveats in the documentation: http://pandas.pydata.org/pandas-docs/stable/user_guide/indexing.html#returning-a-view-versus-a-copy\n",
      "  \"\"\"Entry point for launching an IPython kernel.\n"
     ]
    },
    {
     "data": {
      "text/html": [
       "<div>\n",
       "<style scoped>\n",
       "    .dataframe tbody tr th:only-of-type {\n",
       "        vertical-align: middle;\n",
       "    }\n",
       "\n",
       "    .dataframe tbody tr th {\n",
       "        vertical-align: top;\n",
       "    }\n",
       "\n",
       "    .dataframe thead th {\n",
       "        text-align: right;\n",
       "    }\n",
       "</style>\n",
       "<table border=\"1\" class=\"dataframe\">\n",
       "  <thead>\n",
       "    <tr style=\"text-align: right;\">\n",
       "      <th></th>\n",
       "      <th>BLACK_RTD_TEMP_GLASS_OUT</th>\n",
       "      <th>AG_RTD_TEMP_GLASS_OUT</th>\n",
       "      <th>BLACK_RTD_TEMP_GLASS_END</th>\n",
       "      <th>PHOS_R_DRY_TEMP_GLASS_OUT</th>\n",
       "      <th>PHOS_R_DRY_TEMP_HOOD_MAX</th>\n",
       "      <th>DIELEC_FIRE_EXHAUST_HEAT3</th>\n",
       "      <th>key</th>\n",
       "    </tr>\n",
       "  </thead>\n",
       "  <tbody>\n",
       "    <tr>\n",
       "      <th>0</th>\n",
       "      <td>58.9</td>\n",
       "      <td>41.3</td>\n",
       "      <td>102.3</td>\n",
       "      <td>28.3</td>\n",
       "      <td>157.30</td>\n",
       "      <td>3168.0</td>\n",
       "      <td>1</td>\n",
       "    </tr>\n",
       "    <tr>\n",
       "      <th>1</th>\n",
       "      <td>59.0</td>\n",
       "      <td>45.6</td>\n",
       "      <td>101.6</td>\n",
       "      <td>26.7</td>\n",
       "      <td>155.70</td>\n",
       "      <td>2290.0</td>\n",
       "      <td>2</td>\n",
       "    </tr>\n",
       "    <tr>\n",
       "      <th>2</th>\n",
       "      <td>58.7</td>\n",
       "      <td>43.6</td>\n",
       "      <td>114.3</td>\n",
       "      <td>27.5</td>\n",
       "      <td>156.30</td>\n",
       "      <td>3194.0</td>\n",
       "      <td>3</td>\n",
       "    </tr>\n",
       "    <tr>\n",
       "      <th>3</th>\n",
       "      <td>58.8</td>\n",
       "      <td>45.1</td>\n",
       "      <td>115.0</td>\n",
       "      <td>26.5</td>\n",
       "      <td>150.34</td>\n",
       "      <td>3230.0</td>\n",
       "      <td>4</td>\n",
       "    </tr>\n",
       "    <tr>\n",
       "      <th>4</th>\n",
       "      <td>57.3</td>\n",
       "      <td>45.7</td>\n",
       "      <td>109.6</td>\n",
       "      <td>27.4</td>\n",
       "      <td>158.30</td>\n",
       "      <td>2330.0</td>\n",
       "      <td>5</td>\n",
       "    </tr>\n",
       "  </tbody>\n",
       "</table>\n",
       "</div>"
      ],
      "text/plain": [
       "   BLACK_RTD_TEMP_GLASS_OUT  AG_RTD_TEMP_GLASS_OUT  BLACK_RTD_TEMP_GLASS_END  \\\n",
       "0                      58.9                   41.3                     102.3   \n",
       "1                      59.0                   45.6                     101.6   \n",
       "2                      58.7                   43.6                     114.3   \n",
       "3                      58.8                   45.1                     115.0   \n",
       "4                      57.3                   45.7                     109.6   \n",
       "\n",
       "   PHOS_R_DRY_TEMP_GLASS_OUT  PHOS_R_DRY_TEMP_HOOD_MAX  \\\n",
       "0                       28.3                    157.30   \n",
       "1                       26.7                    155.70   \n",
       "2                       27.5                    156.30   \n",
       "3                       26.5                    150.34   \n",
       "4                       27.4                    158.30   \n",
       "\n",
       "   DIELEC_FIRE_EXHAUST_HEAT3  key  \n",
       "0                     3168.0    1  \n",
       "1                     2290.0    2  \n",
       "2                     3194.0    3  \n",
       "3                     3230.0    4  \n",
       "4                     2330.0    5  "
      ]
     },
     "execution_count": 36,
     "metadata": {},
     "output_type": "execute_result"
    }
   ],
   "source": [
    "df['key'] = np.arange(1,4001)\n",
    "df.head()"
   ]
  },
  {
   "cell_type": "code",
   "execution_count": 37,
   "metadata": {},
   "outputs": [
    {
     "data": {
      "text/html": [
       "<div>\n",
       "<style scoped>\n",
       "    .dataframe tbody tr th:only-of-type {\n",
       "        vertical-align: middle;\n",
       "    }\n",
       "\n",
       "    .dataframe tbody tr th {\n",
       "        vertical-align: top;\n",
       "    }\n",
       "\n",
       "    .dataframe thead th {\n",
       "        text-align: right;\n",
       "    }\n",
       "</style>\n",
       "<table border=\"1\" class=\"dataframe\">\n",
       "  <thead>\n",
       "    <tr style=\"text-align: right;\">\n",
       "      <th></th>\n",
       "      <th>SQ</th>\n",
       "      <th>key</th>\n",
       "      <th>BLACK_RTD_TEMP_GLASS_OUT</th>\n",
       "      <th>AG_RTD_TEMP_GLASS_OUT</th>\n",
       "      <th>BLACK_RTD_TEMP_GLASS_END</th>\n",
       "      <th>PHOS_R_DRY_TEMP_GLASS_OUT</th>\n",
       "      <th>PHOS_R_DRY_TEMP_HOOD_MAX</th>\n",
       "      <th>DIELEC_FIRE_EXHAUST_HEAT3</th>\n",
       "    </tr>\n",
       "  </thead>\n",
       "  <tbody>\n",
       "    <tr>\n",
       "      <th>0</th>\n",
       "      <td>1</td>\n",
       "      <td>1</td>\n",
       "      <td>58.9</td>\n",
       "      <td>41.3</td>\n",
       "      <td>102.3</td>\n",
       "      <td>28.3</td>\n",
       "      <td>157.30</td>\n",
       "      <td>3168.0</td>\n",
       "    </tr>\n",
       "    <tr>\n",
       "      <th>1</th>\n",
       "      <td>2</td>\n",
       "      <td>2</td>\n",
       "      <td>59.0</td>\n",
       "      <td>45.6</td>\n",
       "      <td>101.6</td>\n",
       "      <td>26.7</td>\n",
       "      <td>155.70</td>\n",
       "      <td>2290.0</td>\n",
       "    </tr>\n",
       "    <tr>\n",
       "      <th>2</th>\n",
       "      <td>3</td>\n",
       "      <td>3</td>\n",
       "      <td>58.7</td>\n",
       "      <td>43.6</td>\n",
       "      <td>114.3</td>\n",
       "      <td>27.5</td>\n",
       "      <td>156.30</td>\n",
       "      <td>3194.0</td>\n",
       "    </tr>\n",
       "    <tr>\n",
       "      <th>3</th>\n",
       "      <td>4</td>\n",
       "      <td>4</td>\n",
       "      <td>58.8</td>\n",
       "      <td>45.1</td>\n",
       "      <td>115.0</td>\n",
       "      <td>26.5</td>\n",
       "      <td>150.34</td>\n",
       "      <td>3230.0</td>\n",
       "    </tr>\n",
       "    <tr>\n",
       "      <th>4</th>\n",
       "      <td>5</td>\n",
       "      <td>5</td>\n",
       "      <td>57.3</td>\n",
       "      <td>45.7</td>\n",
       "      <td>109.6</td>\n",
       "      <td>27.4</td>\n",
       "      <td>158.30</td>\n",
       "      <td>2330.0</td>\n",
       "    </tr>\n",
       "  </tbody>\n",
       "</table>\n",
       "</div>"
      ],
      "text/plain": [
       "   SQ  key  BLACK_RTD_TEMP_GLASS_OUT  AG_RTD_TEMP_GLASS_OUT  \\\n",
       "0   1    1                      58.9                   41.3   \n",
       "1   2    2                      59.0                   45.6   \n",
       "2   3    3                      58.7                   43.6   \n",
       "3   4    4                      58.8                   45.1   \n",
       "4   5    5                      57.3                   45.7   \n",
       "\n",
       "   BLACK_RTD_TEMP_GLASS_END  PHOS_R_DRY_TEMP_GLASS_OUT  \\\n",
       "0                     102.3                       28.3   \n",
       "1                     101.6                       26.7   \n",
       "2                     114.3                       27.5   \n",
       "3                     115.0                       26.5   \n",
       "4                     109.6                       27.4   \n",
       "\n",
       "   PHOS_R_DRY_TEMP_HOOD_MAX  DIELEC_FIRE_EXHAUST_HEAT3  \n",
       "0                    157.30                     3168.0  \n",
       "1                    155.70                     2290.0  \n",
       "2                    156.30                     3194.0  \n",
       "3                    150.34                     3230.0  \n",
       "4                    158.30                     2330.0  "
      ]
     },
     "execution_count": 37,
     "metadata": {},
     "output_type": "execute_result"
    }
   ],
   "source": [
    "result = pd.merge(df1, df, on='key')\n",
    "result.head()"
   ]
  },
  {
   "cell_type": "code",
   "execution_count": 40,
   "metadata": {},
   "outputs": [
    {
     "ename": "TypeError",
     "evalue": "'<' not supported between instances of 'list' and 'str'",
     "output_type": "error",
     "traceback": [
      "\u001b[0;31m---------------------------------------------------------------------------\u001b[0m",
      "\u001b[0;31mTypeError\u001b[0m                                 Traceback (most recent call last)",
      "\u001b[0;32m<ipython-input-40-0e09f63b10fb>\u001b[0m in \u001b[0;36m<module>\u001b[0;34m\u001b[0m\n\u001b[1;32m      1\u001b[0m \u001b[0msns\u001b[0m\u001b[0;34m.\u001b[0m\u001b[0mset_style\u001b[0m\u001b[0;34m(\u001b[0m\u001b[0;34m\"darkgrid\"\u001b[0m\u001b[0;34m)\u001b[0m\u001b[0;34m\u001b[0m\u001b[0;34m\u001b[0m\u001b[0m\n\u001b[0;32m----> 2\u001b[0;31m \u001b[0msns\u001b[0m\u001b[0;34m.\u001b[0m\u001b[0mlmplot\u001b[0m\u001b[0;34m(\u001b[0m\u001b[0my\u001b[0m \u001b[0;34m=\u001b[0m \u001b[0;34m[\u001b[0m\u001b[0;34m'BLACK_RTD_TEMP_GLASS_OUT'\u001b[0m\u001b[0;34m,\u001b[0m\u001b[0;34m'AG_RTD_TEMP_GLASS_OUT'\u001b[0m\u001b[0;34m,\u001b[0m\u001b[0;34m'BLACK_RTD_TEMP_GLASS_END'\u001b[0m\u001b[0;34m,\u001b[0m \u001b[0;34m'PHOS_R_DRY_TEMP_GLASS_OUT'\u001b[0m\u001b[0;34m,\u001b[0m \u001b[0;34m'PHOS_R_DRY_TEMP_HOOD_MAX'\u001b[0m\u001b[0;34m,\u001b[0m \u001b[0;34m'DIELEC_FIRE_EXHAUST_HEAT3'\u001b[0m\u001b[0;34m]\u001b[0m\u001b[0;34m,\u001b[0m \u001b[0mx\u001b[0m \u001b[0;34m=\u001b[0m \u001b[0;34m\"SQ\"\u001b[0m\u001b[0;34m,\u001b[0m \u001b[0mdata\u001b[0m \u001b[0;34m=\u001b[0m \u001b[0mresult\u001b[0m\u001b[0;34m[\u001b[0m\u001b[0;34m:\u001b[0m\u001b[0;36m100\u001b[0m\u001b[0;34m]\u001b[0m\u001b[0;34m)\u001b[0m\u001b[0;34m\u001b[0m\u001b[0;34m\u001b[0m\u001b[0m\n\u001b[0m\u001b[1;32m      3\u001b[0m \u001b[0mplt\u001b[0m\u001b[0;34m.\u001b[0m\u001b[0mshow\u001b[0m\u001b[0;34m(\u001b[0m\u001b[0;34m)\u001b[0m\u001b[0;34m\u001b[0m\u001b[0;34m\u001b[0m\u001b[0m\n",
      "\u001b[0;32m~/anaconda3/lib/python3.7/site-packages/seaborn/regression.py\u001b[0m in \u001b[0;36mlmplot\u001b[0;34m(x, y, data, hue, col, row, palette, col_wrap, height, aspect, markers, sharex, sharey, hue_order, col_order, row_order, legend, legend_out, x_estimator, x_bins, x_ci, scatter, fit_reg, ci, n_boot, units, order, logistic, lowess, robust, logx, x_partial, y_partial, truncate, x_jitter, y_jitter, scatter_kws, line_kws, size)\u001b[0m\n\u001b[1;32m    548\u001b[0m     \u001b[0;31m# Reduce the dataframe to only needed columns\u001b[0m\u001b[0;34m\u001b[0m\u001b[0;34m\u001b[0m\u001b[0;34m\u001b[0m\u001b[0m\n\u001b[1;32m    549\u001b[0m     \u001b[0mneed_cols\u001b[0m \u001b[0;34m=\u001b[0m \u001b[0;34m[\u001b[0m\u001b[0mx\u001b[0m\u001b[0;34m,\u001b[0m \u001b[0my\u001b[0m\u001b[0;34m,\u001b[0m \u001b[0mhue\u001b[0m\u001b[0;34m,\u001b[0m \u001b[0mcol\u001b[0m\u001b[0;34m,\u001b[0m \u001b[0mrow\u001b[0m\u001b[0;34m,\u001b[0m \u001b[0munits\u001b[0m\u001b[0;34m,\u001b[0m \u001b[0mx_partial\u001b[0m\u001b[0;34m,\u001b[0m \u001b[0my_partial\u001b[0m\u001b[0;34m]\u001b[0m\u001b[0;34m\u001b[0m\u001b[0;34m\u001b[0m\u001b[0m\n\u001b[0;32m--> 550\u001b[0;31m     \u001b[0mcols\u001b[0m \u001b[0;34m=\u001b[0m \u001b[0mnp\u001b[0m\u001b[0;34m.\u001b[0m\u001b[0munique\u001b[0m\u001b[0;34m(\u001b[0m\u001b[0;34m[\u001b[0m\u001b[0ma\u001b[0m \u001b[0;32mfor\u001b[0m \u001b[0ma\u001b[0m \u001b[0;32min\u001b[0m \u001b[0mneed_cols\u001b[0m \u001b[0;32mif\u001b[0m \u001b[0ma\u001b[0m \u001b[0;32mis\u001b[0m \u001b[0;32mnot\u001b[0m \u001b[0;32mNone\u001b[0m\u001b[0;34m]\u001b[0m\u001b[0;34m)\u001b[0m\u001b[0;34m.\u001b[0m\u001b[0mtolist\u001b[0m\u001b[0;34m(\u001b[0m\u001b[0;34m)\u001b[0m\u001b[0;34m\u001b[0m\u001b[0;34m\u001b[0m\u001b[0m\n\u001b[0m\u001b[1;32m    551\u001b[0m     \u001b[0mdata\u001b[0m \u001b[0;34m=\u001b[0m \u001b[0mdata\u001b[0m\u001b[0;34m[\u001b[0m\u001b[0mcols\u001b[0m\u001b[0;34m]\u001b[0m\u001b[0;34m\u001b[0m\u001b[0;34m\u001b[0m\u001b[0m\n\u001b[1;32m    552\u001b[0m \u001b[0;34m\u001b[0m\u001b[0m\n",
      "\u001b[0;32m<__array_function__ internals>\u001b[0m in \u001b[0;36munique\u001b[0;34m(*args, **kwargs)\u001b[0m\n",
      "\u001b[0;32m~/anaconda3/lib/python3.7/site-packages/numpy/lib/arraysetops.py\u001b[0m in \u001b[0;36munique\u001b[0;34m(ar, return_index, return_inverse, return_counts, axis)\u001b[0m\n\u001b[1;32m    260\u001b[0m     \u001b[0mar\u001b[0m \u001b[0;34m=\u001b[0m \u001b[0mnp\u001b[0m\u001b[0;34m.\u001b[0m\u001b[0masanyarray\u001b[0m\u001b[0;34m(\u001b[0m\u001b[0mar\u001b[0m\u001b[0;34m)\u001b[0m\u001b[0;34m\u001b[0m\u001b[0;34m\u001b[0m\u001b[0m\n\u001b[1;32m    261\u001b[0m     \u001b[0;32mif\u001b[0m \u001b[0maxis\u001b[0m \u001b[0;32mis\u001b[0m \u001b[0;32mNone\u001b[0m\u001b[0;34m:\u001b[0m\u001b[0;34m\u001b[0m\u001b[0;34m\u001b[0m\u001b[0m\n\u001b[0;32m--> 262\u001b[0;31m         \u001b[0mret\u001b[0m \u001b[0;34m=\u001b[0m \u001b[0m_unique1d\u001b[0m\u001b[0;34m(\u001b[0m\u001b[0mar\u001b[0m\u001b[0;34m,\u001b[0m \u001b[0mreturn_index\u001b[0m\u001b[0;34m,\u001b[0m \u001b[0mreturn_inverse\u001b[0m\u001b[0;34m,\u001b[0m \u001b[0mreturn_counts\u001b[0m\u001b[0;34m)\u001b[0m\u001b[0;34m\u001b[0m\u001b[0;34m\u001b[0m\u001b[0m\n\u001b[0m\u001b[1;32m    263\u001b[0m         \u001b[0;32mreturn\u001b[0m \u001b[0m_unpack_tuple\u001b[0m\u001b[0;34m(\u001b[0m\u001b[0mret\u001b[0m\u001b[0;34m)\u001b[0m\u001b[0;34m\u001b[0m\u001b[0;34m\u001b[0m\u001b[0m\n\u001b[1;32m    264\u001b[0m \u001b[0;34m\u001b[0m\u001b[0m\n",
      "\u001b[0;32m~/anaconda3/lib/python3.7/site-packages/numpy/lib/arraysetops.py\u001b[0m in \u001b[0;36m_unique1d\u001b[0;34m(ar, return_index, return_inverse, return_counts)\u001b[0m\n\u001b[1;32m    308\u001b[0m         \u001b[0maux\u001b[0m \u001b[0;34m=\u001b[0m \u001b[0mar\u001b[0m\u001b[0;34m[\u001b[0m\u001b[0mperm\u001b[0m\u001b[0;34m]\u001b[0m\u001b[0;34m\u001b[0m\u001b[0;34m\u001b[0m\u001b[0m\n\u001b[1;32m    309\u001b[0m     \u001b[0;32melse\u001b[0m\u001b[0;34m:\u001b[0m\u001b[0;34m\u001b[0m\u001b[0;34m\u001b[0m\u001b[0m\n\u001b[0;32m--> 310\u001b[0;31m         \u001b[0mar\u001b[0m\u001b[0;34m.\u001b[0m\u001b[0msort\u001b[0m\u001b[0;34m(\u001b[0m\u001b[0;34m)\u001b[0m\u001b[0;34m\u001b[0m\u001b[0;34m\u001b[0m\u001b[0m\n\u001b[0m\u001b[1;32m    311\u001b[0m         \u001b[0maux\u001b[0m \u001b[0;34m=\u001b[0m \u001b[0mar\u001b[0m\u001b[0;34m\u001b[0m\u001b[0;34m\u001b[0m\u001b[0m\n\u001b[1;32m    312\u001b[0m     \u001b[0mmask\u001b[0m \u001b[0;34m=\u001b[0m \u001b[0mnp\u001b[0m\u001b[0;34m.\u001b[0m\u001b[0mempty\u001b[0m\u001b[0;34m(\u001b[0m\u001b[0maux\u001b[0m\u001b[0;34m.\u001b[0m\u001b[0mshape\u001b[0m\u001b[0;34m,\u001b[0m \u001b[0mdtype\u001b[0m\u001b[0;34m=\u001b[0m\u001b[0mnp\u001b[0m\u001b[0;34m.\u001b[0m\u001b[0mbool_\u001b[0m\u001b[0;34m)\u001b[0m\u001b[0;34m\u001b[0m\u001b[0;34m\u001b[0m\u001b[0m\n",
      "\u001b[0;31mTypeError\u001b[0m: '<' not supported between instances of 'list' and 'str'"
     ]
    }
   ],
   "source": [
    "sns.set_style(\"darkgrid\")\n",
    "sns.lmplot(y = ['BLACK_RTD_TEMP_GLASS_OUT','AG_RTD_TEMP_GLASS_OUT','BLACK_RTD_TEMP_GLASS_END', 'PHOS_R_DRY_TEMP_GLASS_OUT', 'PHOS_R_DRY_TEMP_HOOD_MAX', 'DIELEC_FIRE_EXHAUST_HEAT3'], x = \"SQ\", data = result[:100])\n",
    "plt.show()"
   ]
  },
  {
   "cell_type": "code",
   "execution_count": 43,
   "metadata": {},
   "outputs": [
    {
     "data": {
      "image/png": "[encoded data removed]",
      "text/plain": [
       "<Figure size 360x360 with 1 Axes>"
      ]
     },
     "metadata": {},
     "output_type": "display_data"
    }
   ],
   "source": [
    "sns.set_style(\"darkgrid\")\n",
    "sns.lmplot(y = 'AG_RTD_TEMP_GLASS_OUT', x = \"SQ\", data = result[:500])\n",
    "plt.show()"
   ]
  },
  {
   "cell_type": "code",
   "execution_count": 44,
   "metadata": {},
   "outputs": [
    {
     "data": {
      "image/png": "[encoded data removed]",
      "text/plain": [
       "<Figure size 360x360 with 1 Axes>"
      ]
     },
     "metadata": {},
     "output_type": "display_data"
    }
   ],
   "source": [
    "sns.set_style(\"darkgrid\")\n",
    "sns.lmplot(y = 'BLACK_RTD_TEMP_GLASS_END', x = \"SQ\", data = result[:500])\n",
    "plt.show()"
   ]
  },
  {
   "cell_type": "code",
   "execution_count": 46,
   "metadata": {},
   "outputs": [
    {
     "data": {
      "image/png": "[encoded data removed]",
      "text/plain": [
       "<Figure size 360x360 with 1 Axes>"
      ]
     },
     "metadata": {},
     "output_type": "display_data"
    }
   ],
   "source": [
    "sns.set_style(\"darkgrid\")\n",
    "sns.lmplot(y = 'PHOS_R_DRY_TEMP_GLASS_OUT', x = \"SQ\", data = result[:500])\n",
    "plt.show()"
   ]
  },
  {
   "cell_type": "code",
   "execution_count": 47,
   "metadata": {},
   "outputs": [
    {
     "data": {
      "image/png": "[encoded data removed]",
      "text/plain": [
       "<Figure size 360x360 with 1 Axes>"
      ]
     },
     "metadata": {},
     "output_type": "display_data"
    }
   ],
   "source": [
    "sns.set_style(\"darkgrid\")\n",
    "sns.lmplot(y = 'PHOS_R_DRY_TEMP_HOOD_MAX', x = \"SQ\", data = result[:500])\n",
    "plt.show()"
   ]
  },
  {
   "cell_type": "code",
   "execution_count": 48,
   "metadata": {},
   "outputs": [
    {
     "data": {
      "image/png": "[encoded data removed]",
      "text/plain": [
       "<Figure size 360x360 with 1 Axes>"
      ]
     },
     "metadata": {},
     "output_type": "display_data"
    }
   ],
   "source": [
    "sns.set_style(\"darkgrid\")\n",
    "sns.lmplot(y =  'DIELEC_FIRE_EXHAUST_HEAT3', x = \"SQ\", data = result[:500])\n",
    "plt.show()"
   ]
  },
  {
   "cell_type": "code",
   "execution_count": null,
   "metadata": {},
   "outputs": [],
   "source": []
  }
 ],
 "metadata": {
  "kernelspec": {
   "display_name": "Python 3",
   "language": "python",
   "name": "python3"
  },
  "language_info": {
   "codemirror_mode": {
    "name": "ipython",
    "version": 3
   },
   "file_extension": ".py",
   "mimetype": "text/x-python",
   "name": "python",
   "nbconvert_exporter": "python",
   "pygments_lexer": "ipython3",
   "version": "3.7.6"
  }
 },
 "nbformat": 4,
 "nbformat_minor": 2
}
