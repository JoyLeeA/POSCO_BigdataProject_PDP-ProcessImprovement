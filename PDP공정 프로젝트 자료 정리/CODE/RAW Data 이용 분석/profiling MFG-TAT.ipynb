{
 "cells": [
  {
   "cell_type": "code",
   "execution_count": 1,
   "metadata": {},
   "outputs": [],
   "source": [
    "import pandas_profiling\n"
   ]
  },
  {
   "cell_type": "code",
   "execution_count": 2,
   "metadata": {},
   "outputs": [],
   "source": [
    "import pandas as pd\n",
    "import numpy as np"
   ]
  },
  {
   "cell_type": "code",
   "execution_count": 3,
   "metadata": {},
   "outputs": [
    {
     "data": {
      "text/html": [
       "<div>\n",
       "<style scoped>\n",
       "    .dataframe tbody tr th:only-of-type {\n",
       "        vertical-align: middle;\n",
       "    }\n",
       "\n",
       "    .dataframe tbody tr th {\n",
       "        vertical-align: top;\n",
       "    }\n",
       "\n",
       "    .dataframe thead th {\n",
       "        text-align: right;\n",
       "    }\n",
       "</style>\n",
       "<table border=\"1\" class=\"dataframe\">\n",
       "  <thead>\n",
       "    <tr style=\"text-align: right;\">\n",
       "      <th></th>\n",
       "      <th>JUDGE</th>\n",
       "      <th>LOT_ID</th>\n",
       "      <th>PANEL_ID</th>\n",
       "      <th>TIME_1BLACK</th>\n",
       "      <th>TIME_2AG</th>\n",
       "      <th>TIME_3BUS</th>\n",
       "      <th>TIME_4DIELEC</th>\n",
       "      <th>TIME_5MGO</th>\n",
       "      <th>TIME_6PHOS</th>\n",
       "      <th>TIME_7PASTE</th>\n",
       "      <th>...</th>\n",
       "      <th>TAT_4DIELEC_FIRE</th>\n",
       "      <th>TAT_5MGO</th>\n",
       "      <th>TAT_6PHOS_1R_1DISPENSER</th>\n",
       "      <th>TAT_6PHOS_1R_2DRY</th>\n",
       "      <th>TAT_6PHOS_2G_1DISPENSER</th>\n",
       "      <th>TAT_6PHOS_2G_2DRY</th>\n",
       "      <th>TAT_6PHOS_3B_1DISPENSER</th>\n",
       "      <th>TAT_6PHOS_4FIRE</th>\n",
       "      <th>TAT_7PASTE</th>\n",
       "      <th>TAT_8AGING</th>\n",
       "    </tr>\n",
       "  </thead>\n",
       "  <tbody>\n",
       "    <tr>\n",
       "      <th>0</th>\n",
       "      <td>양품</td>\n",
       "      <td>LOT-101</td>\n",
       "      <td>PNL-01</td>\n",
       "      <td>2019-04-01 0:01</td>\n",
       "      <td>2019-04-01 5:21</td>\n",
       "      <td>2019-04-01 11:01</td>\n",
       "      <td>2019-04-06 13:41</td>\n",
       "      <td>2019-04-11 3:41</td>\n",
       "      <td>2019-04-03 20:20</td>\n",
       "      <td>2019-04-11 12:41</td>\n",
       "      <td>...</td>\n",
       "      <td>6447.0</td>\n",
       "      <td>530.0</td>\n",
       "      <td>76.0</td>\n",
       "      <td>333.0</td>\n",
       "      <td>88.0</td>\n",
       "      <td>396.0</td>\n",
       "      <td>86.0</td>\n",
       "      <td>7140.0</td>\n",
       "      <td>0.0</td>\n",
       "      <td>10074.0</td>\n",
       "    </tr>\n",
       "    <tr>\n",
       "      <th>1</th>\n",
       "      <td>양품</td>\n",
       "      <td>LOT-101</td>\n",
       "      <td>PNL-02</td>\n",
       "      <td>2019-04-01 0:45</td>\n",
       "      <td>2019-04-01 6:05</td>\n",
       "      <td>2019-04-01 11:45</td>\n",
       "      <td>2019-04-06 14:25</td>\n",
       "      <td>2019-04-11 4:25</td>\n",
       "      <td>2019-04-03 21:04</td>\n",
       "      <td>2019-04-11 13:25</td>\n",
       "      <td>...</td>\n",
       "      <td>6600.0</td>\n",
       "      <td>530.0</td>\n",
       "      <td>80.0</td>\n",
       "      <td>438.0</td>\n",
       "      <td>82.0</td>\n",
       "      <td>381.0</td>\n",
       "      <td>84.0</td>\n",
       "      <td>6956.0</td>\n",
       "      <td>0.0</td>\n",
       "      <td>10075.0</td>\n",
       "    </tr>\n",
       "    <tr>\n",
       "      <th>2</th>\n",
       "      <td>양품</td>\n",
       "      <td>LOT-101</td>\n",
       "      <td>PNL-03</td>\n",
       "      <td>2019-04-01 1:29</td>\n",
       "      <td>2019-04-01 6:49</td>\n",
       "      <td>2019-04-01 12:29</td>\n",
       "      <td>2019-04-06 15:09</td>\n",
       "      <td>2019-04-11 5:09</td>\n",
       "      <td>2019-04-03 21:48</td>\n",
       "      <td>2019-04-11 14:09</td>\n",
       "      <td>...</td>\n",
       "      <td>6597.0</td>\n",
       "      <td>530.0</td>\n",
       "      <td>80.0</td>\n",
       "      <td>420.0</td>\n",
       "      <td>92.0</td>\n",
       "      <td>396.0</td>\n",
       "      <td>86.0</td>\n",
       "      <td>6840.0</td>\n",
       "      <td>0.0</td>\n",
       "      <td>10645.0</td>\n",
       "    </tr>\n",
       "    <tr>\n",
       "      <th>3</th>\n",
       "      <td>양품</td>\n",
       "      <td>LOT-101</td>\n",
       "      <td>PNL-04</td>\n",
       "      <td>2019-04-01 2:13</td>\n",
       "      <td>2019-04-01 7:33</td>\n",
       "      <td>2019-04-01 13:13</td>\n",
       "      <td>2019-04-06 15:53</td>\n",
       "      <td>2019-04-11 5:53</td>\n",
       "      <td>2019-04-03 22:32</td>\n",
       "      <td>2019-04-11 14:53</td>\n",
       "      <td>...</td>\n",
       "      <td>6420.0</td>\n",
       "      <td>530.0</td>\n",
       "      <td>78.0</td>\n",
       "      <td>429.0</td>\n",
       "      <td>78.0</td>\n",
       "      <td>399.0</td>\n",
       "      <td>90.0</td>\n",
       "      <td>6720.0</td>\n",
       "      <td>0.0</td>\n",
       "      <td>10076.0</td>\n",
       "    </tr>\n",
       "    <tr>\n",
       "      <th>4</th>\n",
       "      <td>양품</td>\n",
       "      <td>LOT-101</td>\n",
       "      <td>PNL-05</td>\n",
       "      <td>2019-04-01 2:58</td>\n",
       "      <td>2019-04-01 8:18</td>\n",
       "      <td>2019-04-01 13:58</td>\n",
       "      <td>2019-04-06 16:38</td>\n",
       "      <td>2019-04-11 6:38</td>\n",
       "      <td>2019-04-03 23:17</td>\n",
       "      <td>2019-04-11 15:38</td>\n",
       "      <td>...</td>\n",
       "      <td>6453.0</td>\n",
       "      <td>540.0</td>\n",
       "      <td>76.0</td>\n",
       "      <td>363.0</td>\n",
       "      <td>82.0</td>\n",
       "      <td>393.0</td>\n",
       "      <td>84.0</td>\n",
       "      <td>7110.0</td>\n",
       "      <td>0.0</td>\n",
       "      <td>10074.0</td>\n",
       "    </tr>\n",
       "  </tbody>\n",
       "</table>\n",
       "<p>5 rows × 28 columns</p>\n",
       "</div>"
      ],
      "text/plain": [
       "  JUDGE   LOT_ID PANEL_ID      TIME_1BLACK         TIME_2AG         TIME_3BUS  \\\n",
       "0    양품  LOT-101   PNL-01  2019-04-01 0:01  2019-04-01 5:21  2019-04-01 11:01   \n",
       "1    양품  LOT-101   PNL-02  2019-04-01 0:45  2019-04-01 6:05  2019-04-01 11:45   \n",
       "2    양품  LOT-101   PNL-03  2019-04-01 1:29  2019-04-01 6:49  2019-04-01 12:29   \n",
       "3    양품  LOT-101   PNL-04  2019-04-01 2:13  2019-04-01 7:33  2019-04-01 13:13   \n",
       "4    양품  LOT-101   PNL-05  2019-04-01 2:58  2019-04-01 8:18  2019-04-01 13:58   \n",
       "\n",
       "       TIME_4DIELEC        TIME_5MGO        TIME_6PHOS       TIME_7PASTE  ...  \\\n",
       "0  2019-04-06 13:41  2019-04-11 3:41  2019-04-03 20:20  2019-04-11 12:41  ...   \n",
       "1  2019-04-06 14:25  2019-04-11 4:25  2019-04-03 21:04  2019-04-11 13:25  ...   \n",
       "2  2019-04-06 15:09  2019-04-11 5:09  2019-04-03 21:48  2019-04-11 14:09  ...   \n",
       "3  2019-04-06 15:53  2019-04-11 5:53  2019-04-03 22:32  2019-04-11 14:53  ...   \n",
       "4  2019-04-06 16:38  2019-04-11 6:38  2019-04-03 23:17  2019-04-11 15:38  ...   \n",
       "\n",
       "  TAT_4DIELEC_FIRE  TAT_5MGO  TAT_6PHOS_1R_1DISPENSER  TAT_6PHOS_1R_2DRY  \\\n",
       "0           6447.0     530.0                     76.0              333.0   \n",
       "1           6600.0     530.0                     80.0              438.0   \n",
       "2           6597.0     530.0                     80.0              420.0   \n",
       "3           6420.0     530.0                     78.0              429.0   \n",
       "4           6453.0     540.0                     76.0              363.0   \n",
       "\n",
       "   TAT_6PHOS_2G_1DISPENSER  TAT_6PHOS_2G_2DRY  TAT_6PHOS_3B_1DISPENSER  \\\n",
       "0                     88.0              396.0                     86.0   \n",
       "1                     82.0              381.0                     84.0   \n",
       "2                     92.0              396.0                     86.0   \n",
       "3                     78.0              399.0                     90.0   \n",
       "4                     82.0              393.0                     84.0   \n",
       "\n",
       "   TAT_6PHOS_4FIRE  TAT_7PASTE  TAT_8AGING  \n",
       "0           7140.0         0.0     10074.0  \n",
       "1           6956.0         0.0     10075.0  \n",
       "2           6840.0         0.0     10645.0  \n",
       "3           6720.0         0.0     10076.0  \n",
       "4           7110.0         0.0     10074.0  \n",
       "\n",
       "[5 rows x 28 columns]"
      ]
     },
     "execution_count": 3,
     "metadata": {},
     "output_type": "execute_result"
    }
   ],
   "source": [
    "df_raw = pd.read_csv('/home/pirl/빅데이터 프로젝트/raw data/MFG_TAT.csv', engine='python', encoding='EUC-KR')\n",
    "df_raw.head()"
   ]
  },
  {
   "cell_type": "code",
   "execution_count": 5,
   "metadata": {},
   "outputs": [
    {
     "data": {
      "application/vnd.jupyter.widget-view+json": {
       "model_id": "5ee73ced293641bca7e3059399937396",
       "version_major": 2,
       "version_minor": 0
      },
      "text/plain": [
       "HBox(children=(FloatProgress(value=0.0, description='variables', max=28.0, style=ProgressStyle(description_wid…"
      ]
     },
     "metadata": {},
     "output_type": "display_data"
    },
    {
     "name": "stdout",
     "output_type": "stream",
     "text": [
      "\n"
     ]
    },
    {
     "data": {
      "application/vnd.jupyter.widget-view+json": {
       "model_id": "3c49d18fa54f4d59938343f760dde430",
       "version_major": 2,
       "version_minor": 0
      },
      "text/plain": [
       "HBox(children=(FloatProgress(value=0.0, description='correlations', max=6.0, style=ProgressStyle(description_w…"
      ]
     },
     "metadata": {},
     "output_type": "display_data"
    },
    {
     "name": "stdout",
     "output_type": "stream",
     "text": [
      "\n"
     ]
    },
    {
     "data": {
      "application/vnd.jupyter.widget-view+json": {
       "model_id": "f9b59dc7acdb4ad99c8cee5df97cc63c",
       "version_major": 2,
       "version_minor": 0
      },
      "text/plain": [
       "HBox(children=(FloatProgress(value=0.0, description='interactions [continuous]', max=256.0, style=ProgressStyl…"
      ]
     },
     "metadata": {},
     "output_type": "display_data"
    },
    {
     "name": "stdout",
     "output_type": "stream",
     "text": [
      "\n"
     ]
    },
    {
     "data": {
      "application/vnd.jupyter.widget-view+json": {
       "model_id": "726b81972efe45f7a684b46ac75ef9e8",
       "version_major": 2,
       "version_minor": 0
      },
      "text/plain": [
       "HBox(children=(FloatProgress(value=0.0, description='table', max=1.0, style=ProgressStyle(description_width='i…"
      ]
     },
     "metadata": {},
     "output_type": "display_data"
    },
    {
     "name": "stdout",
     "output_type": "stream",
     "text": [
      "\n"
     ]
    },
    {
     "data": {
      "application/vnd.jupyter.widget-view+json": {
       "model_id": "a22ef519982d47e88165fb0c7a8c6e0a",
       "version_major": 2,
       "version_minor": 0
      },
      "text/plain": [
       "HBox(children=(FloatProgress(value=0.0, description='missing', max=4.0, style=ProgressStyle(description_width=…"
      ]
     },
     "metadata": {},
     "output_type": "display_data"
    },
    {
     "name": "stdout",
     "output_type": "stream",
     "text": [
      "\n"
     ]
    },
    {
     "data": {
      "application/vnd.jupyter.widget-view+json": {
       "model_id": "d37dfc7c8e3f40d3a6f9f6ec6293ea14",
       "version_major": 2,
       "version_minor": 0
      },
      "text/plain": [
       "HBox(children=(FloatProgress(value=0.0, description='warnings', max=3.0, style=ProgressStyle(description_width…"
      ]
     },
     "metadata": {},
     "output_type": "display_data"
    },
    {
     "name": "stdout",
     "output_type": "stream",
     "text": [
      "\n"
     ]
    },
    {
     "data": {
      "application/vnd.jupyter.widget-view+json": {
       "model_id": "1781eba3bcf744bf90b6cbb07e20d9d8",
       "version_major": 2,
       "version_minor": 0
      },
      "text/plain": [
       "HBox(children=(FloatProgress(value=0.0, description='package', max=1.0, style=ProgressStyle(description_width=…"
      ]
     },
     "metadata": {},
     "output_type": "display_data"
    },
    {
     "name": "stdout",
     "output_type": "stream",
     "text": [
      "\n"
     ]
    },
    {
     "data": {
      "application/vnd.jupyter.widget-view+json": {
       "model_id": "386a9f01acb64c36b650d40ce64265f2",
       "version_major": 2,
       "version_minor": 0
      },
      "text/plain": [
       "HBox(children=(FloatProgress(value=0.0, description='build report structure', max=1.0, style=ProgressStyle(des…"
      ]
     },
     "metadata": {},
     "output_type": "display_data"
    },
    {
     "name": "stdout",
     "output_type": "stream",
     "text": [
      "\n"
     ]
    }
   ],
   "source": [
    "pr = df_raw.profile_report()\n",
    "pr.to_file('./pr_report_tat.html')"
   ]
  },
  {
   "cell_type": "code",
   "execution_count": null,
   "metadata": {},
   "outputs": [],
   "source": []
  }
 ],
 "metadata": {
  "kernelspec": {
   "display_name": "Python 3",
   "language": "python",
   "name": "python3"
  },
  "language_info": {
   "codemirror_mode": {
    "name": "ipython",
    "version": 3
   },
   "file_extension": ".py",
   "mimetype": "text/x-python",
   "name": "python",
   "nbconvert_exporter": "python",
   "pygments_lexer": "ipython3",
   "version": "3.7.6"
  }
 },
 "nbformat": 4,
 "nbformat_minor": 2
}
