{
 "cells": [
  {
   "cell_type": "code",
   "execution_count": 1,
   "metadata": {},
   "outputs": [],
   "source": [
    "import pandas_profiling\n"
   ]
  },
  {
   "cell_type": "code",
   "execution_count": 2,
   "metadata": {},
   "outputs": [],
   "source": [
    "import pandas as pd\n",
    "import numpy as np"
   ]
  },
  {
   "cell_type": "code",
   "execution_count": 3,
   "metadata": {},
   "outputs": [
    {
     "data": {
      "text/html": [
       "<div>\n",
       "<style scoped>\n",
       "    .dataframe tbody tr th:only-of-type {\n",
       "        vertical-align: middle;\n",
       "    }\n",
       "\n",
       "    .dataframe tbody tr th {\n",
       "        vertical-align: top;\n",
       "    }\n",
       "\n",
       "    .dataframe thead th {\n",
       "        text-align: right;\n",
       "    }\n",
       "</style>\n",
       "<table border=\"1\" class=\"dataframe\">\n",
       "  <thead>\n",
       "    <tr style=\"text-align: right;\">\n",
       "      <th></th>\n",
       "      <th>JUDGE</th>\n",
       "      <th>LOT_ID</th>\n",
       "      <th>PANEL_ID</th>\n",
       "      <th>DATE_1BLACK</th>\n",
       "      <th>TIME_1BLACK</th>\n",
       "      <th>TIME_2AG</th>\n",
       "      <th>TIME_3BUS</th>\n",
       "      <th>TIME_4DIELEC</th>\n",
       "      <th>TIME_5MGO</th>\n",
       "      <th>TIME_6PHOS</th>\n",
       "      <th>...</th>\n",
       "      <th>MC_4DIELEC_1FIRE</th>\n",
       "      <th>MC_5MGO</th>\n",
       "      <th>MC_6PHOS_1R_1DISPENSER</th>\n",
       "      <th>MC_6PHOS_1R_2DRY</th>\n",
       "      <th>MC_6PHOS_2G_1DISPENSER</th>\n",
       "      <th>MC_6PHOS_2G_2DRY</th>\n",
       "      <th>MC_6PHOS_3B_1DISPENSER</th>\n",
       "      <th>MC_6PHOS_4FIRE</th>\n",
       "      <th>MC_7PASTE</th>\n",
       "      <th>MC_8AGING</th>\n",
       "    </tr>\n",
       "  </thead>\n",
       "  <tbody>\n",
       "    <tr>\n",
       "      <th>0</th>\n",
       "      <td>양품</td>\n",
       "      <td>LOT-101</td>\n",
       "      <td>PNL-01</td>\n",
       "      <td>2019-04-01</td>\n",
       "      <td>2019-04-01 0:01</td>\n",
       "      <td>2019-04-01 5:21</td>\n",
       "      <td>2019-04-01 11:01</td>\n",
       "      <td>2019-04-06 13:41</td>\n",
       "      <td>2019-04-11 3:41</td>\n",
       "      <td>2019-04-03 20:20</td>\n",
       "      <td>...</td>\n",
       "      <td>3호기</td>\n",
       "      <td>1호기</td>\n",
       "      <td>1호기</td>\n",
       "      <td>2호기</td>\n",
       "      <td>2호기</td>\n",
       "      <td>2호기</td>\n",
       "      <td>1호기</td>\n",
       "      <td>3호기</td>\n",
       "      <td>1호기</td>\n",
       "      <td>2호기</td>\n",
       "    </tr>\n",
       "    <tr>\n",
       "      <th>1</th>\n",
       "      <td>양품</td>\n",
       "      <td>LOT-101</td>\n",
       "      <td>PNL-02</td>\n",
       "      <td>2019-04-01</td>\n",
       "      <td>2019-04-01 0:45</td>\n",
       "      <td>2019-04-01 6:05</td>\n",
       "      <td>2019-04-01 11:45</td>\n",
       "      <td>2019-04-06 14:25</td>\n",
       "      <td>2019-04-11 4:25</td>\n",
       "      <td>2019-04-03 21:04</td>\n",
       "      <td>...</td>\n",
       "      <td>3호기</td>\n",
       "      <td>1호기</td>\n",
       "      <td>1호기</td>\n",
       "      <td>2호기</td>\n",
       "      <td>2호기</td>\n",
       "      <td>2호기</td>\n",
       "      <td>1호기</td>\n",
       "      <td>3호기</td>\n",
       "      <td>1호기</td>\n",
       "      <td>2호기</td>\n",
       "    </tr>\n",
       "    <tr>\n",
       "      <th>2</th>\n",
       "      <td>양품</td>\n",
       "      <td>LOT-101</td>\n",
       "      <td>PNL-03</td>\n",
       "      <td>2019-04-01</td>\n",
       "      <td>2019-04-01 1:29</td>\n",
       "      <td>2019-04-01 6:49</td>\n",
       "      <td>2019-04-01 12:29</td>\n",
       "      <td>2019-04-06 15:09</td>\n",
       "      <td>2019-04-11 5:09</td>\n",
       "      <td>2019-04-03 21:48</td>\n",
       "      <td>...</td>\n",
       "      <td>3호기</td>\n",
       "      <td>1호기</td>\n",
       "      <td>1호기</td>\n",
       "      <td>2호기</td>\n",
       "      <td>2호기</td>\n",
       "      <td>2호기</td>\n",
       "      <td>1호기</td>\n",
       "      <td>3호기</td>\n",
       "      <td>1호기</td>\n",
       "      <td>2호기</td>\n",
       "    </tr>\n",
       "    <tr>\n",
       "      <th>3</th>\n",
       "      <td>양품</td>\n",
       "      <td>LOT-101</td>\n",
       "      <td>PNL-04</td>\n",
       "      <td>2019-04-01</td>\n",
       "      <td>2019-04-01 2:13</td>\n",
       "      <td>2019-04-01 7:33</td>\n",
       "      <td>2019-04-01 13:13</td>\n",
       "      <td>2019-04-06 15:53</td>\n",
       "      <td>2019-04-11 5:53</td>\n",
       "      <td>2019-04-03 22:32</td>\n",
       "      <td>...</td>\n",
       "      <td>3호기</td>\n",
       "      <td>1호기</td>\n",
       "      <td>1호기</td>\n",
       "      <td>2호기</td>\n",
       "      <td>2호기</td>\n",
       "      <td>2호기</td>\n",
       "      <td>1호기</td>\n",
       "      <td>3호기</td>\n",
       "      <td>1호기</td>\n",
       "      <td>2호기</td>\n",
       "    </tr>\n",
       "    <tr>\n",
       "      <th>4</th>\n",
       "      <td>양품</td>\n",
       "      <td>LOT-101</td>\n",
       "      <td>PNL-05</td>\n",
       "      <td>2019-04-01</td>\n",
       "      <td>2019-04-01 2:58</td>\n",
       "      <td>2019-04-01 8:18</td>\n",
       "      <td>2019-04-01 13:58</td>\n",
       "      <td>2019-04-06 16:38</td>\n",
       "      <td>2019-04-11 6:38</td>\n",
       "      <td>2019-04-03 23:17</td>\n",
       "      <td>...</td>\n",
       "      <td>3호기</td>\n",
       "      <td>1호기</td>\n",
       "      <td>1호기</td>\n",
       "      <td>2호기</td>\n",
       "      <td>2호기</td>\n",
       "      <td>2호기</td>\n",
       "      <td>1호기</td>\n",
       "      <td>3호기</td>\n",
       "      <td>1호기</td>\n",
       "      <td>2호기</td>\n",
       "    </tr>\n",
       "  </tbody>\n",
       "</table>\n",
       "<p>5 rows × 29 columns</p>\n",
       "</div>"
      ],
      "text/plain": [
       "  JUDGE   LOT_ID PANEL_ID DATE_1BLACK      TIME_1BLACK         TIME_2AG  \\\n",
       "0    양품  LOT-101   PNL-01  2019-04-01  2019-04-01 0:01  2019-04-01 5:21   \n",
       "1    양품  LOT-101   PNL-02  2019-04-01  2019-04-01 0:45  2019-04-01 6:05   \n",
       "2    양품  LOT-101   PNL-03  2019-04-01  2019-04-01 1:29  2019-04-01 6:49   \n",
       "3    양품  LOT-101   PNL-04  2019-04-01  2019-04-01 2:13  2019-04-01 7:33   \n",
       "4    양품  LOT-101   PNL-05  2019-04-01  2019-04-01 2:58  2019-04-01 8:18   \n",
       "\n",
       "          TIME_3BUS      TIME_4DIELEC        TIME_5MGO        TIME_6PHOS  ...  \\\n",
       "0  2019-04-01 11:01  2019-04-06 13:41  2019-04-11 3:41  2019-04-03 20:20  ...   \n",
       "1  2019-04-01 11:45  2019-04-06 14:25  2019-04-11 4:25  2019-04-03 21:04  ...   \n",
       "2  2019-04-01 12:29  2019-04-06 15:09  2019-04-11 5:09  2019-04-03 21:48  ...   \n",
       "3  2019-04-01 13:13  2019-04-06 15:53  2019-04-11 5:53  2019-04-03 22:32  ...   \n",
       "4  2019-04-01 13:58  2019-04-06 16:38  2019-04-11 6:38  2019-04-03 23:17  ...   \n",
       "\n",
       "  MC_4DIELEC_1FIRE MC_5MGO MC_6PHOS_1R_1DISPENSER MC_6PHOS_1R_2DRY  \\\n",
       "0              3호기     1호기                    1호기              2호기   \n",
       "1              3호기     1호기                    1호기              2호기   \n",
       "2              3호기     1호기                    1호기              2호기   \n",
       "3              3호기     1호기                    1호기              2호기   \n",
       "4              3호기     1호기                    1호기              2호기   \n",
       "\n",
       "  MC_6PHOS_2G_1DISPENSER MC_6PHOS_2G_2DRY MC_6PHOS_3B_1DISPENSER  \\\n",
       "0                    2호기              2호기                    1호기   \n",
       "1                    2호기              2호기                    1호기   \n",
       "2                    2호기              2호기                    1호기   \n",
       "3                    2호기              2호기                    1호기   \n",
       "4                    2호기              2호기                    1호기   \n",
       "\n",
       "  MC_6PHOS_4FIRE MC_7PASTE MC_8AGING  \n",
       "0            3호기       1호기       2호기  \n",
       "1            3호기       1호기       2호기  \n",
       "2            3호기       1호기       2호기  \n",
       "3            3호기       1호기       2호기  \n",
       "4            3호기       1호기       2호기  \n",
       "\n",
       "[5 rows x 29 columns]"
      ]
     },
     "execution_count": 3,
     "metadata": {},
     "output_type": "execute_result"
    }
   ],
   "source": [
    "df_raw = pd.read_csv('/home/pirl/빅데이터 프로젝트/raw data/MFG_MACHINE.csv', engine='python', encoding='EUC-KR')\n",
    "df_raw.head()"
   ]
  },
  {
   "cell_type": "code",
   "execution_count": 5,
   "metadata": {},
   "outputs": [
    {
     "data": {
      "application/vnd.jupyter.widget-view+json": {
       "model_id": "5cbc1e8ef03447398e62f0a9a21e63db",
       "version_major": 2,
       "version_minor": 0
      },
      "text/plain": [
       "HBox(children=(FloatProgress(value=0.0, description='variables', max=29.0, style=ProgressStyle(description_wid…"
      ]
     },
     "metadata": {},
     "output_type": "display_data"
    },
    {
     "name": "stdout",
     "output_type": "stream",
     "text": [
      "\n"
     ]
    },
    {
     "data": {
      "application/vnd.jupyter.widget-view+json": {
       "model_id": "a452dd7a8ce946fc8b3c565318e439cb",
       "version_major": 2,
       "version_minor": 0
      },
      "text/plain": [
       "HBox(children=(FloatProgress(value=0.0, description='correlations', max=6.0, style=ProgressStyle(description_w…"
      ]
     },
     "metadata": {},
     "output_type": "display_data"
    },
    {
     "name": "stdout",
     "output_type": "stream",
     "text": [
      "\n"
     ]
    },
    {
     "data": {
      "application/vnd.jupyter.widget-view+json": {
       "model_id": "ba1cc6bac3184cbbaa0334a7a2df2607",
       "version_major": 2,
       "version_minor": 0
      },
      "text/plain": [
       "HBox(children=(FloatProgress(value=1.0, bar_style='info', description='interactions [continuous]', max=1.0, st…"
      ]
     },
     "metadata": {},
     "output_type": "display_data"
    },
    {
     "name": "stdout",
     "output_type": "stream",
     "text": [
      "\n"
     ]
    },
    {
     "data": {
      "application/vnd.jupyter.widget-view+json": {
       "model_id": "6b6180ced4d549f6b080d4cc8131eade",
       "version_major": 2,
       "version_minor": 0
      },
      "text/plain": [
       "HBox(children=(FloatProgress(value=0.0, description='table', max=1.0, style=ProgressStyle(description_width='i…"
      ]
     },
     "metadata": {},
     "output_type": "display_data"
    },
    {
     "name": "stdout",
     "output_type": "stream",
     "text": [
      "\n"
     ]
    },
    {
     "data": {
      "application/vnd.jupyter.widget-view+json": {
       "model_id": "f8b2625a4f8346acb2f07d206da1242a",
       "version_major": 2,
       "version_minor": 0
      },
      "text/plain": [
       "HBox(children=(FloatProgress(value=0.0, description='missing', max=2.0, style=ProgressStyle(description_width=…"
      ]
     },
     "metadata": {},
     "output_type": "display_data"
    },
    {
     "name": "stdout",
     "output_type": "stream",
     "text": [
      "\n"
     ]
    },
    {
     "data": {
      "application/vnd.jupyter.widget-view+json": {
       "model_id": "d7913a99a5dd4c168b95940a75fce196",
       "version_major": 2,
       "version_minor": 0
      },
      "text/plain": [
       "HBox(children=(FloatProgress(value=0.0, description='warnings', max=3.0, style=ProgressStyle(description_width…"
      ]
     },
     "metadata": {},
     "output_type": "display_data"
    },
    {
     "name": "stdout",
     "output_type": "stream",
     "text": [
      "\n"
     ]
    },
    {
     "data": {
      "application/vnd.jupyter.widget-view+json": {
       "model_id": "c7a142a7dee24689893a016904c0c60d",
       "version_major": 2,
       "version_minor": 0
      },
      "text/plain": [
       "HBox(children=(FloatProgress(value=0.0, description='package', max=1.0, style=ProgressStyle(description_width=…"
      ]
     },
     "metadata": {},
     "output_type": "display_data"
    },
    {
     "name": "stdout",
     "output_type": "stream",
     "text": [
      "\n"
     ]
    },
    {
     "data": {
      "application/vnd.jupyter.widget-view+json": {
       "model_id": "a5b934f274634cb0baef5bd624febdb4",
       "version_major": 2,
       "version_minor": 0
      },
      "text/plain": [
       "HBox(children=(FloatProgress(value=0.0, description='build report structure', max=1.0, style=ProgressStyle(des…"
      ]
     },
     "metadata": {},
     "output_type": "display_data"
    },
    {
     "name": "stdout",
     "output_type": "stream",
     "text": [
      "\n"
     ]
    }
   ],
   "source": [
    "pr = df_raw.profile_report()\n",
    "pr.to_file('./pr_report_machine.html')"
   ]
  },
  {
   "cell_type": "code",
   "execution_count": null,
   "metadata": {},
   "outputs": [],
   "source": []
  }
 ],
 "metadata": {
  "kernelspec": {
   "display_name": "Python 3",
   "language": "python",
   "name": "python3"
  },
  "language_info": {
   "codemirror_mode": {
    "name": "ipython",
    "version": 3
   },
   "file_extension": ".py",
   "mimetype": "text/x-python",
   "name": "python",
   "nbconvert_exporter": "python",
   "pygments_lexer": "ipython3",
   "version": "3.7.6"
  }
 },
 "nbformat": 4,
 "nbformat_minor": 2
}
